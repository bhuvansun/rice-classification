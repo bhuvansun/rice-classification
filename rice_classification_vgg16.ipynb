{
  "cells": [
    {
      "cell_type": "markdown",
      "metadata": {
        "id": "view-in-github",
        "colab_type": "text"
      },
      "source": [
        "<a href=\"https://colab.research.google.com/github/bhuvansun/rice-classification/blob/main/rice_classification_vgg16.ipynb\" target=\"_parent\"><img src=\"https://colab.research.google.com/assets/colab-badge.svg\" alt=\"Open In Colab\"/></a>"
      ]
    },
    {
      "cell_type": "markdown",
      "metadata": {
        "id": "MzbY1wulvqbJ"
      },
      "source": [
        "# <b>1 <span style='color:#E71414'>|</span> Importing libraries</b>\n",
        "- **For DL Models**: tensorflow, keras\n",
        "- **For Data Manipulation**: numpy, sklearn, PIL\n",
        "- **For Data Visualization**: matplotlib, seaborn, plotly"
      ]
    },
    {
      "cell_type": "code",
      "execution_count": null,
      "metadata": {
        "colab": {
          "base_uri": "https://localhost:8080/"
        },
        "id": "LCjNXqXTv0-t",
        "outputId": "1d9c9c20-ece5-4827-f905-bd25b2381238"
      },
      "outputs": [
        {
          "name": "stdout",
          "output_type": "stream",
          "text": [
            "Looking in indexes: https://pypi.org/simple, https://us-python.pkg.dev/colab-wheels/public/simple/\n",
            "Collecting opendatasets\n",
            "  Downloading opendatasets-0.1.22-py3-none-any.whl (15 kB)\n",
            "Requirement already satisfied: tqdm in /usr/local/lib/python3.10/dist-packages (from opendatasets) (4.65.0)\n",
            "Requirement already satisfied: kaggle in /usr/local/lib/python3.10/dist-packages (from opendatasets) (1.5.13)\n",
            "Requirement already satisfied: click in /usr/local/lib/python3.10/dist-packages (from opendatasets) (8.1.3)\n",
            "Requirement already satisfied: six>=1.10 in /usr/local/lib/python3.10/dist-packages (from kaggle->opendatasets) (1.16.0)\n",
            "Requirement already satisfied: certifi in /usr/local/lib/python3.10/dist-packages (from kaggle->opendatasets) (2022.12.7)\n",
            "Requirement already satisfied: python-dateutil in /usr/local/lib/python3.10/dist-packages (from kaggle->opendatasets) (2.8.2)\n",
            "Requirement already satisfied: requests in /usr/local/lib/python3.10/dist-packages (from kaggle->opendatasets) (2.27.1)\n",
            "Requirement already satisfied: python-slugify in /usr/local/lib/python3.10/dist-packages (from kaggle->opendatasets) (8.0.1)\n",
            "Requirement already satisfied: urllib3 in /usr/local/lib/python3.10/dist-packages (from kaggle->opendatasets) (1.26.15)\n",
            "Requirement already satisfied: text-unidecode>=1.3 in /usr/local/lib/python3.10/dist-packages (from python-slugify->kaggle->opendatasets) (1.3)\n",
            "Requirement already satisfied: charset-normalizer~=2.0.0 in /usr/local/lib/python3.10/dist-packages (from requests->kaggle->opendatasets) (2.0.12)\n",
            "Requirement already satisfied: idna<4,>=2.5 in /usr/local/lib/python3.10/dist-packages (from requests->kaggle->opendatasets) (3.4)\n",
            "Installing collected packages: opendatasets\n",
            "Successfully installed opendatasets-0.1.22\n"
          ]
        }
      ],
      "source": [
        "!pip install opendatasets"
      ]
    },
    {
      "cell_type": "code",
      "execution_count": null,
      "metadata": {
        "execution": {
          "iopub.execute_input": "2022-04-30T21:10:09.277199Z",
          "iopub.status.busy": "2022-04-30T21:10:09.276672Z",
          "iopub.status.idle": "2022-04-30T21:10:19.175859Z",
          "shell.execute_reply": "2022-04-30T21:10:19.174869Z",
          "shell.execute_reply.started": "2022-04-30T21:10:09.277068Z"
        },
        "id": "qibr2AqqvqbP"
      },
      "outputs": [],
      "source": [
        "# For Data Processing & DL Models\n",
        "import numpy as np\n",
        "from sklearn.utils import shuffle\n",
        "from sklearn.model_selection import train_test_split\n",
        "from sklearn.metrics import classification_report\n",
        "from sklearn.metrics import confusion_matrix\n",
        "from tensorflow import keras\n",
        "from tensorflow.keras.layers import *\n",
        "from tensorflow.keras.losses import *\n",
        "from tensorflow.keras.models import *\n",
        "from tensorflow.keras.metrics import *\n",
        "from tensorflow.keras.optimizers import *\n",
        "from tensorflow.keras.applications import *\n",
        "from tensorflow.keras.preprocessing.image import load_img\n",
        "from PIL import Image, ImageEnhance\n",
        "\n",
        "# For Data Visualization\n",
        "import matplotlib.pyplot as plt\n",
        "import seaborn as sns\n",
        "import plotly.express as px\n",
        "import plotly.graph_objects as go\n",
        "\n",
        "# Miscellaneous\n",
        "from tqdm import tqdm\n",
        "import os\n",
        "import random\n",
        "import opendatasets as od\n",
        "\n",
        "# Turn off warnings\n",
        "os.environ['TF_CPP_MIN_LOG_LEVEL'] = '3'"
      ]
    },
    {
      "cell_type": "markdown",
      "metadata": {
        "id": "1aqTih-nvqbR"
      },
      "source": [
        "# <b>2 <span style='color:#E71414'>| </span> Reading the Dataset</b>"
      ]
    },
    {
      "cell_type": "code",
      "execution_count": null,
      "metadata": {
        "colab": {
          "base_uri": "https://localhost:8080/"
        },
        "id": "b2IkHkqWv6Zp",
        "outputId": "e63d4a23-efb1-42dc-a02c-4b10412d5bdc"
      },
      "outputs": [
        {
          "name": "stdout",
          "output_type": "stream",
          "text": [
            "Please provide your Kaggle credentials to download this dataset. Learn more: http://bit.ly/kaggle-creds\n",
            "Your Kaggle username: thribhuvansunkavalli\n",
            "Your Kaggle Key: ··········\n",
            "Downloading rice-image-dataset.zip to ./rice-image-dataset\n"
          ]
        },
        {
          "name": "stderr",
          "output_type": "stream",
          "text": [
            "100%|██████████| 219M/219M [00:10<00:00, 20.9MB/s]\n"
          ]
        },
        {
          "name": "stdout",
          "output_type": "stream",
          "text": [
            "\n"
          ]
        }
      ],
      "source": [
        "od.download('https://www.kaggle.com/datasets/muratkokludataset/rice-image-dataset')"
      ]
    },
    {
      "cell_type": "code",
      "execution_count": null,
      "metadata": {
        "execution": {
          "iopub.execute_input": "2022-04-30T13:10:03.224272Z",
          "iopub.status.busy": "2022-04-30T13:10:03.224001Z",
          "iopub.status.idle": "2022-04-30T13:10:03.33041Z",
          "shell.execute_reply": "2022-04-30T13:10:03.329706Z",
          "shell.execute_reply.started": "2022-04-30T13:10:03.224244Z"
        },
        "id": "bh1k_WmLvqbR"
      },
      "outputs": [],
      "source": [
        "unique_labels = ['Karacadag', 'Basmati', 'Jasmine', 'Arborio', 'Ipsala']\n",
        "\n",
        "data_dir = './rice-image-dataset/Rice_Image_Dataset/'\n",
        "\n",
        "all_paths = []\n",
        "all_labels = []\n",
        "\n",
        "for label in unique_labels:\n",
        "    for image_path in os.listdir(data_dir+label):\n",
        "        all_paths.append(data_dir+label+'/'+image_path)\n",
        "        all_labels.append(label)\n",
        "'''\n",
        "An image of path all_paths[i] has the label all_labels[i], where i is an index\n",
        "'''\n",
        "all_paths, all_labels = shuffle(all_paths, all_labels)"
      ]
    },
    {
      "cell_type": "code",
      "execution_count": null,
      "metadata": {
        "_kg_hide-input": true,
        "colab": {
          "base_uri": "https://localhost:8080/",
          "height": 542
        },
        "execution": {
          "iopub.execute_input": "2022-04-30T13:10:04.552734Z",
          "iopub.status.busy": "2022-04-30T13:10:04.551898Z",
          "iopub.status.idle": "2022-04-30T13:10:04.581443Z",
          "shell.execute_reply": "2022-04-30T13:10:04.580755Z",
          "shell.execute_reply.started": "2022-04-30T13:10:04.552638Z"
        },
        "id": "kT9uaxMgvqbS",
        "outputId": "7bbef050-2d44-4cff-888c-4bbb837c153c"
      },
      "outputs": [
        {
          "data": {
            "text/html": [
              "<html>\n",
              "<head><meta charset=\"utf-8\" /></head>\n",
              "<body>\n",
              "    <div>            <script src=\"https://cdnjs.cloudflare.com/ajax/libs/mathjax/2.7.5/MathJax.js?config=TeX-AMS-MML_SVG\"></script><script type=\"text/javascript\">if (window.MathJax && window.MathJax.Hub && window.MathJax.Hub.Config) {window.MathJax.Hub.Config({SVG: {font: \"STIX-Web\"}});}</script>                <script type=\"text/javascript\">window.PlotlyConfig = {MathJaxConfig: 'local'};</script>\n",
              "        <script src=\"https://cdn.plot.ly/plotly-2.18.2.min.js\"></script>                <div id=\"8afaab71-fcd4-429a-9ffd-586bbd87944e\" class=\"plotly-graph-div\" style=\"height:525px; width:100%;\"></div>            <script type=\"text/javascript\">                                    window.PLOTLYENV=window.PLOTLYENV || {};                                    if (document.getElementById(\"8afaab71-fcd4-429a-9ffd-586bbd87944e\")) {                    Plotly.newPlot(                        \"8afaab71-fcd4-429a-9ffd-586bbd87944e\",                        [{\"hole\":0.3,\"labels\":[\"Karacadag\",\"Basmati\",\"Jasmine\",\"Arborio\",\"Ipsala\"],\"rotation\":-45,\"textinfo\":\"label+percent\",\"values\":[15000,15000,15000,15000,15000],\"type\":\"pie\"}],                        {\"template\":{\"data\":{\"histogram2dcontour\":[{\"type\":\"histogram2dcontour\",\"colorbar\":{\"outlinewidth\":0,\"ticks\":\"\"},\"colorscale\":[[0.0,\"#0d0887\"],[0.1111111111111111,\"#46039f\"],[0.2222222222222222,\"#7201a8\"],[0.3333333333333333,\"#9c179e\"],[0.4444444444444444,\"#bd3786\"],[0.5555555555555556,\"#d8576b\"],[0.6666666666666666,\"#ed7953\"],[0.7777777777777778,\"#fb9f3a\"],[0.8888888888888888,\"#fdca26\"],[1.0,\"#f0f921\"]]}],\"choropleth\":[{\"type\":\"choropleth\",\"colorbar\":{\"outlinewidth\":0,\"ticks\":\"\"}}],\"histogram2d\":[{\"type\":\"histogram2d\",\"colorbar\":{\"outlinewidth\":0,\"ticks\":\"\"},\"colorscale\":[[0.0,\"#0d0887\"],[0.1111111111111111,\"#46039f\"],[0.2222222222222222,\"#7201a8\"],[0.3333333333333333,\"#9c179e\"],[0.4444444444444444,\"#bd3786\"],[0.5555555555555556,\"#d8576b\"],[0.6666666666666666,\"#ed7953\"],[0.7777777777777778,\"#fb9f3a\"],[0.8888888888888888,\"#fdca26\"],[1.0,\"#f0f921\"]]}],\"heatmap\":[{\"type\":\"heatmap\",\"colorbar\":{\"outlinewidth\":0,\"ticks\":\"\"},\"colorscale\":[[0.0,\"#0d0887\"],[0.1111111111111111,\"#46039f\"],[0.2222222222222222,\"#7201a8\"],[0.3333333333333333,\"#9c179e\"],[0.4444444444444444,\"#bd3786\"],[0.5555555555555556,\"#d8576b\"],[0.6666666666666666,\"#ed7953\"],[0.7777777777777778,\"#fb9f3a\"],[0.8888888888888888,\"#fdca26\"],[1.0,\"#f0f921\"]]}],\"heatmapgl\":[{\"type\":\"heatmapgl\",\"colorbar\":{\"outlinewidth\":0,\"ticks\":\"\"},\"colorscale\":[[0.0,\"#0d0887\"],[0.1111111111111111,\"#46039f\"],[0.2222222222222222,\"#7201a8\"],[0.3333333333333333,\"#9c179e\"],[0.4444444444444444,\"#bd3786\"],[0.5555555555555556,\"#d8576b\"],[0.6666666666666666,\"#ed7953\"],[0.7777777777777778,\"#fb9f3a\"],[0.8888888888888888,\"#fdca26\"],[1.0,\"#f0f921\"]]}],\"contourcarpet\":[{\"type\":\"contourcarpet\",\"colorbar\":{\"outlinewidth\":0,\"ticks\":\"\"}}],\"contour\":[{\"type\":\"contour\",\"colorbar\":{\"outlinewidth\":0,\"ticks\":\"\"},\"colorscale\":[[0.0,\"#0d0887\"],[0.1111111111111111,\"#46039f\"],[0.2222222222222222,\"#7201a8\"],[0.3333333333333333,\"#9c179e\"],[0.4444444444444444,\"#bd3786\"],[0.5555555555555556,\"#d8576b\"],[0.6666666666666666,\"#ed7953\"],[0.7777777777777778,\"#fb9f3a\"],[0.8888888888888888,\"#fdca26\"],[1.0,\"#f0f921\"]]}],\"surface\":[{\"type\":\"surface\",\"colorbar\":{\"outlinewidth\":0,\"ticks\":\"\"},\"colorscale\":[[0.0,\"#0d0887\"],[0.1111111111111111,\"#46039f\"],[0.2222222222222222,\"#7201a8\"],[0.3333333333333333,\"#9c179e\"],[0.4444444444444444,\"#bd3786\"],[0.5555555555555556,\"#d8576b\"],[0.6666666666666666,\"#ed7953\"],[0.7777777777777778,\"#fb9f3a\"],[0.8888888888888888,\"#fdca26\"],[1.0,\"#f0f921\"]]}],\"mesh3d\":[{\"type\":\"mesh3d\",\"colorbar\":{\"outlinewidth\":0,\"ticks\":\"\"}}],\"scatter\":[{\"fillpattern\":{\"fillmode\":\"overlay\",\"size\":10,\"solidity\":0.2},\"type\":\"scatter\"}],\"parcoords\":[{\"type\":\"parcoords\",\"line\":{\"colorbar\":{\"outlinewidth\":0,\"ticks\":\"\"}}}],\"scatterpolargl\":[{\"type\":\"scatterpolargl\",\"marker\":{\"colorbar\":{\"outlinewidth\":0,\"ticks\":\"\"}}}],\"bar\":[{\"error_x\":{\"color\":\"#2a3f5f\"},\"error_y\":{\"color\":\"#2a3f5f\"},\"marker\":{\"line\":{\"color\":\"#E5ECF6\",\"width\":0.5},\"pattern\":{\"fillmode\":\"overlay\",\"size\":10,\"solidity\":0.2}},\"type\":\"bar\"}],\"scattergeo\":[{\"type\":\"scattergeo\",\"marker\":{\"colorbar\":{\"outlinewidth\":0,\"ticks\":\"\"}}}],\"scatterpolar\":[{\"type\":\"scatterpolar\",\"marker\":{\"colorbar\":{\"outlinewidth\":0,\"ticks\":\"\"}}}],\"histogram\":[{\"marker\":{\"pattern\":{\"fillmode\":\"overlay\",\"size\":10,\"solidity\":0.2}},\"type\":\"histogram\"}],\"scattergl\":[{\"type\":\"scattergl\",\"marker\":{\"colorbar\":{\"outlinewidth\":0,\"ticks\":\"\"}}}],\"scatter3d\":[{\"type\":\"scatter3d\",\"line\":{\"colorbar\":{\"outlinewidth\":0,\"ticks\":\"\"}},\"marker\":{\"colorbar\":{\"outlinewidth\":0,\"ticks\":\"\"}}}],\"scattermapbox\":[{\"type\":\"scattermapbox\",\"marker\":{\"colorbar\":{\"outlinewidth\":0,\"ticks\":\"\"}}}],\"scatterternary\":[{\"type\":\"scatterternary\",\"marker\":{\"colorbar\":{\"outlinewidth\":0,\"ticks\":\"\"}}}],\"scattercarpet\":[{\"type\":\"scattercarpet\",\"marker\":{\"colorbar\":{\"outlinewidth\":0,\"ticks\":\"\"}}}],\"carpet\":[{\"aaxis\":{\"endlinecolor\":\"#2a3f5f\",\"gridcolor\":\"white\",\"linecolor\":\"white\",\"minorgridcolor\":\"white\",\"startlinecolor\":\"#2a3f5f\"},\"baxis\":{\"endlinecolor\":\"#2a3f5f\",\"gridcolor\":\"white\",\"linecolor\":\"white\",\"minorgridcolor\":\"white\",\"startlinecolor\":\"#2a3f5f\"},\"type\":\"carpet\"}],\"table\":[{\"cells\":{\"fill\":{\"color\":\"#EBF0F8\"},\"line\":{\"color\":\"white\"}},\"header\":{\"fill\":{\"color\":\"#C8D4E3\"},\"line\":{\"color\":\"white\"}},\"type\":\"table\"}],\"barpolar\":[{\"marker\":{\"line\":{\"color\":\"#E5ECF6\",\"width\":0.5},\"pattern\":{\"fillmode\":\"overlay\",\"size\":10,\"solidity\":0.2}},\"type\":\"barpolar\"}],\"pie\":[{\"automargin\":true,\"type\":\"pie\"}]},\"layout\":{\"autotypenumbers\":\"strict\",\"colorway\":[\"#636efa\",\"#EF553B\",\"#00cc96\",\"#ab63fa\",\"#FFA15A\",\"#19d3f3\",\"#FF6692\",\"#B6E880\",\"#FF97FF\",\"#FECB52\"],\"font\":{\"color\":\"#2a3f5f\"},\"hovermode\":\"closest\",\"hoverlabel\":{\"align\":\"left\"},\"paper_bgcolor\":\"white\",\"plot_bgcolor\":\"#E5ECF6\",\"polar\":{\"bgcolor\":\"#E5ECF6\",\"angularaxis\":{\"gridcolor\":\"white\",\"linecolor\":\"white\",\"ticks\":\"\"},\"radialaxis\":{\"gridcolor\":\"white\",\"linecolor\":\"white\",\"ticks\":\"\"}},\"ternary\":{\"bgcolor\":\"#E5ECF6\",\"aaxis\":{\"gridcolor\":\"white\",\"linecolor\":\"white\",\"ticks\":\"\"},\"baxis\":{\"gridcolor\":\"white\",\"linecolor\":\"white\",\"ticks\":\"\"},\"caxis\":{\"gridcolor\":\"white\",\"linecolor\":\"white\",\"ticks\":\"\"}},\"coloraxis\":{\"colorbar\":{\"outlinewidth\":0,\"ticks\":\"\"}},\"colorscale\":{\"sequential\":[[0.0,\"#0d0887\"],[0.1111111111111111,\"#46039f\"],[0.2222222222222222,\"#7201a8\"],[0.3333333333333333,\"#9c179e\"],[0.4444444444444444,\"#bd3786\"],[0.5555555555555556,\"#d8576b\"],[0.6666666666666666,\"#ed7953\"],[0.7777777777777778,\"#fb9f3a\"],[0.8888888888888888,\"#fdca26\"],[1.0,\"#f0f921\"]],\"sequentialminus\":[[0.0,\"#0d0887\"],[0.1111111111111111,\"#46039f\"],[0.2222222222222222,\"#7201a8\"],[0.3333333333333333,\"#9c179e\"],[0.4444444444444444,\"#bd3786\"],[0.5555555555555556,\"#d8576b\"],[0.6666666666666666,\"#ed7953\"],[0.7777777777777778,\"#fb9f3a\"],[0.8888888888888888,\"#fdca26\"],[1.0,\"#f0f921\"]],\"diverging\":[[0,\"#8e0152\"],[0.1,\"#c51b7d\"],[0.2,\"#de77ae\"],[0.3,\"#f1b6da\"],[0.4,\"#fde0ef\"],[0.5,\"#f7f7f7\"],[0.6,\"#e6f5d0\"],[0.7,\"#b8e186\"],[0.8,\"#7fbc41\"],[0.9,\"#4d9221\"],[1,\"#276419\"]]},\"xaxis\":{\"gridcolor\":\"white\",\"linecolor\":\"white\",\"ticks\":\"\",\"title\":{\"standoff\":15},\"zerolinecolor\":\"white\",\"automargin\":true,\"zerolinewidth\":2},\"yaxis\":{\"gridcolor\":\"white\",\"linecolor\":\"white\",\"ticks\":\"\",\"title\":{\"standoff\":15},\"zerolinecolor\":\"white\",\"automargin\":true,\"zerolinewidth\":2},\"scene\":{\"xaxis\":{\"backgroundcolor\":\"#E5ECF6\",\"gridcolor\":\"white\",\"linecolor\":\"white\",\"showbackground\":true,\"ticks\":\"\",\"zerolinecolor\":\"white\",\"gridwidth\":2},\"yaxis\":{\"backgroundcolor\":\"#E5ECF6\",\"gridcolor\":\"white\",\"linecolor\":\"white\",\"showbackground\":true,\"ticks\":\"\",\"zerolinecolor\":\"white\",\"gridwidth\":2},\"zaxis\":{\"backgroundcolor\":\"#E5ECF6\",\"gridcolor\":\"white\",\"linecolor\":\"white\",\"showbackground\":true,\"ticks\":\"\",\"zerolinecolor\":\"white\",\"gridwidth\":2}},\"shapedefaults\":{\"line\":{\"color\":\"#2a3f5f\"}},\"annotationdefaults\":{\"arrowcolor\":\"#2a3f5f\",\"arrowhead\":0,\"arrowwidth\":1},\"geo\":{\"bgcolor\":\"white\",\"landcolor\":\"#E5ECF6\",\"subunitcolor\":\"white\",\"showland\":true,\"showlakes\":true,\"lakecolor\":\"white\"},\"title\":{\"x\":0.05},\"mapbox\":{\"style\":\"light\"}}},\"showlegend\":false},                        {\"responsive\": true}                    ).then(function(){\n",
              "                            \n",
              "var gd = document.getElementById('8afaab71-fcd4-429a-9ffd-586bbd87944e');\n",
              "var x = new MutationObserver(function (mutations, observer) {{\n",
              "        var display = window.getComputedStyle(gd).display;\n",
              "        if (!display || display === 'none') {{\n",
              "            console.log([gd, 'removed!']);\n",
              "            Plotly.purge(gd);\n",
              "            observer.disconnect();\n",
              "        }}\n",
              "}});\n",
              "\n",
              "// Listen for the removal of the full notebook cells\n",
              "var notebookContainer = gd.closest('#notebook-container');\n",
              "if (notebookContainer) {{\n",
              "    x.observe(notebookContainer, {childList: true});\n",
              "}}\n",
              "\n",
              "// Listen for the clearing of the current output cell\n",
              "var outputEl = gd.closest('.output');\n",
              "if (outputEl) {{\n",
              "    x.observe(outputEl, {childList: true});\n",
              "}}\n",
              "\n",
              "                        })                };                            </script>        </div>\n",
              "</body>\n",
              "</html>"
            ]
          },
          "metadata": {},
          "output_type": "display_data"
        }
      ],
      "source": [
        "values = [len([x for x in all_labels if x==label]) for label in unique_labels]\n",
        "fig = go.Figure(data=[go.Pie(labels=unique_labels, values=values, rotation=-45, hole=.3, textinfo='label+percent')])\n",
        "fig.update_layout(showlegend=False)\n",
        "fig.show()"
      ]
    },
    {
      "cell_type": "markdown",
      "metadata": {
        "id": "6m1PsPVcvqbS"
      },
      "source": [
        "#### The dataset is perfectly balanced"
      ]
    },
    {
      "cell_type": "markdown",
      "metadata": {
        "id": "zsdJ89GxvqbT"
      },
      "source": [
        "# <b>3 <span style='color:#E71414; font-weight: bold;'>|</span> Data Preprocessing</b>"
      ]
    },
    {
      "cell_type": "markdown",
      "metadata": {
        "id": "watOTYznvqbU"
      },
      "source": [
        "<h2>3.1 <span style='color:#E71414; font-weight: bold;'>|</span> Train-Val Split</h2>"
      ]
    },
    {
      "cell_type": "markdown",
      "metadata": {
        "id": "0aajPhJUvqbV"
      },
      "source": [
        "- 90% for training\n",
        "- 10% for validation"
      ]
    },
    {
      "cell_type": "code",
      "execution_count": null,
      "metadata": {
        "execution": {
          "iopub.execute_input": "2022-04-30T13:15:01.646691Z",
          "iopub.status.busy": "2022-04-30T13:15:01.646413Z",
          "iopub.status.idle": "2022-04-30T13:15:01.741438Z",
          "shell.execute_reply": "2022-04-30T13:15:01.740723Z",
          "shell.execute_reply.started": "2022-04-30T13:15:01.646662Z"
        },
        "id": "UuiPoab0vqbW"
      },
      "outputs": [],
      "source": [
        "x_train_paths, x_val_paths, y_train, y_val = train_test_split(all_paths, all_labels,\n",
        "                                                              test_size=0.1, random_state=42,\n",
        "                                                              stratify=all_labels)"
      ]
    },
    {
      "cell_type": "markdown",
      "metadata": {
        "id": "sT321QQ0vqbX"
      },
      "source": [
        "<h2>3.2 <span style='color:#E71414; font-weight: bold;'>|</span> Image Data Augmentation</h2>"
      ]
    },
    {
      "cell_type": "markdown",
      "metadata": {
        "id": "o3a8LtB-vqbX"
      },
      "source": [
        "- Random Brightness from 60% to 140%\n",
        "- Random Contrast from 60% to 140%"
      ]
    },
    {
      "cell_type": "code",
      "execution_count": null,
      "metadata": {
        "execution": {
          "iopub.execute_input": "2022-04-30T13:22:09.465635Z",
          "iopub.status.busy": "2022-04-30T13:22:09.465Z",
          "iopub.status.idle": "2022-04-30T13:22:09.471334Z",
          "shell.execute_reply": "2022-04-30T13:22:09.470398Z",
          "shell.execute_reply.started": "2022-04-30T13:22:09.465589Z"
        },
        "id": "laHw_8dqvqbX"
      },
      "outputs": [],
      "source": [
        "BRIGHTNESS = (0.6, 1.4)\n",
        "CONTRAST   = (0.6, 1.4)\n",
        "\n",
        "def augment_image(image):\n",
        "    image = Image.fromarray(np.uint8(image))\n",
        "    image = ImageEnhance.Brightness(image).enhance(random.uniform(BRIGHTNESS[0],BRIGHTNESS[1]))\n",
        "    image = ImageEnhance.Contrast(image).enhance(random.uniform(CONTRAST[0],CONTRAST[1]))\n",
        "    return image"
      ]
    },
    {
      "cell_type": "markdown",
      "metadata": {
        "id": "OX68IwVlvqbX"
      },
      "source": [
        "<h2>3.3 <span style='color:#E71414; font-weight: bold;'>|</span> Label encoder-decoder</h2>"
      ]
    },
    {
      "cell_type": "code",
      "execution_count": null,
      "metadata": {
        "execution": {
          "iopub.execute_input": "2022-04-30T13:22:11.10226Z",
          "iopub.status.busy": "2022-04-30T13:22:11.101455Z",
          "iopub.status.idle": "2022-04-30T13:22:11.108082Z",
          "shell.execute_reply": "2022-04-30T13:22:11.106876Z",
          "shell.execute_reply.started": "2022-04-30T13:22:11.102223Z"
        },
        "id": "Suo3E6pdvqbY"
      },
      "outputs": [],
      "source": [
        "def encode_labels(labels):\n",
        "    encoded = []\n",
        "    for x in labels:\n",
        "        encoded.append(unique_labels.index(x))\n",
        "    return np.array(encoded)\n",
        "\n",
        "def decode_labels(labels):\n",
        "    decoded = []\n",
        "    for x in labels:\n",
        "        decoded.append(unique_labels[x])\n",
        "    return np.array(decoded)"
      ]
    },
    {
      "cell_type": "markdown",
      "metadata": {
        "id": "c2U3nI3FvqbY"
      },
      "source": [
        "<h2>3.4 <span style='color:#E71414; font-weight: bold;'>|</span> Load images</h2>"
      ]
    },
    {
      "cell_type": "code",
      "execution_count": null,
      "metadata": {
        "execution": {
          "iopub.execute_input": "2022-04-30T13:22:12.237019Z",
          "iopub.status.busy": "2022-04-30T13:22:12.236537Z",
          "iopub.status.idle": "2022-04-30T13:22:12.241192Z",
          "shell.execute_reply": "2022-04-30T13:22:12.240505Z",
          "shell.execute_reply.started": "2022-04-30T13:22:12.236986Z"
        },
        "id": "6KDxj8qzvqbY"
      },
      "outputs": [],
      "source": [
        "IMAGE_SIZE = 96"
      ]
    },
    {
      "cell_type": "code",
      "execution_count": null,
      "metadata": {
        "execution": {
          "iopub.execute_input": "2022-04-30T13:22:13.254548Z",
          "iopub.status.busy": "2022-04-30T13:22:13.254234Z",
          "iopub.status.idle": "2022-04-30T13:22:13.266589Z",
          "shell.execute_reply": "2022-04-30T13:22:13.265425Z",
          "shell.execute_reply.started": "2022-04-30T13:22:13.254513Z"
        },
        "id": "-PIDXeSVvqbY"
      },
      "outputs": [],
      "source": [
        "def open_images(paths, augment=True):\n",
        "    '''\n",
        "    Given a list of paths to images, this function returns the images as arrays, and conditionally augments them\n",
        "    '''\n",
        "    images = []\n",
        "    for path in paths:\n",
        "        image = load_img(path, target_size=(IMAGE_SIZE,IMAGE_SIZE))\n",
        "        if augment:\n",
        "            image = augment_image(image)\n",
        "        image = np.array(image)/255.0\n",
        "        images.append(image)\n",
        "    return np.array(images)"
      ]
    },
    {
      "cell_type": "markdown",
      "metadata": {
        "id": "2zbtkVyDvqbZ"
      },
      "source": [
        "Example usage of `open_images` function"
      ]
    },
    {
      "cell_type": "code",
      "execution_count": null,
      "metadata": {
        "colab": {
          "base_uri": "https://localhost:8080/",
          "height": 513
        },
        "execution": {
          "iopub.execute_input": "2022-04-30T13:22:14.329633Z",
          "iopub.status.busy": "2022-04-30T13:22:14.329345Z",
          "iopub.status.idle": "2022-04-30T13:22:14.70902Z",
          "shell.execute_reply": "2022-04-30T13:22:14.70831Z",
          "shell.execute_reply.started": "2022-04-30T13:22:14.329601Z"
        },
        "id": "XjaMkppLvqba",
        "outputId": "d237c232-790d-41fe-f5bd-c48cfc6d0242"
      },
      "outputs": [
        {
          "data": {
            "image/png": "[encoded data removed]",
            "text/plain": [
              "<Figure size 1200x600 with 8 Axes>"
            ]
          },
          "metadata": {},
          "output_type": "display_data"
        }
      ],
      "source": [
        "# Load images and their labels\n",
        "images = open_images(x_train_paths[50:59])\n",
        "labels = y_train[50:59]\n",
        "\n",
        "# Plot images with their labels\n",
        "fig = plt.figure(figsize=(12, 6))\n",
        "for x in range(1, 9):\n",
        "    fig.add_subplot(2, 4, x)\n",
        "    plt.axis('off')\n",
        "    plt.title(labels[x])\n",
        "    plt.imshow(images[x])\n",
        "plt.show()"
      ]
    },
    {
      "cell_type": "markdown",
      "metadata": {
        "id": "EqzE-2K6vqbb"
      },
      "source": [
        "<h2>3.5 <span style='color:#E71414; font-weight: bold;'>|</span> Data Generator</h2>\n",
        "<p style=\"font-size:15px; line-height: 1.7em\">\n",
        "    Given a list of paths to images, and the labels, <br>\n",
        "    this function augments the images, normalizes them, encodes the label, and then returns the batch on which the model can train on. <br>\n",
        "</p>"
      ]
    },
    {
      "cell_type": "code",
      "execution_count": null,
      "metadata": {
        "execution": {
          "iopub.execute_input": "2022-04-30T12:10:11.726646Z",
          "iopub.status.busy": "2022-04-30T12:10:11.726366Z",
          "iopub.status.idle": "2022-04-30T12:10:11.730435Z",
          "shell.execute_reply": "2022-04-30T12:10:11.729576Z",
          "shell.execute_reply.started": "2022-04-30T12:10:11.726616Z"
        },
        "id": "vbDYnhN8vqbb"
      },
      "outputs": [],
      "source": [
        "def datagen(paths, labels, batch_size=12, epochs=3, augment=True):\n",
        "    for _ in range(epochs):\n",
        "        for x in range(0, len(paths), batch_size):\n",
        "            batch_paths = paths[x:x+batch_size]\n",
        "            batch_images = open_images(batch_paths, augment=augment)\n",
        "            batch_labels = labels[x:x+batch_size]\n",
        "            batch_labels = encode_labels(batch_labels)\n",
        "            yield batch_images, batch_labels"
      ]
    },
    {
      "cell_type": "markdown",
      "metadata": {
        "id": "ZUpep4-xvqbc"
      },
      "source": [
        "# <b>4 <span style='color:#E71414; font-weight: bold;'>|</span> Model</b>"
      ]
    },
    {
      "cell_type": "markdown",
      "metadata": {
        "id": "yAmT0hVhvqbc"
      },
      "source": [
        "<h2>4.1 <span style='color:#E71414; font-weight: bold;'>|</span> Build Model</h2>"
      ]
    },
    {
      "cell_type": "markdown",
      "metadata": {
        "id": "FJWdkg6Uvqbc"
      },
      "source": [
        "<h3>I am using <span style = \"color:#E71414; font-weight: normal;\">VGG16</span> for transfer learning</h3>"
      ]
    },
    {
      "cell_type": "code",
      "execution_count": null,
      "metadata": {
        "_kg_hide-output": true,
        "colab": {
          "base_uri": "https://localhost:8080/"
        },
        "execution": {
          "iopub.execute_input": "2022-04-30T12:20:26.114381Z",
          "iopub.status.busy": "2022-04-30T12:20:26.114065Z",
          "iopub.status.idle": "2022-04-30T12:20:26.432993Z",
          "shell.execute_reply": "2022-04-30T12:20:26.432233Z",
          "shell.execute_reply.started": "2022-04-30T12:20:26.114347Z"
        },
        "id": "pkx6sVzzvqbd",
        "outputId": "51618fd9-15cf-4aea-c7ff-2a3f95a2c0df"
      },
      "outputs": [
        {
          "name": "stdout",
          "output_type": "stream",
          "text": [
            "Downloading data from https://storage.googleapis.com/tensorflow/keras-applications/vgg16/vgg16_weights_tf_dim_ordering_tf_kernels_notop.h5\n",
            "58889256/58889256 [==============================] - 4s 0us/step\n"
          ]
        }
      ],
      "source": [
        "base_model = VGG16(input_shape=(IMAGE_SIZE,IMAGE_SIZE,3), include_top=False, weights='imagenet')\n",
        "# Set all layers to non trainable\n",
        "for layer in base_model.layers:\n",
        "    layer.trainable = False\n",
        "# Set the last VGG block to trainable\n",
        "base_model.layers[-2].trainable = True\n",
        "base_model.layers[-3].trainable = True\n",
        "base_model.layers[-4].trainable = True"
      ]
    },
    {
      "cell_type": "code",
      "execution_count": null,
      "metadata": {
        "_kg_hide-output": true,
        "execution": {
          "iopub.execute_input": "2022-04-30T12:20:39.909077Z",
          "iopub.status.busy": "2022-04-30T12:20:39.908575Z",
          "iopub.status.idle": "2022-04-30T12:20:39.98306Z",
          "shell.execute_reply": "2022-04-30T12:20:39.982265Z",
          "shell.execute_reply.started": "2022-04-30T12:20:39.909043Z"
        },
        "id": "6uVC_k53vqbd"
      },
      "outputs": [],
      "source": [
        "model = Sequential()\n",
        "model.add(Input(shape=(IMAGE_SIZE,IMAGE_SIZE,3)))\n",
        "model.add(base_model)\n",
        "model.add(Flatten())\n",
        "model.add(Dropout(0.2))\n",
        "model.add(Dense(256, activation='relu'))\n",
        "model.add(Dropout(0.2))\n",
        "model.add(Dense(len(unique_labels), activation='softmax'))"
      ]
    },
    {
      "cell_type": "code",
      "execution_count": null,
      "metadata": {
        "colab": {
          "base_uri": "https://localhost:8080/"
        },
        "execution": {
          "iopub.execute_input": "2022-04-30T12:20:44.087222Z",
          "iopub.status.busy": "2022-04-30T12:20:44.086623Z",
          "iopub.status.idle": "2022-04-30T12:20:44.098849Z",
          "shell.execute_reply": "2022-04-30T12:20:44.098038Z",
          "shell.execute_reply.started": "2022-04-30T12:20:44.087184Z"
        },
        "id": "_AJrqSb0vqbd",
        "outputId": "ea9a3125-67e1-4ccc-db03-53d0020da73f"
      },
      "outputs": [
        {
          "name": "stdout",
          "output_type": "stream",
          "text": [
            "Model: \"sequential\"\n",
            "_________________________________________________________________\n",
            " Layer (type)                Output Shape              Param #   \n",
            "=================================================================\n",
            " vgg16 (Functional)          (None, 3, 3, 512)         14714688  \n",
            "                                                                 \n",
            " flatten (Flatten)           (None, 4608)              0         \n",
            "                                                                 \n",
            " dropout (Dropout)           (None, 4608)              0         \n",
            "                                                                 \n",
            " dense (Dense)               (None, 256)               1179904   \n",
            "                                                                 \n",
            " dropout_1 (Dropout)         (None, 256)               0         \n",
            "                                                                 \n",
            " dense_1 (Dense)             (None, 5)                 1285      \n",
            "                                                                 \n",
            "=================================================================\n",
            "Total params: 15,895,877\n",
            "Trainable params: 8,260,613\n",
            "Non-trainable params: 7,635,264\n",
            "_________________________________________________________________\n"
          ]
        }
      ],
      "source": [
        "model.summary()"
      ]
    },
    {
      "cell_type": "markdown",
      "metadata": {
        "id": "9azT7Gvlvqbe"
      },
      "source": [
        "<h2>4.2 <span style='color:#E71414; font-weight: bold;'>|</span> Compile Model</h2>"
      ]
    },
    {
      "cell_type": "markdown",
      "metadata": {
        "id": "uS50moQ6vqbe"
      },
      "source": [
        "`SparseCategoricalCrossentropy` and `CategoricalCrossentropy` are basically the same loss functions, just their input formats are different.\n",
        "\n",
        "$$\\mathrm{Loss} = -\\cfrac{1}{N}\\sum_{i=1}^N [y_i\\text{log}(\\hat y_i) + (1-y_i)\\text{log}(1-\\hat y_i)]$$\n",
        "where,\n",
        "$\\hat y$ is the predicted label, and $y$ is the actual label\n",
        "$y_i$ is the $i^\\mathbf{th}$ sample of $y$  and $\\hat y_i$ is the $i^\\mathbf{th}$ sample of $\\hat y$\n",
        "$N$ is the number of samples\n",
        "\n",
        "If $y_i$ is **one-hot encoded**, we use `CategoricalCrossentropy`, and if $y_i$ is **integer-encoded**, we use `SparseCategoricalCrossentropy`\n",
        "\n",
        "In our case, our labels are **integer-encoded**, so we are using `SparseCategoricalCrossentropy`"
      ]
    },
    {
      "cell_type": "code",
      "execution_count": null,
      "metadata": {
        "execution": {
          "iopub.execute_input": "2022-04-30T12:20:46.330005Z",
          "iopub.status.busy": "2022-04-30T12:20:46.329445Z",
          "iopub.status.idle": "2022-04-30T12:20:46.340269Z",
          "shell.execute_reply": "2022-04-30T12:20:46.339531Z",
          "shell.execute_reply.started": "2022-04-30T12:20:46.329971Z"
        },
        "id": "OdNjpHuevqbe"
      },
      "outputs": [],
      "source": [
        "model.compile(optimizer=Adam(learning_rate=0.0001),\n",
        "              loss='sparse_categorical_crossentropy',\n",
        "              metrics=['sparse_categorical_accuracy'])"
      ]
    },
    {
      "cell_type": "markdown",
      "metadata": {
        "id": "okuJryYEvqbf"
      },
      "source": [
        "<h2>4.3 <span style='color:#E71414; font-weight: bold;'>|</span> Train Model</h2>"
      ]
    },
    {
      "cell_type": "code",
      "execution_count": null,
      "metadata": {
        "colab": {
          "base_uri": "https://localhost:8080/"
        },
        "execution": {
          "iopub.execute_input": "2022-04-30T13:32:08.719143Z",
          "iopub.status.busy": "2022-04-30T13:32:08.718437Z",
          "iopub.status.idle": "2022-04-30T13:34:30.786374Z",
          "shell.execute_reply": "2022-04-30T13:34:30.785609Z",
          "shell.execute_reply.started": "2022-04-30T13:32:08.719106Z"
        },
        "id": "8jaxm7uIvqbf",
        "outputId": "b06f0375-20ae-4152-c354-0832681ea8d3"
      },
      "outputs": [
        {
          "name": "stdout",
          "output_type": "stream",
          "text": [
            "Epoch 1/5\n",
            "1054/1054 [==============================] - 158s 137ms/step - loss: 0.0968 - sparse_categorical_accuracy: 0.9656\n",
            "Epoch 2/5\n",
            "1054/1054 [==============================] - 143s 134ms/step - loss: 0.0484 - sparse_categorical_accuracy: 0.9842\n",
            "Epoch 3/5\n",
            "1054/1054 [==============================] - 143s 135ms/step - loss: 0.0407 - sparse_categorical_accuracy: 0.9863\n",
            "Epoch 4/5\n",
            "1054/1054 [==============================] - 142s 135ms/step - loss: 0.0378 - sparse_categorical_accuracy: 0.9876\n",
            "Epoch 5/5\n",
            "1054/1054 [==============================] - 143s 136ms/step - loss: 0.0338 - sparse_categorical_accuracy: 0.9890\n"
          ]
        }
      ],
      "source": [
        "batch_size = 64\n",
        "steps = int(len(x_train_paths)/batch_size)\n",
        "epochs = 5\n",
        "history = model.fit(datagen(x_train_paths, y_train, batch_size=batch_size, epochs=epochs),\n",
        "                    epochs=epochs, steps_per_epoch=steps)"
      ]
    },
    {
      "cell_type": "markdown",
      "metadata": {
        "id": "NPxv2ZkBvqbf"
      },
      "source": [
        "<h2>4.4 <span style='color:#E71414; font-weight: bold;'>|</span> Evaluate Model</h2>"
      ]
    },
    {
      "cell_type": "code",
      "execution_count": null,
      "metadata": {
        "_kg_hide-input": true,
        "_kg_hide-output": true,
        "colab": {
          "base_uri": "https://localhost:8080/"
        },
        "execution": {
          "iopub.execute_input": "2022-04-30T13:34:41.673863Z",
          "iopub.status.busy": "2022-04-30T13:34:41.673315Z",
          "iopub.status.idle": "2022-04-30T13:35:18.150982Z",
          "shell.execute_reply": "2022-04-30T13:35:18.149645Z",
          "shell.execute_reply.started": "2022-04-30T13:34:41.673824Z"
        },
        "id": "L2FUtGt_vqbf",
        "outputId": "37ef0d18-043e-49ed-d422-02201a7f6662"
      },
      "outputs": [
        {
          "name": "stderr",
          "output_type": "stream",
          "text": [
            "\r",
            "  0%|          | 0/58 [00:00<?, ?it/s]"
          ]
        },
        {
          "name": "stdout",
          "output_type": "stream",
          "text": [
            "4/4 [==============================] - 1s 20ms/step\n"
          ]
        },
        {
          "name": "stderr",
          "output_type": "stream",
          "text": [
            "\r",
            "  2%|▏         | 1/58 [00:01<01:35,  1.67s/it]"
          ]
        },
        {
          "name": "stdout",
          "output_type": "stream",
          "text": [
            "4/4 [==============================] - 0s 24ms/step\n"
          ]
        },
        {
          "name": "stderr",
          "output_type": "stream",
          "text": [
            "\r",
            "  3%|▎         | 2/58 [00:01<00:48,  1.15it/s]"
          ]
        },
        {
          "name": "stdout",
          "output_type": "stream",
          "text": [
            "4/4 [==============================] - 0s 24ms/step\n"
          ]
        },
        {
          "name": "stderr",
          "output_type": "stream",
          "text": [
            "\r",
            "  5%|▌         | 3/58 [00:02<00:33,  1.65it/s]"
          ]
        },
        {
          "name": "stdout",
          "output_type": "stream",
          "text": [
            "4/4 [==============================] - 0s 24ms/step\n"
          ]
        },
        {
          "name": "stderr",
          "output_type": "stream",
          "text": [
            "\r",
            "  7%|▋         | 4/58 [00:02<00:27,  1.99it/s]"
          ]
        },
        {
          "name": "stdout",
          "output_type": "stream",
          "text": [
            "4/4 [==============================] - 0s 23ms/step\n"
          ]
        },
        {
          "name": "stderr",
          "output_type": "stream",
          "text": [
            "\r",
            "  9%|▊         | 5/58 [00:02<00:22,  2.32it/s]"
          ]
        },
        {
          "name": "stdout",
          "output_type": "stream",
          "text": [
            "4/4 [==============================] - 0s 24ms/step\n"
          ]
        },
        {
          "name": "stderr",
          "output_type": "stream",
          "text": [
            "\r",
            " 10%|█         | 6/58 [00:03<00:20,  2.59it/s]"
          ]
        },
        {
          "name": "stdout",
          "output_type": "stream",
          "text": [
            "4/4 [==============================] - 0s 24ms/step\n"
          ]
        },
        {
          "name": "stderr",
          "output_type": "stream",
          "text": [
            "\r",
            " 12%|█▏        | 7/58 [00:03<00:18,  2.75it/s]"
          ]
        },
        {
          "name": "stdout",
          "output_type": "stream",
          "text": [
            "4/4 [==============================] - 0s 24ms/step\n"
          ]
        },
        {
          "name": "stderr",
          "output_type": "stream",
          "text": [
            "\r",
            " 14%|█▍        | 8/58 [00:03<00:17,  2.85it/s]"
          ]
        },
        {
          "name": "stdout",
          "output_type": "stream",
          "text": [
            "4/4 [==============================] - 0s 25ms/step\n"
          ]
        },
        {
          "name": "stderr",
          "output_type": "stream",
          "text": [
            "\r",
            " 16%|█▌        | 9/58 [00:04<00:16,  2.98it/s]"
          ]
        },
        {
          "name": "stdout",
          "output_type": "stream",
          "text": [
            "4/4 [==============================] - 0s 25ms/step\n"
          ]
        },
        {
          "name": "stderr",
          "output_type": "stream",
          "text": [
            "\r",
            " 17%|█▋        | 10/58 [00:04<00:15,  3.07it/s]"
          ]
        },
        {
          "name": "stdout",
          "output_type": "stream",
          "text": [
            "4/4 [==============================] - 0s 24ms/step\n"
          ]
        },
        {
          "name": "stderr",
          "output_type": "stream",
          "text": [
            "\r",
            " 19%|█▉        | 11/58 [00:04<00:14,  3.15it/s]"
          ]
        },
        {
          "name": "stdout",
          "output_type": "stream",
          "text": [
            "4/4 [==============================] - 0s 24ms/step\n"
          ]
        },
        {
          "name": "stderr",
          "output_type": "stream",
          "text": [
            "\r",
            " 21%|██        | 12/58 [00:05<00:14,  3.19it/s]"
          ]
        },
        {
          "name": "stdout",
          "output_type": "stream",
          "text": [
            "4/4 [==============================] - 0s 24ms/step\n"
          ]
        },
        {
          "name": "stderr",
          "output_type": "stream",
          "text": [
            "\r",
            " 22%|██▏       | 13/58 [00:05<00:13,  3.22it/s]"
          ]
        },
        {
          "name": "stdout",
          "output_type": "stream",
          "text": [
            "4/4 [==============================] - 0s 24ms/step\n"
          ]
        },
        {
          "name": "stderr",
          "output_type": "stream",
          "text": [
            "\r",
            " 24%|██▍       | 14/58 [00:05<00:14,  3.12it/s]"
          ]
        },
        {
          "name": "stdout",
          "output_type": "stream",
          "text": [
            "4/4 [==============================] - 0s 24ms/step\n"
          ]
        },
        {
          "name": "stderr",
          "output_type": "stream",
          "text": [
            "\r",
            " 26%|██▌       | 15/58 [00:06<00:13,  3.18it/s]"
          ]
        },
        {
          "name": "stdout",
          "output_type": "stream",
          "text": [
            "4/4 [==============================] - 0s 24ms/step\n"
          ]
        },
        {
          "name": "stderr",
          "output_type": "stream",
          "text": [
            "\r",
            " 28%|██▊       | 16/58 [00:06<00:12,  3.24it/s]"
          ]
        },
        {
          "name": "stdout",
          "output_type": "stream",
          "text": [
            "4/4 [==============================] - 0s 24ms/step\n"
          ]
        },
        {
          "name": "stderr",
          "output_type": "stream",
          "text": [
            "\r",
            " 29%|██▉       | 17/58 [00:06<00:13,  3.14it/s]"
          ]
        },
        {
          "name": "stdout",
          "output_type": "stream",
          "text": [
            "4/4 [==============================] - 0s 24ms/step\n"
          ]
        },
        {
          "name": "stderr",
          "output_type": "stream",
          "text": [
            "\r",
            " 31%|███       | 18/58 [00:06<00:13,  3.08it/s]"
          ]
        },
        {
          "name": "stdout",
          "output_type": "stream",
          "text": [
            "4/4 [==============================] - 0s 25ms/step\n"
          ]
        },
        {
          "name": "stderr",
          "output_type": "stream",
          "text": [
            "\r",
            " 33%|███▎      | 19/58 [00:07<00:12,  3.04it/s]"
          ]
        },
        {
          "name": "stdout",
          "output_type": "stream",
          "text": [
            "4/4 [==============================] - 0s 25ms/step\n"
          ]
        },
        {
          "name": "stderr",
          "output_type": "stream",
          "text": [
            "\r",
            " 34%|███▍      | 20/58 [00:07<00:12,  3.00it/s]"
          ]
        },
        {
          "name": "stdout",
          "output_type": "stream",
          "text": [
            "4/4 [==============================] - 0s 25ms/step\n"
          ]
        },
        {
          "name": "stderr",
          "output_type": "stream",
          "text": [
            "\r",
            " 36%|███▌      | 21/58 [00:08<00:13,  2.76it/s]"
          ]
        },
        {
          "name": "stdout",
          "output_type": "stream",
          "text": [
            "4/4 [==============================] - 0s 27ms/step\n"
          ]
        },
        {
          "name": "stderr",
          "output_type": "stream",
          "text": [
            "\r",
            " 38%|███▊      | 22/58 [00:08<00:13,  2.60it/s]"
          ]
        },
        {
          "name": "stdout",
          "output_type": "stream",
          "text": [
            "4/4 [==============================] - 0s 26ms/step\n"
          ]
        },
        {
          "name": "stderr",
          "output_type": "stream",
          "text": [
            "\r",
            " 40%|███▉      | 23/58 [00:08<00:14,  2.47it/s]"
          ]
        },
        {
          "name": "stdout",
          "output_type": "stream",
          "text": [
            "4/4 [==============================] - 0s 24ms/step\n"
          ]
        },
        {
          "name": "stderr",
          "output_type": "stream",
          "text": [
            "\r",
            " 41%|████▏     | 24/58 [00:09<00:14,  2.39it/s]"
          ]
        },
        {
          "name": "stdout",
          "output_type": "stream",
          "text": [
            "4/4 [==============================] - 0s 27ms/step\n"
          ]
        },
        {
          "name": "stderr",
          "output_type": "stream",
          "text": [
            "\r",
            " 43%|████▎     | 25/58 [00:09<00:13,  2.36it/s]"
          ]
        },
        {
          "name": "stdout",
          "output_type": "stream",
          "text": [
            "4/4 [==============================] - 0s 25ms/step\n"
          ]
        },
        {
          "name": "stderr",
          "output_type": "stream",
          "text": [
            "\r",
            " 45%|████▍     | 26/58 [00:10<00:13,  2.39it/s]"
          ]
        },
        {
          "name": "stdout",
          "output_type": "stream",
          "text": [
            "4/4 [==============================] - 0s 24ms/step\n"
          ]
        },
        {
          "name": "stderr",
          "output_type": "stream",
          "text": [
            "\r",
            " 47%|████▋     | 27/58 [00:10<00:12,  2.57it/s]"
          ]
        },
        {
          "name": "stdout",
          "output_type": "stream",
          "text": [
            "4/4 [==============================] - 0s 25ms/step\n"
          ]
        },
        {
          "name": "stderr",
          "output_type": "stream",
          "text": [
            "\r",
            " 48%|████▊     | 28/58 [00:10<00:10,  2.77it/s]"
          ]
        },
        {
          "name": "stdout",
          "output_type": "stream",
          "text": [
            "4/4 [==============================] - 0s 24ms/step\n"
          ]
        },
        {
          "name": "stderr",
          "output_type": "stream",
          "text": [
            "\r",
            " 50%|█████     | 29/58 [00:11<00:10,  2.81it/s]"
          ]
        },
        {
          "name": "stdout",
          "output_type": "stream",
          "text": [
            "4/4 [==============================] - 0s 23ms/step\n"
          ]
        },
        {
          "name": "stderr",
          "output_type": "stream",
          "text": [
            "\r",
            " 52%|█████▏    | 30/58 [00:11<00:09,  2.97it/s]"
          ]
        },
        {
          "name": "stdout",
          "output_type": "stream",
          "text": [
            "4/4 [==============================] - 0s 24ms/step\n"
          ]
        },
        {
          "name": "stderr",
          "output_type": "stream",
          "text": [
            "\r",
            " 53%|█████▎    | 31/58 [00:11<00:09,  2.96it/s]"
          ]
        },
        {
          "name": "stdout",
          "output_type": "stream",
          "text": [
            "4/4 [==============================] - 0s 24ms/step\n"
          ]
        },
        {
          "name": "stderr",
          "output_type": "stream",
          "text": [
            "\r",
            " 55%|█████▌    | 32/58 [00:12<00:08,  3.09it/s]"
          ]
        },
        {
          "name": "stdout",
          "output_type": "stream",
          "text": [
            "4/4 [==============================] - 0s 25ms/step\n"
          ]
        },
        {
          "name": "stderr",
          "output_type": "stream",
          "text": [
            "\r",
            " 57%|█████▋    | 33/58 [00:12<00:07,  3.19it/s]"
          ]
        },
        {
          "name": "stdout",
          "output_type": "stream",
          "text": [
            "4/4 [==============================] - 0s 23ms/step\n"
          ]
        },
        {
          "name": "stderr",
          "output_type": "stream",
          "text": [
            "\r",
            " 59%|█████▊    | 34/58 [00:12<00:07,  3.24it/s]"
          ]
        },
        {
          "name": "stdout",
          "output_type": "stream",
          "text": [
            "4/4 [==============================] - 0s 24ms/step\n"
          ]
        },
        {
          "name": "stderr",
          "output_type": "stream",
          "text": [
            "\r",
            " 60%|██████    | 35/58 [00:13<00:06,  3.29it/s]"
          ]
        },
        {
          "name": "stdout",
          "output_type": "stream",
          "text": [
            "4/4 [==============================] - 0s 24ms/step\n"
          ]
        },
        {
          "name": "stderr",
          "output_type": "stream",
          "text": [
            "\r",
            " 62%|██████▏   | 36/58 [00:13<00:06,  3.32it/s]"
          ]
        },
        {
          "name": "stdout",
          "output_type": "stream",
          "text": [
            "4/4 [==============================] - 0s 25ms/step\n"
          ]
        },
        {
          "name": "stderr",
          "output_type": "stream",
          "text": [
            "\r",
            " 64%|██████▍   | 37/58 [00:13<00:06,  3.33it/s]"
          ]
        },
        {
          "name": "stdout",
          "output_type": "stream",
          "text": [
            "4/4 [==============================] - 0s 25ms/step\n"
          ]
        },
        {
          "name": "stderr",
          "output_type": "stream",
          "text": [
            "\r",
            " 66%|██████▌   | 38/58 [00:14<00:06,  3.14it/s]"
          ]
        },
        {
          "name": "stdout",
          "output_type": "stream",
          "text": [
            "4/4 [==============================] - 0s 24ms/step\n"
          ]
        },
        {
          "name": "stderr",
          "output_type": "stream",
          "text": [
            "\r",
            " 67%|██████▋   | 39/58 [00:14<00:06,  3.05it/s]"
          ]
        },
        {
          "name": "stdout",
          "output_type": "stream",
          "text": [
            "4/4 [==============================] - 0s 24ms/step\n"
          ]
        },
        {
          "name": "stderr",
          "output_type": "stream",
          "text": [
            "\r",
            " 69%|██████▉   | 40/58 [00:14<00:05,  3.05it/s]"
          ]
        },
        {
          "name": "stdout",
          "output_type": "stream",
          "text": [
            "4/4 [==============================] - 0s 24ms/step\n"
          ]
        },
        {
          "name": "stderr",
          "output_type": "stream",
          "text": [
            "\r",
            " 71%|███████   | 41/58 [00:15<00:05,  3.04it/s]"
          ]
        },
        {
          "name": "stdout",
          "output_type": "stream",
          "text": [
            "4/4 [==============================] - 0s 24ms/step\n"
          ]
        },
        {
          "name": "stderr",
          "output_type": "stream",
          "text": [
            "\r",
            " 72%|███████▏  | 42/58 [00:15<00:05,  3.00it/s]"
          ]
        },
        {
          "name": "stdout",
          "output_type": "stream",
          "text": [
            "4/4 [==============================] - 0s 24ms/step\n"
          ]
        },
        {
          "name": "stderr",
          "output_type": "stream",
          "text": [
            "\r",
            " 74%|███████▍  | 43/58 [00:15<00:04,  3.06it/s]"
          ]
        },
        {
          "name": "stdout",
          "output_type": "stream",
          "text": [
            "4/4 [==============================] - 0s 25ms/step\n"
          ]
        },
        {
          "name": "stderr",
          "output_type": "stream",
          "text": [
            "\r",
            " 76%|███████▌  | 44/58 [00:15<00:04,  3.14it/s]"
          ]
        },
        {
          "name": "stdout",
          "output_type": "stream",
          "text": [
            "4/4 [==============================] - 0s 23ms/step\n"
          ]
        },
        {
          "name": "stderr",
          "output_type": "stream",
          "text": [
            "\r",
            " 78%|███████▊  | 45/58 [00:16<00:04,  3.20it/s]"
          ]
        },
        {
          "name": "stdout",
          "output_type": "stream",
          "text": [
            "4/4 [==============================] - 0s 23ms/step\n"
          ]
        },
        {
          "name": "stderr",
          "output_type": "stream",
          "text": [
            "\r",
            " 79%|███████▉  | 46/58 [00:16<00:03,  3.12it/s]"
          ]
        },
        {
          "name": "stdout",
          "output_type": "stream",
          "text": [
            "4/4 [==============================] - 0s 24ms/step\n"
          ]
        },
        {
          "name": "stderr",
          "output_type": "stream",
          "text": [
            "\r",
            " 81%|████████  | 47/58 [00:16<00:03,  3.08it/s]"
          ]
        },
        {
          "name": "stdout",
          "output_type": "stream",
          "text": [
            "4/4 [==============================] - 0s 24ms/step\n"
          ]
        },
        {
          "name": "stderr",
          "output_type": "stream",
          "text": [
            "\r",
            " 83%|████████▎ | 48/58 [00:17<00:03,  3.15it/s]"
          ]
        },
        {
          "name": "stdout",
          "output_type": "stream",
          "text": [
            "4/4 [==============================] - 0s 24ms/step\n"
          ]
        },
        {
          "name": "stderr",
          "output_type": "stream",
          "text": [
            "\r",
            " 84%|████████▍ | 49/58 [00:17<00:02,  3.11it/s]"
          ]
        },
        {
          "name": "stdout",
          "output_type": "stream",
          "text": [
            "4/4 [==============================] - 0s 24ms/step\n"
          ]
        },
        {
          "name": "stderr",
          "output_type": "stream",
          "text": [
            "\r",
            " 86%|████████▌ | 50/58 [00:17<00:02,  3.16it/s]"
          ]
        },
        {
          "name": "stdout",
          "output_type": "stream",
          "text": [
            "4/4 [==============================] - 0s 24ms/step\n"
          ]
        },
        {
          "name": "stderr",
          "output_type": "stream",
          "text": [
            "\r",
            " 88%|████████▊ | 51/58 [00:18<00:02,  3.21it/s]"
          ]
        },
        {
          "name": "stdout",
          "output_type": "stream",
          "text": [
            "4/4 [==============================] - 0s 24ms/step\n"
          ]
        },
        {
          "name": "stderr",
          "output_type": "stream",
          "text": [
            "\r",
            " 90%|████████▉ | 52/58 [00:18<00:01,  3.27it/s]"
          ]
        },
        {
          "name": "stdout",
          "output_type": "stream",
          "text": [
            "4/4 [==============================] - 0s 24ms/step\n"
          ]
        },
        {
          "name": "stderr",
          "output_type": "stream",
          "text": [
            "\r",
            " 91%|█████████▏| 53/58 [00:18<00:01,  3.32it/s]"
          ]
        },
        {
          "name": "stdout",
          "output_type": "stream",
          "text": [
            "4/4 [==============================] - 0s 24ms/step\n"
          ]
        },
        {
          "name": "stderr",
          "output_type": "stream",
          "text": [
            "\r",
            " 93%|█████████▎| 54/58 [00:19<00:01,  3.34it/s]"
          ]
        },
        {
          "name": "stdout",
          "output_type": "stream",
          "text": [
            "4/4 [==============================] - 0s 25ms/step\n"
          ]
        },
        {
          "name": "stderr",
          "output_type": "stream",
          "text": [
            "\r",
            " 95%|█████████▍| 55/58 [00:19<00:00,  3.31it/s]"
          ]
        },
        {
          "name": "stdout",
          "output_type": "stream",
          "text": [
            "4/4 [==============================] - 0s 24ms/step\n"
          ]
        },
        {
          "name": "stderr",
          "output_type": "stream",
          "text": [
            "\r",
            " 97%|█████████▋| 56/58 [00:19<00:00,  3.28it/s]"
          ]
        },
        {
          "name": "stdout",
          "output_type": "stream",
          "text": [
            "4/4 [==============================] - 0s 24ms/step\n"
          ]
        },
        {
          "name": "stderr",
          "output_type": "stream",
          "text": [
            "\r",
            " 98%|█████████▊| 57/58 [00:20<00:00,  3.19it/s]"
          ]
        },
        {
          "name": "stdout",
          "output_type": "stream",
          "text": [
            "4/4 [==============================] - 0s 25ms/step\n"
          ]
        },
        {
          "name": "stderr",
          "output_type": "stream",
          "text": [
            "\r",
            "100%|██████████| 58/58 [00:20<00:00,  3.20it/s]"
          ]
        },
        {
          "name": "stdout",
          "output_type": "stream",
          "text": [
            "3/3 [==============================] - 1s 324ms/step\n"
          ]
        },
        {
          "name": "stderr",
          "output_type": "stream",
          "text": [
            "59it [00:21,  2.69it/s]\n"
          ]
        }
      ],
      "source": [
        "batch_size=128\n",
        "steps = int(len(x_val_paths)/batch_size)\n",
        "y_pred = []\n",
        "y_true = []\n",
        "for x,y in tqdm(datagen(x_val_paths, y_val, batch_size=batch_size, epochs=1, augment=False), total=steps):\n",
        "    pred = model.predict(x)\n",
        "    pred = np.argmax(pred, axis=-1)\n",
        "    for i in decode_labels(pred):\n",
        "        y_pred.append(i)\n",
        "    for i in decode_labels(y):\n",
        "        y_true.append(i)"
      ]
    },
    {
      "cell_type": "code",
      "execution_count": null,
      "metadata": {
        "_kg_hide-input": true,
        "colab": {
          "base_uri": "https://localhost:8080/"
        },
        "execution": {
          "iopub.execute_input": "2022-04-30T13:35:29.471256Z",
          "iopub.status.busy": "2022-04-30T13:35:29.470992Z",
          "iopub.status.idle": "2022-04-30T13:35:29.699226Z",
          "shell.execute_reply": "2022-04-30T13:35:29.698299Z",
          "shell.execute_reply.started": "2022-04-30T13:35:29.471229Z"
        },
        "id": "P6pVmJAbvqbg",
        "outputId": "8ca68464-1658-442f-ee46-7e1f6c9a3f35"
      },
      "outputs": [
        {
          "name": "stdout",
          "output_type": "stream",
          "text": [
            "              precision    recall  f1-score   support\n",
            "\n",
            "     Arborio      0.994     0.997     0.995      1500\n",
            "     Basmati      0.999     0.992     0.996      1500\n",
            "      Ipsala      0.999     0.998     0.998      1500\n",
            "     Jasmine      0.989     0.997     0.993      1500\n",
            "   Karacadag      0.999     0.996     0.997      1500\n",
            "\n",
            "    accuracy                          0.996      7500\n",
            "   macro avg      0.996     0.996     0.996      7500\n",
            "weighted avg      0.996     0.996     0.996      7500\n",
            "\n"
          ]
        }
      ],
      "source": [
        "print(classification_report(y_true, y_pred, digits=3))"
      ]
    },
    {
      "cell_type": "code",
      "execution_count": null,
      "metadata": {
        "_kg_hide-input": true,
        "colab": {
          "base_uri": "https://localhost:8080/",
          "height": 755
        },
        "execution": {
          "iopub.execute_input": "2022-04-30T13:35:32.021546Z",
          "iopub.status.busy": "2022-04-30T13:35:32.021134Z",
          "iopub.status.idle": "2022-04-30T13:35:32.385881Z",
          "shell.execute_reply": "2022-04-30T13:35:32.385178Z",
          "shell.execute_reply.started": "2022-04-30T13:35:32.021512Z"
        },
        "id": "g-gXdzbCvqbg",
        "outputId": "9bddfb72-03d1-4fc3-d7bb-570a30fd8be0"
      },
      "outputs": [
        {
          "data": {
            "image/png": "[encoded data removed]",
            "text/plain": [
              "<Figure size 1000x800 with 2 Axes>"
            ]
          },
          "metadata": {},
          "output_type": "display_data"
        }
      ],
      "source": [
        "cm = confusion_matrix(y_true, y_pred)\n",
        "\n",
        "plt.figure(figsize=(10,8))\n",
        "\n",
        "ax = sns.heatmap(cm/np.sum(cm),fmt='.2%', annot=True, cmap='Blues')\n",
        "\n",
        "ax.set_title('Confusion Matrix with labels\\n');\n",
        "ax.set_xlabel('\\nPredicted Values')\n",
        "ax.set_ylabel('Actual Values ');\n",
        "\n",
        "ax.xaxis.set_ticklabels(unique_labels)\n",
        "ax.yaxis.set_ticklabels(unique_labels)\n",
        "\n",
        "plt.show()"
      ]
    },
    {
      "cell_type": "markdown",
      "metadata": {
        "id": "cUCN5fZQvqbg"
      },
      "source": [
        "# <b>5 <span style='color:#E71414; font-weight: bold;'>|</span> Inference</b>"
      ]
    },
    {
      "cell_type": "code",
      "execution_count": null,
      "metadata": {
        "execution": {
          "iopub.execute_input": "2022-04-30T13:35:34.694386Z",
          "iopub.status.busy": "2022-04-30T13:35:34.693729Z",
          "iopub.status.idle": "2022-04-30T13:35:34.701169Z",
          "shell.execute_reply": "2022-04-30T13:35:34.700429Z",
          "shell.execute_reply.started": "2022-04-30T13:35:34.694349Z"
        },
        "id": "fsCt35W1vqbh"
      },
      "outputs": [],
      "source": [
        "def predict(images):\n",
        "    pred = model.predict(images)\n",
        "    pred = np.argmax(pred, axis=-1)\n",
        "    pred = decode_labels(pred)\n",
        "    return pred"
      ]
    },
    {
      "cell_type": "code",
      "execution_count": null,
      "metadata": {
        "colab": {
          "base_uri": "https://localhost:8080/",
          "height": 593
        },
        "execution": {
          "iopub.execute_input": "2022-04-30T13:39:01.87186Z",
          "iopub.status.busy": "2022-04-30T13:39:01.870985Z",
          "iopub.status.idle": "2022-04-30T13:39:02.313928Z",
          "shell.execute_reply": "2022-04-30T13:39:02.313237Z",
          "shell.execute_reply.started": "2022-04-30T13:39:01.871822Z"
        },
        "id": "SAQC07Mivqbo",
        "outputId": "c0bf10d3-9870-4913-eb91-75f660dffecc"
      },
      "outputs": [
        {
          "name": "stdout",
          "output_type": "stream",
          "text": [
            "1/1 [==============================] - 0s 465ms/step\n"
          ]
        },
        {
          "data": {
            "image/png": "[encoded data removed]",
            "text/plain": [
              "<Figure size 1200x700 with 8 Axes>"
            ]
          },
          "metadata": {},
          "output_type": "display_data"
        }
      ],
      "source": [
        "NUM_IMAGES = 8\n",
        "idx = random.sample(range(len(y_val)), NUM_IMAGES)\n",
        "\n",
        "labels = [y_val[x] for x in idx]\n",
        "image_paths = [x_val_paths[x] for x in idx]\n",
        "images = open_images(image_paths, augment=False)\n",
        "pred = predict(images)\n",
        "\n",
        "cols = 4\n",
        "rows = 2\n",
        "fig = plt.figure(figsize=(12, 7))\n",
        "\n",
        "for x in range(NUM_IMAGES):\n",
        "    fig.add_subplot(rows, cols, x+1)\n",
        "    plt.axis('off')\n",
        "    plt.title('Predicted:'+str(labels[x])+'\\nActual:'+str(labels[x]))\n",
        "    plt.imshow(images[x])\n",
        "plt.show()"
      ]
    }
  ],
  "metadata": {
    "accelerator": "GPU",
    "colab": {
      "gpuType": "T4",
      "provenance": [],
      "include_colab_link": true
    },
    "kernelspec": {
      "display_name": "Python 3",
      "name": "python3"
    },
    "language_info": {
      "codemirror_mode": {
        "name": "ipython",
        "version": 3
      },
      "file_extension": ".py",
      "mimetype": "text/x-python",
      "name": "python",
      "nbconvert_exporter": "python",
      "pygments_lexer": "ipython3",
      "version": "3.6.4"
    }
  },
  "nbformat": 4,
  "nbformat_minor": 0
}