{
  "cells": [
    {
      "cell_type": "markdown",
      "metadata": {
        "id": "view-in-github",
        "colab_type": "text"
      },
      "source": [
        "<a href=\"https://colab.research.google.com/github/bhuvansun/rice-classification/blob/main/02_insurance_linear.ipynb\" target=\"_parent\"><img src=\"https://colab.research.google.com/assets/colab-badge.svg\" alt=\"Open In Colab\"/></a>"
      ]
    },
    {
      "cell_type": "markdown",
      "metadata": {
        "_cell_guid": "b1076dfc-b9ad-4769-8c92-a6c4dae69d19",
        "_uuid": "8f2839f25d086af736a60e9eeb907d3b93b6e0e5",
        "id": "64IxTXD1C42a"
      },
      "source": [
        "# Insurance cost prediction using linear regression\n",
        "\n",
        "Make a submisson here: https://jovian.ai/learn/deep-learning-with-pytorch-zero-to-gans/assignment/assignment-2-train-your-first-model\n",
        "\n",
        "In this assignment we're going to use information like a person's age, sex, BMI, no. of children and smoking habit to predict the price of yearly medical bills. This kind of model is useful for insurance companies to determine the yearly insurance premium for a person. The dataset for this problem is taken from [Kaggle](https://www.kaggle.com/mirichoi0218/insurance).\n",
        "\n",
        "\n",
        "We will create a model with the following steps:\n",
        "1. Download and explore the dataset\n",
        "2. Prepare the dataset for training\n",
        "3. Create a linear regression model\n",
        "4. Train the model to fit the data\n",
        "5. Make predictions using the trained model\n",
        "\n",
        "\n",
        "This assignment builds upon the concepts from the first 2 lessons. It will help to review these Jupyter notebooks:\n",
        "- PyTorch basics: https://jovian.ai/aakashns/01-pytorch-basics\n",
        "- Linear Regression: https://jovian.ai/aakashns/02-linear-regression\n",
        "- Logistic Regression: https://jovian.ai/aakashns/03-logistic-regression\n",
        "- Linear regression (minimal): https://jovian.ai/aakashns/housing-linear-minimal\n",
        "- Logistic regression (minimal): https://jovian.ai/aakashns/mnist-logistic-minimal\n",
        "\n",
        "As you go through this notebook, you will find a **???** in certain places. Your job is to replace the **???** with appropriate code or values, to ensure that the notebook runs properly end-to-end . In some cases, you'll be required to choose some hyperparameters (learning rate, batch size etc.). Try to experiment with the hypeparameters to get the lowest loss.\n"
      ]
    },
    {
      "cell_type": "code",
      "execution_count": null,
      "metadata": {
        "id": "ub-7u6WpC42d"
      },
      "outputs": [],
      "source": [
        "# Uncomment and run the appropriate command for your operating system, if required\n",
        "\n",
        "# Linux / Binder\n",
        "# !pip install numpy matplotlib pandas torch==1.7.0+cpu torchvision==0.8.1+cpu torchaudio==0.7.0 -f https://download.pytorch.org/whl/torch_stable.html\n",
        "\n",
        "# Windows\n",
        "# !pip install numpy matplotlib pandas torch==1.7.0+cpu torchvision==0.8.1+cpu torchaudio==0.7.0 -f https://download.pytorch.org/whl/torch_stable.html\n",
        "\n",
        "# MacOS\n",
        "# !pip install numpy matplotlib pandas torch torchvision torchaudio"
      ]
    },
    {
      "cell_type": "code",
      "execution_count": null,
      "metadata": {
        "colab": {
          "base_uri": "https://localhost:8080/",
          "height": 467
        },
        "id": "DsFkOURNDD2M",
        "outputId": "8ffd7c52-7ec1-4e63-c8d8-3cd3d18f5a85"
      },
      "outputs": [
        {
          "name": "stdout",
          "output_type": "stream",
          "text": [
            "Looking in indexes: https://pypi.org/simple, https://us-python.pkg.dev/colab-wheels/public/simple/\n",
            "Collecting jovian\n",
            "  Downloading jovian-0.2.47-py2.py3-none-any.whl (68 kB)\n",
            "\u001b[2K     \u001b[90m━━━━━━━━━━━━━━━━━━━━━━━━━━━━━━━━━━━━━━━━\u001b[0m \u001b[32m68.6/68.6 kB\u001b[0m \u001b[31m4.9 MB/s\u001b[0m eta \u001b[36m0:00:00\u001b[0m\n",
            "\u001b[?25hRequirement already satisfied: requests in /usr/local/lib/python3.10/dist-packages (from jovian) (2.27.1)\n",
            "Collecting uuid (from jovian)\n",
            "  Downloading uuid-1.30.tar.gz (5.8 kB)\n",
            "  Preparing metadata (setup.py) ... \u001b[?25l\u001b[?25hdone\n",
            "Requirement already satisfied: pyyaml in /usr/local/lib/python3.10/dist-packages (from jovian) (6.0)\n",
            "Requirement already satisfied: click in /usr/local/lib/python3.10/dist-packages (from jovian) (8.1.3)\n",
            "Requirement already satisfied: urllib3<1.27,>=1.21.1 in /usr/local/lib/python3.10/dist-packages (from requests->jovian) (1.26.15)\n",
            "Requirement already satisfied: certifi>=2017.4.17 in /usr/local/lib/python3.10/dist-packages (from requests->jovian) (2022.12.7)\n",
            "Requirement already satisfied: charset-normalizer~=2.0.0 in /usr/local/lib/python3.10/dist-packages (from requests->jovian) (2.0.12)\n",
            "Requirement already satisfied: idna<4,>=2.5 in /usr/local/lib/python3.10/dist-packages (from requests->jovian) (3.4)\n",
            "Building wheels for collected packages: uuid\n",
            "  Building wheel for uuid (setup.py) ... \u001b[?25l\u001b[?25hdone\n",
            "  Created wheel for uuid: filename=uuid-1.30-py3-none-any.whl size=6478 sha256=32a09f19acbccdd6cff7f42ff49c7e31b8807754b8e9bc7a85310acf1cc843f9\n",
            "  Stored in directory: /root/.cache/pip/wheels/ed/08/9e/f0a977dfe55051a07e21af89200125d65f1efa60cbac61ed88\n",
            "Successfully built uuid\n",
            "Installing collected packages: uuid, jovian\n",
            "Successfully installed jovian-0.2.47 uuid-1.30\n"
          ]
        },
        {
          "data": {
            "application/vnd.colab-display-data+json": {
              "pip_warning": {
                "packages": [
                  "uuid"
                ]
              }
            }
          },
          "metadata": {},
          "output_type": "display_data"
        }
      ],
      "source": [
        "!pip install jovian"
      ]
    },
    {
      "cell_type": "code",
      "execution_count": null,
      "metadata": {
        "id": "CwuloyZRC42e"
      },
      "outputs": [],
      "source": [
        "import torch\n",
        "import jovian\n",
        "import torchvision\n",
        "import torch.nn as nn\n",
        "import pandas as pd\n",
        "import matplotlib.pyplot as plt\n",
        "import torch.nn.functional as F\n",
        "from torchvision.datasets.utils import download_url\n",
        "from torch.utils.data import DataLoader, TensorDataset, random_split"
      ]
    },
    {
      "cell_type": "code",
      "execution_count": null,
      "metadata": {
        "id": "77XHvtE1C42e"
      },
      "outputs": [],
      "source": [
        "project_name='02-insurance-linear-regression' # will be used by jovian.commit"
      ]
    },
    {
      "cell_type": "markdown",
      "metadata": {
        "id": "A0XXd8b2C42f"
      },
      "source": [
        "## Step 1: Download and explore the data\n",
        "\n",
        "Let us begin by downloading the data. We'll use the `download_url` function from PyTorch to get the data as a CSV (comma-separated values) file."
      ]
    },
    {
      "cell_type": "code",
      "execution_count": null,
      "metadata": {
        "_cell_guid": "79c7e3d0-c299-4dcb-8224-4455121ee9b0",
        "_uuid": "d629ff2d2480ee46fbb7e2d37f6b5fab8052498a",
        "colab": {
          "base_uri": "https://localhost:8080/"
        },
        "id": "i1ydJHPIC42f",
        "outputId": "6f192bec-5f5a-4c7b-c5b6-18a8a82c01fb"
      },
      "outputs": [
        {
          "name": "stdout",
          "output_type": "stream",
          "text": [
            "Downloading https://gist.githubusercontent.com/BirajCoder/5f068dfe759c1ea6bdfce9535acdb72d/raw/c84d84e3c80f93be67f6c069cbdc0195ec36acbd/insurance.csv to ./insurance.csv\n"
          ]
        },
        {
          "name": "stderr",
          "output_type": "stream",
          "text": [
            "100%|██████████| 54288/54288 [00:00<00:00, 19048048.82it/s]\n"
          ]
        }
      ],
      "source": [
        "DATASET_URL = \"https://gist.github.com/BirajCoder/5f068dfe759c1ea6bdfce9535acdb72d/raw/c84d84e3c80f93be67f6c069cbdc0195ec36acbd/insurance.csv\"\n",
        "DATA_FILENAME = \"insurance.csv\"\n",
        "download_url(DATASET_URL, '.')"
      ]
    },
    {
      "cell_type": "markdown",
      "metadata": {
        "id": "gxmxXWeuC42f"
      },
      "source": [
        "To load the dataset into memory, we'll use the `read_csv` function from the `pandas` library. The data will be loaded as a Pandas dataframe. See this short tutorial to learn more: https://data36.com/pandas-tutorial-1-basics-reading-data-files-dataframes-data-selection/"
      ]
    },
    {
      "cell_type": "code",
      "execution_count": null,
      "metadata": {
        "colab": {
          "base_uri": "https://localhost:8080/",
          "height": 206
        },
        "id": "_bLR9tJTC42g",
        "outputId": "2db8aa93-32a5-4b13-9282-96f67895d059"
      },
      "outputs": [
        {
          "data": {
            "text/html": [
              "\n",
              "  <div id=\"df-71f94bf7-5d32-4d70-83ba-0eceaef540a7\">\n",
              "    <div class=\"colab-df-container\">\n",
              "      <div>\n",
              "<style scoped>\n",
              "    .dataframe tbody tr th:only-of-type {\n",
              "        vertical-align: middle;\n",
              "    }\n",
              "\n",
              "    .dataframe tbody tr th {\n",
              "        vertical-align: top;\n",
              "    }\n",
              "\n",
              "    .dataframe thead th {\n",
              "        text-align: right;\n",
              "    }\n",
              "</style>\n",
              "<table border=\"1\" class=\"dataframe\">\n",
              "  <thead>\n",
              "    <tr style=\"text-align: right;\">\n",
              "      <th></th>\n",
              "      <th>age</th>\n",
              "      <th>sex</th>\n",
              "      <th>bmi</th>\n",
              "      <th>children</th>\n",
              "      <th>smoker</th>\n",
              "      <th>region</th>\n",
              "      <th>charges</th>\n",
              "    </tr>\n",
              "  </thead>\n",
              "  <tbody>\n",
              "    <tr>\n",
              "      <th>0</th>\n",
              "      <td>19</td>\n",
              "      <td>female</td>\n",
              "      <td>27.900</td>\n",
              "      <td>0</td>\n",
              "      <td>yes</td>\n",
              "      <td>southwest</td>\n",
              "      <td>16884.92400</td>\n",
              "    </tr>\n",
              "    <tr>\n",
              "      <th>1</th>\n",
              "      <td>18</td>\n",
              "      <td>male</td>\n",
              "      <td>33.770</td>\n",
              "      <td>1</td>\n",
              "      <td>no</td>\n",
              "      <td>southeast</td>\n",
              "      <td>1725.55230</td>\n",
              "    </tr>\n",
              "    <tr>\n",
              "      <th>2</th>\n",
              "      <td>28</td>\n",
              "      <td>male</td>\n",
              "      <td>33.000</td>\n",
              "      <td>3</td>\n",
              "      <td>no</td>\n",
              "      <td>southeast</td>\n",
              "      <td>4449.46200</td>\n",
              "    </tr>\n",
              "    <tr>\n",
              "      <th>3</th>\n",
              "      <td>33</td>\n",
              "      <td>male</td>\n",
              "      <td>22.705</td>\n",
              "      <td>0</td>\n",
              "      <td>no</td>\n",
              "      <td>northwest</td>\n",
              "      <td>21984.47061</td>\n",
              "    </tr>\n",
              "    <tr>\n",
              "      <th>4</th>\n",
              "      <td>32</td>\n",
              "      <td>male</td>\n",
              "      <td>28.880</td>\n",
              "      <td>0</td>\n",
              "      <td>no</td>\n",
              "      <td>northwest</td>\n",
              "      <td>3866.85520</td>\n",
              "    </tr>\n",
              "  </tbody>\n",
              "</table>\n",
              "</div>\n",
              "      <button class=\"colab-df-convert\" onclick=\"convertToInteractive('df-71f94bf7-5d32-4d70-83ba-0eceaef540a7')\"\n",
              "              title=\"Convert this dataframe to an interactive table.\"\n",
              "              style=\"display:none;\">\n",
              "        \n",
              "  <svg xmlns=\"http://www.w3.org/2000/svg\" height=\"24px\"viewBox=\"0 0 24 24\"\n",
              "       width=\"24px\">\n",
              "    <path d=\"M0 0h24v24H0V0z\" fill=\"none\"/>\n",
              "    <path d=\"M18.56 5.44l.94 2.06.94-2.06 2.06-.94-2.06-.94-.94-2.06-.94 2.06-2.06.94zm-11 1L8.5 8.5l.94-2.06 2.06-.94-2.06-.94L8.5 2.5l-.94 2.06-2.06.94zm10 10l.94 2.06.94-2.06 2.06-.94-2.06-.94-.94-2.06-.94 2.06-2.06.94z\"/><path d=\"M17.41 7.96l-1.37-1.37c-.4-.4-.92-.59-1.43-.59-.52 0-1.04.2-1.43.59L10.3 9.45l-7.72 7.72c-.78.78-.78 2.05 0 2.83L4 21.41c.39.39.9.59 1.41.59.51 0 1.02-.2 1.41-.59l7.78-7.78 2.81-2.81c.8-.78.8-2.07 0-2.86zM5.41 20L4 18.59l7.72-7.72 1.47 1.35L5.41 20z\"/>\n",
              "  </svg>\n",
              "      </button>\n",
              "      \n",
              "  <style>\n",
              "    .colab-df-container {\n",
              "      display:flex;\n",
              "      flex-wrap:wrap;\n",
              "      gap: 12px;\n",
              "    }\n",
              "\n",
              "    .colab-df-convert {\n",
              "      background-color: #E8F0FE;\n",
              "      border: none;\n",
              "      border-radius: 50%;\n",
              "      cursor: pointer;\n",
              "      display: none;\n",
              "      fill: #1967D2;\n",
              "      height: 32px;\n",
              "      padding: 0 0 0 0;\n",
              "      width: 32px;\n",
              "    }\n",
              "\n",
              "    .colab-df-convert:hover {\n",
              "      background-color: #E2EBFA;\n",
              "      box-shadow: 0px 1px 2px rgba(60, 64, 67, 0.3), 0px 1px 3px 1px rgba(60, 64, 67, 0.15);\n",
              "      fill: #174EA6;\n",
              "    }\n",
              "\n",
              "    [theme=dark] .colab-df-convert {\n",
              "      background-color: #3B4455;\n",
              "      fill: #D2E3FC;\n",
              "    }\n",
              "\n",
              "    [theme=dark] .colab-df-convert:hover {\n",
              "      background-color: #434B5C;\n",
              "      box-shadow: 0px 1px 3px 1px rgba(0, 0, 0, 0.15);\n",
              "      filter: drop-shadow(0px 1px 2px rgba(0, 0, 0, 0.3));\n",
              "      fill: #FFFFFF;\n",
              "    }\n",
              "  </style>\n",
              "\n",
              "      <script>\n",
              "        const buttonEl =\n",
              "          document.querySelector('#df-71f94bf7-5d32-4d70-83ba-0eceaef540a7 button.colab-df-convert');\n",
              "        buttonEl.style.display =\n",
              "          google.colab.kernel.accessAllowed ? 'block' : 'none';\n",
              "\n",
              "        async function convertToInteractive(key) {\n",
              "          const element = document.querySelector('#df-71f94bf7-5d32-4d70-83ba-0eceaef540a7');\n",
              "          const dataTable =\n",
              "            await google.colab.kernel.invokeFunction('convertToInteractive',\n",
              "                                                     [key], {});\n",
              "          if (!dataTable) return;\n",
              "\n",
              "          const docLinkHtml = 'Like what you see? Visit the ' +\n",
              "            '<a target=\"_blank\" href=https://colab.research.google.com/notebooks/data_table.ipynb>data table notebook</a>'\n",
              "            + ' to learn more about interactive tables.';\n",
              "          element.innerHTML = '';\n",
              "          dataTable['output_type'] = 'display_data';\n",
              "          await google.colab.output.renderOutput(dataTable, element);\n",
              "          const docLink = document.createElement('div');\n",
              "          docLink.innerHTML = docLinkHtml;\n",
              "          element.appendChild(docLink);\n",
              "        }\n",
              "      </script>\n",
              "    </div>\n",
              "  </div>\n",
              "  "
            ],
            "text/plain": [
              "   age     sex     bmi  children smoker     region      charges\n",
              "0   19  female  27.900         0    yes  southwest  16884.92400\n",
              "1   18    male  33.770         1     no  southeast   1725.55230\n",
              "2   28    male  33.000         3     no  southeast   4449.46200\n",
              "3   33    male  22.705         0     no  northwest  21984.47061\n",
              "4   32    male  28.880         0     no  northwest   3866.85520"
            ]
          },
          "execution_count": 7,
          "metadata": {},
          "output_type": "execute_result"
        }
      ],
      "source": [
        "dataframe_raw = pd.read_csv(DATA_FILENAME)\n",
        "dataframe_raw.head()"
      ]
    },
    {
      "cell_type": "markdown",
      "metadata": {
        "id": "xRHQ_zO1C42g"
      },
      "source": [
        "We're going to do a slight customization of the data, so that you every participant receives a slightly different version of the dataset. Fill in your name below as a string (enter at least 5 characters)"
      ]
    },
    {
      "cell_type": "code",
      "execution_count": null,
      "metadata": {
        "id": "RixYNFOCC42g"
      },
      "outputs": [],
      "source": [
        "your_name = 'Bhuvan' # at least 5 characters"
      ]
    },
    {
      "cell_type": "markdown",
      "metadata": {
        "id": "bFK2lO09C42g"
      },
      "source": [
        "The `customize_dataset` function will customize the dataset slightly using your name as a source of random numbers."
      ]
    },
    {
      "cell_type": "code",
      "execution_count": null,
      "metadata": {
        "id": "rN8Y_ow3C42h"
      },
      "outputs": [],
      "source": [
        "def customize_dataset(dataframe_raw, rand_str):\n",
        "    dataframe = dataframe_raw.copy(deep=True)\n",
        "    # drop some rows\n",
        "    dataframe = dataframe.sample(int(0.95*len(dataframe)), random_state=int(ord(rand_str[0])))\n",
        "    # scale input\n",
        "    dataframe.bmi = dataframe.bmi * ord(rand_str[1])/100.\n",
        "    # scale target\n",
        "    dataframe.charges = dataframe.charges * ord(rand_str[2])/100.\n",
        "    # drop column\n",
        "    if ord(rand_str[3]) % 2 == 1:\n",
        "        dataframe = dataframe.drop(['region'], axis=1)\n",
        "    return dataframe"
      ]
    },
    {
      "cell_type": "code",
      "execution_count": null,
      "metadata": {
        "colab": {
          "base_uri": "https://localhost:8080/",
          "height": 206
        },
        "id": "7xfHX51ZC42h",
        "outputId": "5efc6a45-932e-4dbf-b2df-fe2cdaafdd24"
      },
      "outputs": [
        {
          "data": {
            "text/html": [
              "\n",
              "  <div id=\"df-12aa9361-aac9-49f4-a729-574895415802\">\n",
              "    <div class=\"colab-df-container\">\n",
              "      <div>\n",
              "<style scoped>\n",
              "    .dataframe tbody tr th:only-of-type {\n",
              "        vertical-align: middle;\n",
              "    }\n",
              "\n",
              "    .dataframe tbody tr th {\n",
              "        vertical-align: top;\n",
              "    }\n",
              "\n",
              "    .dataframe thead th {\n",
              "        text-align: right;\n",
              "    }\n",
              "</style>\n",
              "<table border=\"1\" class=\"dataframe\">\n",
              "  <thead>\n",
              "    <tr style=\"text-align: right;\">\n",
              "      <th></th>\n",
              "      <th>age</th>\n",
              "      <th>sex</th>\n",
              "      <th>bmi</th>\n",
              "      <th>children</th>\n",
              "      <th>smoker</th>\n",
              "      <th>region</th>\n",
              "      <th>charges</th>\n",
              "    </tr>\n",
              "  </thead>\n",
              "  <tbody>\n",
              "    <tr>\n",
              "      <th>397</th>\n",
              "      <td>21</td>\n",
              "      <td>male</td>\n",
              "      <td>32.2608</td>\n",
              "      <td>0</td>\n",
              "      <td>no</td>\n",
              "      <td>southeast</td>\n",
              "      <td>19406.202321</td>\n",
              "    </tr>\n",
              "    <tr>\n",
              "      <th>211</th>\n",
              "      <td>40</td>\n",
              "      <td>male</td>\n",
              "      <td>32.1100</td>\n",
              "      <td>4</td>\n",
              "      <td>no</td>\n",
              "      <td>northwest</td>\n",
              "      <td>9550.378012</td>\n",
              "    </tr>\n",
              "    <tr>\n",
              "      <th>304</th>\n",
              "      <td>57</td>\n",
              "      <td>female</td>\n",
              "      <td>39.5200</td>\n",
              "      <td>2</td>\n",
              "      <td>no</td>\n",
              "      <td>southwest</td>\n",
              "      <td>14796.062190</td>\n",
              "    </tr>\n",
              "    <tr>\n",
              "      <th>349</th>\n",
              "      <td>19</td>\n",
              "      <td>male</td>\n",
              "      <td>28.9484</td>\n",
              "      <td>0</td>\n",
              "      <td>no</td>\n",
              "      <td>northwest</td>\n",
              "      <td>1913.808370</td>\n",
              "    </tr>\n",
              "    <tr>\n",
              "      <th>733</th>\n",
              "      <td>48</td>\n",
              "      <td>female</td>\n",
              "      <td>28.3556</td>\n",
              "      <td>1</td>\n",
              "      <td>no</td>\n",
              "      <td>northeast</td>\n",
              "      <td>11053.282909</td>\n",
              "    </tr>\n",
              "  </tbody>\n",
              "</table>\n",
              "</div>\n",
              "      <button class=\"colab-df-convert\" onclick=\"convertToInteractive('df-12aa9361-aac9-49f4-a729-574895415802')\"\n",
              "              title=\"Convert this dataframe to an interactive table.\"\n",
              "              style=\"display:none;\">\n",
              "        \n",
              "  <svg xmlns=\"http://www.w3.org/2000/svg\" height=\"24px\"viewBox=\"0 0 24 24\"\n",
              "       width=\"24px\">\n",
              "    <path d=\"M0 0h24v24H0V0z\" fill=\"none\"/>\n",
              "    <path d=\"M18.56 5.44l.94 2.06.94-2.06 2.06-.94-2.06-.94-.94-2.06-.94 2.06-2.06.94zm-11 1L8.5 8.5l.94-2.06 2.06-.94-2.06-.94L8.5 2.5l-.94 2.06-2.06.94zm10 10l.94 2.06.94-2.06 2.06-.94-2.06-.94-.94-2.06-.94 2.06-2.06.94z\"/><path d=\"M17.41 7.96l-1.37-1.37c-.4-.4-.92-.59-1.43-.59-.52 0-1.04.2-1.43.59L10.3 9.45l-7.72 7.72c-.78.78-.78 2.05 0 2.83L4 21.41c.39.39.9.59 1.41.59.51 0 1.02-.2 1.41-.59l7.78-7.78 2.81-2.81c.8-.78.8-2.07 0-2.86zM5.41 20L4 18.59l7.72-7.72 1.47 1.35L5.41 20z\"/>\n",
              "  </svg>\n",
              "      </button>\n",
              "      \n",
              "  <style>\n",
              "    .colab-df-container {\n",
              "      display:flex;\n",
              "      flex-wrap:wrap;\n",
              "      gap: 12px;\n",
              "    }\n",
              "\n",
              "    .colab-df-convert {\n",
              "      background-color: #E8F0FE;\n",
              "      border: none;\n",
              "      border-radius: 50%;\n",
              "      cursor: pointer;\n",
              "      display: none;\n",
              "      fill: #1967D2;\n",
              "      height: 32px;\n",
              "      padding: 0 0 0 0;\n",
              "      width: 32px;\n",
              "    }\n",
              "\n",
              "    .colab-df-convert:hover {\n",
              "      background-color: #E2EBFA;\n",
              "      box-shadow: 0px 1px 2px rgba(60, 64, 67, 0.3), 0px 1px 3px 1px rgba(60, 64, 67, 0.15);\n",
              "      fill: #174EA6;\n",
              "    }\n",
              "\n",
              "    [theme=dark] .colab-df-convert {\n",
              "      background-color: #3B4455;\n",
              "      fill: #D2E3FC;\n",
              "    }\n",
              "\n",
              "    [theme=dark] .colab-df-convert:hover {\n",
              "      background-color: #434B5C;\n",
              "      box-shadow: 0px 1px 3px 1px rgba(0, 0, 0, 0.15);\n",
              "      filter: drop-shadow(0px 1px 2px rgba(0, 0, 0, 0.3));\n",
              "      fill: #FFFFFF;\n",
              "    }\n",
              "  </style>\n",
              "\n",
              "      <script>\n",
              "        const buttonEl =\n",
              "          document.querySelector('#df-12aa9361-aac9-49f4-a729-574895415802 button.colab-df-convert');\n",
              "        buttonEl.style.display =\n",
              "          google.colab.kernel.accessAllowed ? 'block' : 'none';\n",
              "\n",
              "        async function convertToInteractive(key) {\n",
              "          const element = document.querySelector('#df-12aa9361-aac9-49f4-a729-574895415802');\n",
              "          const dataTable =\n",
              "            await google.colab.kernel.invokeFunction('convertToInteractive',\n",
              "                                                     [key], {});\n",
              "          if (!dataTable) return;\n",
              "\n",
              "          const docLinkHtml = 'Like what you see? Visit the ' +\n",
              "            '<a target=\"_blank\" href=https://colab.research.google.com/notebooks/data_table.ipynb>data table notebook</a>'\n",
              "            + ' to learn more about interactive tables.';\n",
              "          element.innerHTML = '';\n",
              "          dataTable['output_type'] = 'display_data';\n",
              "          await google.colab.output.renderOutput(dataTable, element);\n",
              "          const docLink = document.createElement('div');\n",
              "          docLink.innerHTML = docLinkHtml;\n",
              "          element.appendChild(docLink);\n",
              "        }\n",
              "      </script>\n",
              "    </div>\n",
              "  </div>\n",
              "  "
            ],
            "text/plain": [
              "     age     sex      bmi  children smoker     region       charges\n",
              "397   21    male  32.2608         0     no  southeast  19406.202321\n",
              "211   40    male  32.1100         4     no  northwest   9550.378012\n",
              "304   57  female  39.5200         2     no  southwest  14796.062190\n",
              "349   19    male  28.9484         0     no  northwest   1913.808370\n",
              "733   48  female  28.3556         1     no  northeast  11053.282909"
            ]
          },
          "execution_count": 10,
          "metadata": {},
          "output_type": "execute_result"
        }
      ],
      "source": [
        "dataframe = customize_dataset(dataframe_raw, your_name)\n",
        "dataframe.head()"
      ]
    },
    {
      "cell_type": "markdown",
      "metadata": {
        "id": "uKYm3xPwC42h"
      },
      "source": [
        "Let us answer some basic questions about the dataset.\n",
        "\n",
        "\n",
        "**Q1: How many rows does the dataset have?**"
      ]
    },
    {
      "cell_type": "code",
      "execution_count": null,
      "metadata": {
        "colab": {
          "base_uri": "https://localhost:8080/"
        },
        "id": "RfEx1zL1C42h",
        "outputId": "779b0a2d-07df-4bdf-c542-160ed3fe1cdf"
      },
      "outputs": [
        {
          "name": "stdout",
          "output_type": "stream",
          "text": [
            "1271\n"
          ]
        }
      ],
      "source": [
        "num_rows = len(dataframe)\n",
        "print(num_rows)"
      ]
    },
    {
      "cell_type": "markdown",
      "metadata": {
        "id": "ojo6nRZqC42h"
      },
      "source": [
        "**Q2: How many columns doe the dataset have**"
      ]
    },
    {
      "cell_type": "code",
      "execution_count": null,
      "metadata": {
        "colab": {
          "base_uri": "https://localhost:8080/"
        },
        "id": "JxlzV1qEC42h",
        "outputId": "d6d66a32-457e-4b99-ae1c-4b99e1ed068b"
      },
      "outputs": [
        {
          "name": "stdout",
          "output_type": "stream",
          "text": [
            "7\n"
          ]
        }
      ],
      "source": [
        "num_cols = len(dataframe.columns)\n",
        "print(num_cols)"
      ]
    },
    {
      "cell_type": "markdown",
      "metadata": {
        "id": "__GoeNfNC42i"
      },
      "source": [
        "**Q3: What are the column titles of the input variables?**"
      ]
    },
    {
      "cell_type": "code",
      "execution_count": null,
      "metadata": {
        "id": "xyRx8qbVC42i"
      },
      "outputs": [],
      "source": [
        "input_cols = ['age', 'sex', 'bmi', 'children', 'smoker', 'region']"
      ]
    },
    {
      "cell_type": "markdown",
      "metadata": {
        "id": "LKxOIUycC42i"
      },
      "source": [
        "**Q4: Which of the input columns are non-numeric or categorial variables ?**\n",
        "\n",
        "Hint: `sex` is one of them. List the columns that are not numbers."
      ]
    },
    {
      "cell_type": "code",
      "execution_count": null,
      "metadata": {
        "id": "AvRXIskfC42i"
      },
      "outputs": [],
      "source": [
        "categorical_cols = ['sex', 'smoker', 'region']"
      ]
    },
    {
      "cell_type": "markdown",
      "metadata": {
        "id": "QDEW3lEgC42i"
      },
      "source": [
        "**Q5: What are the column titles of output/target variable(s)?**"
      ]
    },
    {
      "cell_type": "code",
      "execution_count": null,
      "metadata": {
        "id": "7fags1mAC42i"
      },
      "outputs": [],
      "source": [
        "output_cols = ['charges']"
      ]
    },
    {
      "cell_type": "markdown",
      "metadata": {
        "id": "CJhSu6fbC42i"
      },
      "source": [
        "**Q: (Optional) What is the minimum, maximum and average value of the `charges` column? Can you show the distribution of values in a graph?**\n",
        "Use this data visualization cheatsheet for referece: https://jovian.ai/aakashns/dataviz-cheatsheet"
      ]
    },
    {
      "cell_type": "code",
      "execution_count": null,
      "metadata": {
        "colab": {
          "base_uri": "https://localhost:8080/"
        },
        "id": "-hmg90X2C42j",
        "outputId": "ce70db98-d306-471a-a420-f1c2f3d834f7"
      },
      "outputs": [
        {
          "data": {
            "text/plain": [
              "(1312.592463, 74611.4007717, 15502.293266117256)"
            ]
          },
          "execution_count": 16,
          "metadata": {},
          "output_type": "execute_result"
        }
      ],
      "source": [
        "# Write your answer here\n",
        "dataframe.charges.min(), dataframe.charges.max(), dataframe.charges.mean()"
      ]
    },
    {
      "cell_type": "markdown",
      "metadata": {
        "id": "UstuNgK-C42j"
      },
      "source": [
        "Remember to commit your notebook to Jovian after every step, so that you don't lose your work."
      ]
    },
    {
      "cell_type": "code",
      "execution_count": null,
      "metadata": {
        "id": "qdogV5LuC42j"
      },
      "outputs": [],
      "source": [
        "!pip install jovian --upgrade -q"
      ]
    },
    {
      "cell_type": "code",
      "execution_count": null,
      "metadata": {
        "id": "5ql0mQ9BC42j"
      },
      "outputs": [],
      "source": [
        "import jovian"
      ]
    },
    {
      "cell_type": "code",
      "execution_count": null,
      "metadata": {
        "colab": {
          "base_uri": "https://localhost:8080/"
        },
        "id": "04eTE4HzC42j",
        "outputId": "e32fb39c-66bc-40e2-da46-7422ac0369c4"
      },
      "outputs": [
        {
          "name": "stdout",
          "output_type": "stream",
          "text": [
            "[jovian] Detected Colab notebook...\u001b[0m\n",
            "[jovian] jovian.commit() is no longer required on Google Colab. If you ran this notebook from Jovian, \n",
            "then just save this file in Colab using Ctrl+S/Cmd+S and it will be updated on Jovian. \n",
            "Also, you can also delete this cell, it's no longer necessary.\u001b[0m\n"
          ]
        }
      ],
      "source": [
        "jovian.commit()"
      ]
    },
    {
      "cell_type": "markdown",
      "metadata": {
        "id": "wcSXoUTzC42k"
      },
      "source": [
        "## Step 2: Prepare the dataset for training\n",
        "\n",
        "We need to convert the data from the Pandas dataframe into a PyTorch tensors for training. To do this, the first step is to convert it numpy arrays. If you've filled out `input_cols`, `categorial_cols` and `output_cols` correctly, this following function will perform the conversion to numpy arrays."
      ]
    },
    {
      "cell_type": "code",
      "execution_count": null,
      "metadata": {
        "id": "JPsXAMUkC42k"
      },
      "outputs": [],
      "source": [
        "def dataframe_to_arrays(dataframe):\n",
        "    # Make a copy of the original dataframe\n",
        "    dataframe1 = dataframe.copy(deep=True)\n",
        "    # Convert non-numeric categorical columns to numbers\n",
        "    for col in categorical_cols:\n",
        "        dataframe1[col] = dataframe1[col].astype('category').cat.codes\n",
        "    # Extract input & outupts as numpy arrays\n",
        "    inputs_array = dataframe1[input_cols].to_numpy()\n",
        "    targets_array = dataframe1[output_cols].to_numpy()\n",
        "    return inputs_array, targets_array"
      ]
    },
    {
      "cell_type": "markdown",
      "metadata": {
        "id": "ffOXbWFlC42k"
      },
      "source": [
        "Read through the [Pandas documentation](https://pandas.pydata.org/pandas-docs/stable/user_guide/categorical.html) to understand how we're converting categorical variables into numbers."
      ]
    },
    {
      "cell_type": "code",
      "execution_count": null,
      "metadata": {
        "colab": {
          "base_uri": "https://localhost:8080/"
        },
        "id": "ip8VW7NhC42k",
        "outputId": "7b0f4370-b4fa-44f9-dcb1-ca9600e82a02"
      },
      "outputs": [
        {
          "data": {
            "text/plain": [
              "(array([[21.    ,  1.    , 32.2608,  0.    ,  0.    ,  2.    ],\n",
              "        [40.    ,  1.    , 32.11  ,  4.    ,  0.    ,  1.    ],\n",
              "        [57.    ,  0.    , 39.52  ,  2.    ,  0.    ,  3.    ],\n",
              "        ...,\n",
              "        [19.    ,  0.    , 26.7748,  1.    ,  0.    ,  1.    ],\n",
              "        [62.    ,  0.    , 26.    ,  0.    ,  0.    ,  3.    ],\n",
              "        [46.    ,  1.    , 45.6456,  3.    ,  0.    ,  2.    ]]),\n",
              " array([[19406.2023207],\n",
              "        [ 9550.3780125],\n",
              "        [14796.06219  ],\n",
              "        ...,\n",
              "        [ 3171.6694035],\n",
              "        [15737.81274  ],\n",
              "        [10464.614667 ]]))"
            ]
          },
          "execution_count": 21,
          "metadata": {},
          "output_type": "execute_result"
        }
      ],
      "source": [
        "inputs_array, targets_array = dataframe_to_arrays(dataframe)\n",
        "inputs_array, targets_array"
      ]
    },
    {
      "cell_type": "markdown",
      "metadata": {
        "id": "9syx2lylC42k"
      },
      "source": [
        "**Q6: Convert the numpy arrays `inputs_array` and `targets_array` into PyTorch tensors. Make sure that the data type is `torch.float32`.**"
      ]
    },
    {
      "cell_type": "code",
      "execution_count": null,
      "metadata": {
        "id": "hg_GMJUPC42k"
      },
      "outputs": [],
      "source": [
        "inputs = torch.from_numpy(inputs_array).to(torch.float32)\n",
        "targets = torch.from_numpy(targets_array).to(torch.float32)"
      ]
    },
    {
      "cell_type": "code",
      "execution_count": null,
      "metadata": {
        "colab": {
          "base_uri": "https://localhost:8080/"
        },
        "id": "QAeqeyF5C42k",
        "outputId": "bc8cd92c-d7fd-4286-fda4-b930f49758df"
      },
      "outputs": [
        {
          "data": {
            "text/plain": [
              "(torch.float32, torch.float32)"
            ]
          },
          "execution_count": 23,
          "metadata": {},
          "output_type": "execute_result"
        }
      ],
      "source": [
        "inputs.dtype, targets.dtype"
      ]
    },
    {
      "cell_type": "markdown",
      "metadata": {
        "id": "kPIviCJWC42k"
      },
      "source": [
        "Next, we need to create PyTorch datasets & data loaders for training & validation. We'll start by creating a `TensorDataset`."
      ]
    },
    {
      "cell_type": "code",
      "execution_count": null,
      "metadata": {
        "id": "50KMEsguC42l"
      },
      "outputs": [],
      "source": [
        "dataset = TensorDataset(inputs, targets)"
      ]
    },
    {
      "cell_type": "markdown",
      "metadata": {
        "id": "lZRAlMedC42l"
      },
      "source": [
        "**Q7: Pick a number between `0.1` and `0.2` to determine the fraction of data that will be used for creating the validation set. Then use `random_split` to create training & validation datasets.**"
      ]
    },
    {
      "cell_type": "code",
      "execution_count": null,
      "metadata": {
        "id": "gB9SvBdcC42q"
      },
      "outputs": [],
      "source": [
        "val_percent = 0.1 # between 0.1 and 0.2\n",
        "val_size = int(num_rows * val_percent)\n",
        "train_size = num_rows - val_size\n",
        "\n",
        "\n",
        "train_ds, val_ds = torch.utils.data.random_split(dataset, [val_size, train_size]) # Use the random_split function to split dataset into 2 parts of the desired length"
      ]
    },
    {
      "cell_type": "markdown",
      "metadata": {
        "id": "_w5YzVQpC42q"
      },
      "source": [
        "Finally, we can create data loaders for training & validation.\n",
        "\n",
        "**Q8: Pick a batch size for the data loader.**"
      ]
    },
    {
      "cell_type": "code",
      "execution_count": null,
      "metadata": {
        "id": "TLDzQxTuC42q"
      },
      "outputs": [],
      "source": [
        "batch_size = 50"
      ]
    },
    {
      "cell_type": "code",
      "execution_count": null,
      "metadata": {
        "id": "w5h2t_wvC42r"
      },
      "outputs": [],
      "source": [
        "train_loader = DataLoader(train_ds, batch_size, shuffle=True)\n",
        "val_loader = DataLoader(val_ds, batch_size)"
      ]
    },
    {
      "cell_type": "markdown",
      "metadata": {
        "id": "mzlunypoC42r"
      },
      "source": [
        "Let's look at a batch of data to verify everything is working fine so far."
      ]
    },
    {
      "cell_type": "code",
      "execution_count": null,
      "metadata": {
        "colab": {
          "base_uri": "https://localhost:8080/"
        },
        "id": "4oKF8b-9C42r",
        "outputId": "111189cd-2845-40e0-f543-e937b759f140"
      },
      "outputs": [
        {
          "name": "stdout",
          "output_type": "stream",
          "text": [
            "inputs: tensor([[36.0000,  1.0000, 29.1460,  1.0000,  1.0000,  0.0000],\n",
            "        [19.0000,  1.0000, 36.1920,  0.0000,  1.0000,  3.0000],\n",
            "        [23.0000,  1.0000, 35.7760,  0.0000,  0.0000,  3.0000],\n",
            "        [37.0000,  0.0000, 30.6800,  2.0000,  0.0000,  3.0000],\n",
            "        [38.0000,  0.0000, 29.1200,  3.0000,  0.0000,  3.0000],\n",
            "        [26.0000,  1.0000, 33.7896,  1.0000,  0.0000,  0.0000],\n",
            "        [19.0000,  1.0000, 21.2420,  0.0000,  0.0000,  1.0000],\n",
            "        [33.0000,  0.0000, 41.4128,  1.0000,  0.0000,  2.0000],\n",
            "        [55.0000,  0.0000, 31.0232,  0.0000,  0.0000,  0.0000],\n",
            "        [41.0000,  0.0000, 29.4424,  1.0000,  0.0000,  1.0000],\n",
            "        [25.0000,  1.0000, 37.0500,  0.0000,  0.0000,  1.0000],\n",
            "        [44.0000,  1.0000, 28.4960,  2.0000,  0.0000,  3.0000],\n",
            "        [28.0000,  1.0000, 28.0592,  2.0000,  0.0000,  0.0000],\n",
            "        [34.0000,  0.0000, 28.6000,  1.0000,  0.0000,  3.0000],\n",
            "        [51.0000,  1.0000, 25.7868,  2.0000,  1.0000,  1.0000],\n",
            "        [32.0000,  0.0000, 45.9888,  0.0000,  0.0000,  2.0000],\n",
            "        [58.0000,  0.0000, 34.4240,  0.0000,  0.0000,  3.0000],\n",
            "        [48.0000,  1.0000, 33.5920,  1.0000,  0.0000,  1.0000],\n",
            "        [60.0000,  1.0000, 38.4332,  0.0000,  0.0000,  0.0000],\n",
            "        [24.0000,  0.0000, 34.6788,  0.0000,  0.0000,  1.0000],\n",
            "        [24.0000,  1.0000, 27.8616,  1.0000,  0.0000,  1.0000],\n",
            "        [33.0000,  0.0000, 34.8400,  0.0000,  1.0000,  3.0000],\n",
            "        [37.0000,  0.0000, 28.8496,  3.0000,  0.0000,  1.0000],\n",
            "        [62.0000,  1.0000, 31.2208,  0.0000,  0.0000,  1.0000],\n",
            "        [38.0000,  0.0000, 31.9176,  1.0000,  0.0000,  2.0000],\n",
            "        [49.0000,  0.0000, 24.1072,  2.0000,  0.0000,  1.0000],\n",
            "        [34.0000,  0.0000, 38.8284,  2.0000,  0.0000,  1.0000],\n",
            "        [18.0000,  1.0000, 36.6080,  1.0000,  0.0000,  2.0000],\n",
            "        [27.0000,  1.0000, 30.3160,  0.0000,  1.0000,  2.0000],\n",
            "        [40.0000,  0.0000, 37.6376,  0.0000,  0.0000,  2.0000],\n",
            "        [47.0000,  0.0000, 30.7268,  1.0000,  0.0000,  1.0000],\n",
            "        [22.0000,  1.0000, 36.1920,  3.0000,  0.0000,  3.0000],\n",
            "        [40.0000,  1.0000, 27.3676,  1.0000,  0.0000,  1.0000],\n",
            "        [47.0000,  1.0000, 30.9920,  3.0000,  1.0000,  3.0000],\n",
            "        [49.0000,  1.0000, 32.6040,  1.0000,  0.0000,  0.0000],\n",
            "        [59.0000,  0.0000, 36.6080,  0.0000,  0.0000,  2.0000],\n",
            "        [39.0000,  1.0000, 22.7240,  1.0000,  0.0000,  1.0000],\n",
            "        [52.0000,  0.0000, 25.0952,  1.0000,  1.0000,  1.0000],\n",
            "        [60.0000,  0.0000, 19.0684,  0.0000,  0.0000,  0.0000],\n",
            "        [30.0000,  0.0000, 29.5152,  1.0000,  1.0000,  2.0000],\n",
            "        [18.0000,  0.0000, 32.3752,  0.0000,  0.0000,  2.0000],\n",
            "        [33.0000,  1.0000, 23.6132,  0.0000,  0.0000,  1.0000],\n",
            "        [18.0000,  1.0000, 31.3456,  0.0000,  0.0000,  2.0000],\n",
            "        [19.0000,  0.0000, 21.4240,  0.0000,  0.0000,  3.0000],\n",
            "        [49.0000,  1.0000, 26.8736,  1.0000,  0.0000,  0.0000],\n",
            "        [51.0000,  1.0000, 26.4160,  0.0000,  0.0000,  3.0000],\n",
            "        [57.0000,  1.0000, 29.0576,  1.0000,  0.0000,  2.0000],\n",
            "        [27.0000,  0.0000, 26.1820,  0.0000,  0.0000,  0.0000],\n",
            "        [36.0000,  0.0000, 31.2208,  0.0000,  0.0000,  1.0000],\n",
            "        [19.0000,  1.0000, 27.0712,  1.0000,  1.0000,  1.0000]])\n",
            "targets: tensor([[24305.1445],\n",
            "        [40692.1484],\n",
            "        [ 2137.4062],\n",
            "        [ 7384.9839],\n",
            "        [ 8366.7773],\n",
            "        [ 4083.9424],\n",
            "        [ 1901.7574],\n",
            "        [ 5610.9185],\n",
            "        [13205.2500],\n",
            "        [ 8369.6582],\n",
            "        [ 2965.2407],\n",
            "        [ 9040.4189],\n",
            "        [ 5189.0601],\n",
            "        [ 5854.5078],\n",
            "        [28041.8379],\n",
            "        [ 4673.1880],\n",
            "        [13862.3252],\n",
            "        [10255.3418],\n",
            "        [14907.1660],\n",
            "        [ 3340.8618],\n",
            "        [14753.5674],\n",
            "        [43382.8672],\n",
            "        [ 8519.3613],\n",
            "        [15621.9570],\n",
            "        [ 6992.8926],\n",
            "        [11883.4365],\n",
            "        [ 7007.7427],\n",
            "        [ 2021.2218],\n",
            "        [21348.4004],\n",
            "        [ 6926.5220],\n",
            "        [10449.1934],\n",
            "        [ 4028.3848],\n",
            "        [ 7475.5723],\n",
            "        [29612.1016],\n",
            "        [10869.4629],\n",
            "        [14326.1016],\n",
            "        [ 7157.4688],\n",
            "        [27948.5645],\n",
            "        [15449.0146],\n",
            "        [22840.7031],\n",
            "        [ 1897.6028],\n",
            "        [25721.8301],\n",
            "        [ 1323.8627],\n",
            "        [ 2026.0621],\n",
            "        [10860.5020],\n",
            "        [10275.4883],\n",
            "        [13518.4414],\n",
            "        [ 4163.5854],\n",
            "        [ 6168.4458],\n",
            "        [19247.5469]])\n"
          ]
        }
      ],
      "source": [
        "for xb, yb in train_loader:\n",
        "    print(\"inputs:\", xb)\n",
        "    print(\"targets:\", yb)\n",
        "    break"
      ]
    },
    {
      "cell_type": "markdown",
      "metadata": {
        "id": "rfWPmjoPC42r"
      },
      "source": [
        "Let's save our work by committing to Jovian."
      ]
    },
    {
      "cell_type": "code",
      "execution_count": null,
      "metadata": {
        "colab": {
          "base_uri": "https://localhost:8080/"
        },
        "id": "4_4F73pIC42r",
        "outputId": "1f3af094-5dd1-478b-a576-12952c18ff37"
      },
      "outputs": [
        {
          "name": "stdout",
          "output_type": "stream",
          "text": [
            "[jovian] Detected Colab notebook...\u001b[0m\n",
            "[jovian] jovian.commit() is no longer required on Google Colab. If you ran this notebook from Jovian, \n",
            "then just save this file in Colab using Ctrl+S/Cmd+S and it will be updated on Jovian. \n",
            "Also, you can also delete this cell, it's no longer necessary.\u001b[0m\n"
          ]
        }
      ],
      "source": [
        "jovian.commit(project=project_name, environment=None)"
      ]
    },
    {
      "cell_type": "markdown",
      "metadata": {
        "id": "_DRyPR7JC42s"
      },
      "source": [
        "## Step 3: Create a Linear Regression Model\n",
        "\n",
        "Our model itself is a fairly straightforward linear regression (we'll build more complex models in the next assignment).\n"
      ]
    },
    {
      "cell_type": "code",
      "execution_count": null,
      "metadata": {
        "id": "-dKEA1_2C42s"
      },
      "outputs": [],
      "source": [
        "input_size = len(input_cols)\n",
        "output_size = len(output_cols)"
      ]
    },
    {
      "cell_type": "markdown",
      "metadata": {
        "id": "rmfqUBo_C42s"
      },
      "source": [
        "**Q9: Complete the class definition below by filling out the constructor (`__init__`), `forward`, `training_step` and `validation_step` methods.**\n",
        "\n",
        "Hint: Think carefully about picking a good loss fuction (it's not cross entropy). Maybe try 2-3 of them and see which one works best. See https://pytorch.org/docs/stable/nn.functional.html#loss-functions"
      ]
    },
    {
      "cell_type": "code",
      "execution_count": null,
      "metadata": {
        "id": "7phP4aGoC42s"
      },
      "outputs": [],
      "source": [
        "class InsuranceModel(nn.Module):\n",
        "    def __init__(self):\n",
        "        super().__init__()\n",
        "        self.linear = nn.Linear(input_size, output_size)                  # fill this (hint: use input_size & output_size defined above)\n",
        "\n",
        "    def forward(self, xb):\n",
        "        out = self.linear(xb)                          # fill this\n",
        "        return out\n",
        "\n",
        "    def training_step(self, batch):\n",
        "        inputs, targets = batch\n",
        "        # Generate predictions\n",
        "        out = self(inputs)\n",
        "        # Calcuate loss\n",
        "        loss = torch.nn.functional.l1_loss(out, targets)                          # fill this\n",
        "        return loss\n",
        "\n",
        "    def validation_step(self, batch):\n",
        "        inputs, targets = batch\n",
        "        # Generate predictions\n",
        "        out = self(inputs)\n",
        "        # Calculate loss\n",
        "        loss = torch.nn.functional.l1_loss(out, targets)                           # fill this\n",
        "        return {'val_loss': loss.detach()}\n",
        "\n",
        "    def validation_epoch_end(self, outputs):\n",
        "        batch_losses = [x['val_loss'] for x in outputs]\n",
        "        epoch_loss = torch.stack(batch_losses).mean()   # Combine losses\n",
        "        return {'val_loss': epoch_loss.item()}\n",
        "\n",
        "    def epoch_end(self, epoch, result, num_epochs):\n",
        "        # Print result every 20th epoch\n",
        "        if (epoch+1) % 20 == 0 or epoch == num_epochs-1:\n",
        "            print(\"Epoch [{}], val_loss: {:.4f}\".format(epoch+1, result['val_loss']))"
      ]
    },
    {
      "cell_type": "markdown",
      "metadata": {
        "id": "3WqDEdwTC42s"
      },
      "source": [
        "Let us create a model using the `InsuranceModel` class. You may need to come back later and re-run the next cell to reinitialize the model, in case the loss becomes `nan` or `infinity`."
      ]
    },
    {
      "cell_type": "code",
      "execution_count": null,
      "metadata": {
        "id": "s_uyyFyHC42s"
      },
      "outputs": [],
      "source": [
        "model = InsuranceModel()"
      ]
    },
    {
      "cell_type": "markdown",
      "metadata": {
        "id": "HDaJ5uMrC42t"
      },
      "source": [
        "Let's check out the weights and biases of the model using `model.parameters`."
      ]
    },
    {
      "cell_type": "code",
      "execution_count": null,
      "metadata": {
        "colab": {
          "base_uri": "https://localhost:8080/"
        },
        "id": "86MOQZi1C42t",
        "outputId": "3a206f3e-1831-4ee5-d980-b1b777bfab6f"
      },
      "outputs": [
        {
          "data": {
            "text/plain": [
              "[Parameter containing:\n",
              " tensor([[-0.2790,  0.1074, -0.3337, -0.2828, -0.1162, -0.1332]],\n",
              "        requires_grad=True),\n",
              " Parameter containing:\n",
              " tensor([0.2908], requires_grad=True)]"
            ]
          },
          "execution_count": 33,
          "metadata": {},
          "output_type": "execute_result"
        }
      ],
      "source": [
        "list(model.parameters())"
      ]
    },
    {
      "cell_type": "markdown",
      "metadata": {
        "id": "1ZPtFQKNC42t"
      },
      "source": [
        "One final commit before we train the model."
      ]
    },
    {
      "cell_type": "code",
      "execution_count": null,
      "metadata": {
        "colab": {
          "base_uri": "https://localhost:8080/"
        },
        "id": "plmyxIvzC42t",
        "outputId": "53decd7c-a517-4b22-a0a8-c73db097a7db"
      },
      "outputs": [
        {
          "name": "stdout",
          "output_type": "stream",
          "text": [
            "[jovian] Detected Colab notebook...\u001b[0m\n",
            "[jovian] jovian.commit() is no longer required on Google Colab. If you ran this notebook from Jovian, \n",
            "then just save this file in Colab using Ctrl+S/Cmd+S and it will be updated on Jovian. \n",
            "Also, you can also delete this cell, it's no longer necessary.\u001b[0m\n"
          ]
        }
      ],
      "source": [
        "jovian.commit(project=project_name, environment=None)"
      ]
    },
    {
      "cell_type": "markdown",
      "metadata": {
        "id": "ZJF7j8YdC42t"
      },
      "source": [
        "## Step 4: Train the model to fit the data\n",
        "\n",
        "To train our model, we'll use the same `fit` function explained in the lecture. That's the benefit of defining a generic training loop - you can use it for any problem."
      ]
    },
    {
      "cell_type": "code",
      "execution_count": null,
      "metadata": {
        "id": "XDrFSciOC42u"
      },
      "outputs": [],
      "source": [
        "def evaluate(model, val_loader):\n",
        "    outputs = [model.validation_step(batch) for batch in val_loader]\n",
        "    return model.validation_epoch_end(outputs)\n",
        "\n",
        "def fit(epochs, lr, model, train_loader, val_loader, opt_func=torch.optim.SGD):\n",
        "    history = []\n",
        "    optimizer = opt_func(model.parameters(), lr)\n",
        "    for epoch in range(epochs):\n",
        "        # Training Phase\n",
        "        for batch in train_loader:\n",
        "            loss = model.training_step(batch)\n",
        "            loss.backward()\n",
        "            optimizer.step()\n",
        "            optimizer.zero_grad()\n",
        "        # Validation phase\n",
        "        result = evaluate(model, val_loader)\n",
        "        model.epoch_end(epoch, result, epochs)\n",
        "        history.append(result)\n",
        "    return history"
      ]
    },
    {
      "cell_type": "markdown",
      "metadata": {
        "id": "QRSxnLkYC42u"
      },
      "source": [
        "**Q10: Use the `evaluate` function to calculate the loss on the validation set before training.**"
      ]
    },
    {
      "cell_type": "code",
      "execution_count": null,
      "metadata": {
        "colab": {
          "base_uri": "https://localhost:8080/"
        },
        "id": "vSvGAcMnC42u",
        "outputId": "479a9304-f671-42d4-b7a6-ef14cbb78301"
      },
      "outputs": [
        {
          "name": "stdout",
          "output_type": "stream",
          "text": [
            "{'val_loss': 15699.4208984375}\n"
          ]
        }
      ],
      "source": [
        "result = evaluate(model, val_loader) # Use the the evaluate function\n",
        "print(result)"
      ]
    },
    {
      "cell_type": "markdown",
      "metadata": {
        "id": "S7HB481yC42u"
      },
      "source": [
        "\n",
        "We are now ready to train the model. You may need to run the training loop many times, for different number of epochs and with different learning rates, to get a good result. Also, if your loss becomes too large (or `nan`), you may have to re-initialize the model by running the cell `model = InsuranceModel()`. Experiment with this for a while, and try to get to as low a loss as possible."
      ]
    },
    {
      "cell_type": "markdown",
      "metadata": {
        "id": "9u4sVzCaC42u"
      },
      "source": [
        "**Q11: Train the model 4-5 times with different learning rates & for different number of epochs.**\n",
        "\n",
        "Hint: Vary learning rates by orders of 10 (e.g. `1e-2`, `1e-3`, `1e-4`, `1e-5`, `1e-6`) to figure out what works."
      ]
    },
    {
      "cell_type": "code",
      "execution_count": null,
      "metadata": {
        "colab": {
          "base_uri": "https://localhost:8080/"
        },
        "id": "dKEEqK7LC42v",
        "outputId": "1b978fe8-db65-40ed-9997-c759d8c5e9ee"
      },
      "outputs": [
        {
          "name": "stdout",
          "output_type": "stream",
          "text": [
            "Epoch [20], val_loss: 14206.0664\n",
            "Epoch [40], val_loss: 12791.6250\n",
            "Epoch [60], val_loss: 11649.6768\n",
            "Epoch [80], val_loss: 10765.6543\n",
            "Epoch [100], val_loss: 10110.2715\n",
            "Epoch [120], val_loss: 9611.0771\n",
            "Epoch [140], val_loss: 9258.5000\n",
            "Epoch [160], val_loss: 9033.7295\n",
            "Epoch [180], val_loss: 8897.4922\n",
            "Epoch [200], val_loss: 8812.6182\n",
            "Epoch [220], val_loss: 8762.5039\n",
            "Epoch [240], val_loss: 8733.4990\n",
            "Epoch [260], val_loss: 8715.8672\n",
            "Epoch [280], val_loss: 8701.9746\n",
            "Epoch [300], val_loss: 8690.4297\n",
            "Epoch [320], val_loss: 8680.6084\n",
            "Epoch [340], val_loss: 8669.2266\n",
            "Epoch [360], val_loss: 8658.0498\n",
            "Epoch [380], val_loss: 8647.0283\n",
            "Epoch [400], val_loss: 8638.1094\n",
            "Epoch [420], val_loss: 8629.5059\n",
            "Epoch [440], val_loss: 8618.1865\n",
            "Epoch [460], val_loss: 8610.4775\n",
            "Epoch [480], val_loss: 8598.9863\n",
            "Epoch [500], val_loss: 8589.2393\n",
            "Epoch [520], val_loss: 8580.4795\n",
            "Epoch [540], val_loss: 8570.2812\n",
            "Epoch [560], val_loss: 8559.7988\n",
            "Epoch [580], val_loss: 8548.0371\n",
            "Epoch [600], val_loss: 8538.4053\n",
            "Epoch [620], val_loss: 8528.0342\n",
            "Epoch [640], val_loss: 8517.8945\n",
            "Epoch [660], val_loss: 8507.2529\n",
            "Epoch [680], val_loss: 8498.3877\n",
            "Epoch [700], val_loss: 8489.4131\n",
            "Epoch [720], val_loss: 8480.6172\n",
            "Epoch [740], val_loss: 8474.3223\n",
            "Epoch [760], val_loss: 8465.9482\n",
            "Epoch [780], val_loss: 8457.9072\n",
            "Epoch [800], val_loss: 8449.1348\n",
            "Epoch [820], val_loss: 8441.0361\n",
            "Epoch [840], val_loss: 8432.3984\n",
            "Epoch [860], val_loss: 8424.2129\n",
            "Epoch [880], val_loss: 8415.6602\n",
            "Epoch [900], val_loss: 8405.8203\n",
            "Epoch [920], val_loss: 8396.8896\n",
            "Epoch [940], val_loss: 8387.2900\n",
            "Epoch [960], val_loss: 8378.7686\n",
            "Epoch [980], val_loss: 8371.3135\n",
            "Epoch [1000], val_loss: 8361.1338\n"
          ]
        }
      ],
      "source": [
        "epochs = 1000\n",
        "lr = 1e-2\n",
        "history1 = fit(epochs, lr, model, train_loader, val_loader)"
      ]
    },
    {
      "cell_type": "code",
      "execution_count": null,
      "metadata": {
        "colab": {
          "base_uri": "https://localhost:8080/"
        },
        "id": "6yLv-JZmC42v",
        "outputId": "e0a97781-dca6-463d-d9e0-287734d299a1"
      },
      "outputs": [
        {
          "name": "stdout",
          "output_type": "stream",
          "text": [
            "Epoch [20], val_loss: 8291.6016\n",
            "Epoch [40], val_loss: 8233.2754\n",
            "Epoch [60], val_loss: 8193.0303\n",
            "Epoch [80], val_loss: 8145.7983\n",
            "Epoch [100], val_loss: 8126.3247\n",
            "Epoch [120], val_loss: 8111.4448\n",
            "Epoch [140], val_loss: 8101.8213\n",
            "Epoch [160], val_loss: 8104.8564\n",
            "Epoch [180], val_loss: 8098.0278\n",
            "Epoch [200], val_loss: 8090.8926\n",
            "Epoch [220], val_loss: 8096.1719\n",
            "Epoch [240], val_loss: 8090.3613\n",
            "Epoch [260], val_loss: 8090.2549\n",
            "Epoch [280], val_loss: 8089.4082\n",
            "Epoch [300], val_loss: 8099.9604\n",
            "Epoch [320], val_loss: 8085.9580\n",
            "Epoch [340], val_loss: 8092.7432\n",
            "Epoch [360], val_loss: 8089.1357\n",
            "Epoch [380], val_loss: 8090.7134\n",
            "Epoch [400], val_loss: 8094.6045\n",
            "Epoch [420], val_loss: 8087.6704\n",
            "Epoch [440], val_loss: 8077.7881\n",
            "Epoch [460], val_loss: 8087.7202\n",
            "Epoch [480], val_loss: 8078.2812\n",
            "Epoch [500], val_loss: 8092.1904\n",
            "Epoch [520], val_loss: 8078.0127\n",
            "Epoch [540], val_loss: 8074.6055\n",
            "Epoch [560], val_loss: 8089.3042\n",
            "Epoch [580], val_loss: 8081.7124\n",
            "Epoch [600], val_loss: 8079.8823\n",
            "Epoch [620], val_loss: 8071.7397\n",
            "Epoch [640], val_loss: 8081.3105\n",
            "Epoch [660], val_loss: 8074.0327\n",
            "Epoch [680], val_loss: 8078.8955\n",
            "Epoch [700], val_loss: 8082.3320\n",
            "Epoch [720], val_loss: 8078.4248\n",
            "Epoch [740], val_loss: 8069.6636\n",
            "Epoch [760], val_loss: 8071.2349\n",
            "Epoch [780], val_loss: 8079.2603\n",
            "Epoch [800], val_loss: 8064.7329\n",
            "Epoch [820], val_loss: 8064.8628\n",
            "Epoch [840], val_loss: 8072.8491\n",
            "Epoch [860], val_loss: 8059.1802\n",
            "Epoch [880], val_loss: 8063.2881\n",
            "Epoch [900], val_loss: 8069.0063\n",
            "Epoch [920], val_loss: 8072.9448\n",
            "Epoch [940], val_loss: 8062.2710\n",
            "Epoch [960], val_loss: 8066.7954\n",
            "Epoch [980], val_loss: 8062.2690\n",
            "Epoch [1000], val_loss: 8062.7915\n",
            "Epoch [1020], val_loss: 8079.5991\n",
            "Epoch [1040], val_loss: 8062.2515\n",
            "Epoch [1060], val_loss: 8066.6685\n",
            "Epoch [1080], val_loss: 8057.8750\n",
            "Epoch [1100], val_loss: 8063.7158\n",
            "Epoch [1120], val_loss: 8070.5220\n",
            "Epoch [1140], val_loss: 8057.9165\n",
            "Epoch [1160], val_loss: 8058.6284\n",
            "Epoch [1180], val_loss: 8057.7295\n",
            "Epoch [1200], val_loss: 8057.2378\n",
            "Epoch [1220], val_loss: 8062.8008\n",
            "Epoch [1240], val_loss: 8056.1968\n",
            "Epoch [1260], val_loss: 8055.8262\n",
            "Epoch [1280], val_loss: 8069.7676\n",
            "Epoch [1300], val_loss: 8053.5332\n",
            "Epoch [1320], val_loss: 8049.5625\n",
            "Epoch [1340], val_loss: 8051.8477\n",
            "Epoch [1360], val_loss: 8059.2446\n",
            "Epoch [1380], val_loss: 8055.5327\n",
            "Epoch [1400], val_loss: 8061.5225\n",
            "Epoch [1420], val_loss: 8054.8032\n",
            "Epoch [1440], val_loss: 8057.3765\n",
            "Epoch [1460], val_loss: 8052.1753\n",
            "Epoch [1480], val_loss: 8056.5244\n",
            "Epoch [1500], val_loss: 8043.7036\n",
            "Epoch [1520], val_loss: 8054.1279\n",
            "Epoch [1540], val_loss: 8053.9897\n",
            "Epoch [1560], val_loss: 8053.5381\n",
            "Epoch [1580], val_loss: 8054.0396\n",
            "Epoch [1600], val_loss: 8047.7329\n",
            "Epoch [1620], val_loss: 8057.2393\n",
            "Epoch [1640], val_loss: 8038.3696\n",
            "Epoch [1660], val_loss: 8051.4219\n",
            "Epoch [1680], val_loss: 8043.5898\n",
            "Epoch [1700], val_loss: 8044.3022\n",
            "Epoch [1720], val_loss: 8046.0752\n",
            "Epoch [1740], val_loss: 8053.1685\n",
            "Epoch [1760], val_loss: 8046.9302\n",
            "Epoch [1780], val_loss: 8040.7432\n",
            "Epoch [1800], val_loss: 8039.1460\n",
            "Epoch [1820], val_loss: 8041.0923\n",
            "Epoch [1840], val_loss: 8042.0571\n",
            "Epoch [1860], val_loss: 8042.8433\n",
            "Epoch [1880], val_loss: 8039.8418\n",
            "Epoch [1900], val_loss: 8044.8643\n",
            "Epoch [1920], val_loss: 8040.7896\n",
            "Epoch [1940], val_loss: 8043.4580\n",
            "Epoch [1960], val_loss: 8043.1890\n",
            "Epoch [1980], val_loss: 8032.3301\n",
            "Epoch [2000], val_loss: 8037.7930\n"
          ]
        }
      ],
      "source": [
        "epochs = 2000\n",
        "lr = 1e-1\n",
        "history2 = fit(epochs, lr, model, train_loader, val_loader)"
      ]
    },
    {
      "cell_type": "code",
      "execution_count": null,
      "metadata": {
        "colab": {
          "base_uri": "https://localhost:8080/"
        },
        "id": "ZCV5QJsTC42v",
        "outputId": "7308f903-5aed-4e63-e22b-caad1511d9da"
      },
      "outputs": [
        {
          "name": "stdout",
          "output_type": "stream",
          "text": [
            "Epoch [20], val_loss: 8043.7192\n",
            "Epoch [40], val_loss: 8035.1030\n",
            "Epoch [60], val_loss: 8030.3335\n",
            "Epoch [80], val_loss: 8041.4883\n",
            "Epoch [100], val_loss: 8031.9932\n",
            "Epoch [120], val_loss: 8033.0083\n",
            "Epoch [140], val_loss: 8037.8887\n",
            "Epoch [160], val_loss: 8039.7134\n",
            "Epoch [180], val_loss: 8039.1318\n",
            "Epoch [200], val_loss: 8032.6108\n",
            "Epoch [220], val_loss: 8032.4873\n",
            "Epoch [240], val_loss: 8027.1997\n",
            "Epoch [260], val_loss: 8040.3887\n",
            "Epoch [280], val_loss: 8038.3330\n",
            "Epoch [300], val_loss: 8030.9536\n",
            "Epoch [320], val_loss: 8037.8735\n",
            "Epoch [340], val_loss: 8033.1582\n",
            "Epoch [360], val_loss: 8033.6235\n",
            "Epoch [380], val_loss: 8039.3218\n",
            "Epoch [400], val_loss: 8032.2437\n",
            "Epoch [420], val_loss: 8029.6680\n",
            "Epoch [440], val_loss: 8027.3145\n",
            "Epoch [460], val_loss: 8030.2905\n",
            "Epoch [480], val_loss: 8026.4062\n",
            "Epoch [500], val_loss: 8022.0107\n",
            "Epoch [520], val_loss: 8021.5796\n",
            "Epoch [540], val_loss: 8019.5532\n",
            "Epoch [560], val_loss: 8032.3643\n",
            "Epoch [580], val_loss: 8020.0508\n",
            "Epoch [600], val_loss: 8023.1094\n",
            "Epoch [620], val_loss: 8020.5713\n",
            "Epoch [640], val_loss: 8027.0903\n",
            "Epoch [660], val_loss: 8022.9844\n",
            "Epoch [680], val_loss: 8023.3716\n",
            "Epoch [700], val_loss: 8007.9536\n",
            "Epoch [720], val_loss: 8021.8457\n",
            "Epoch [740], val_loss: 8024.6577\n",
            "Epoch [760], val_loss: 8019.8911\n",
            "Epoch [780], val_loss: 8019.3276\n",
            "Epoch [800], val_loss: 8020.6313\n",
            "Epoch [820], val_loss: 8023.2227\n",
            "Epoch [840], val_loss: 8020.9126\n",
            "Epoch [860], val_loss: 8015.6714\n",
            "Epoch [880], val_loss: 8018.5225\n",
            "Epoch [900], val_loss: 8022.7344\n",
            "Epoch [920], val_loss: 8017.5015\n",
            "Epoch [940], val_loss: 8019.2866\n",
            "Epoch [960], val_loss: 8012.4536\n",
            "Epoch [980], val_loss: 8019.3330\n",
            "Epoch [1000], val_loss: 8012.6299\n",
            "Epoch [1020], val_loss: 8014.0903\n",
            "Epoch [1040], val_loss: 8017.5439\n",
            "Epoch [1060], val_loss: 8005.6333\n",
            "Epoch [1080], val_loss: 8009.5562\n",
            "Epoch [1100], val_loss: 8011.1548\n",
            "Epoch [1120], val_loss: 8010.3730\n",
            "Epoch [1140], val_loss: 8003.4634\n",
            "Epoch [1160], val_loss: 8007.6323\n",
            "Epoch [1180], val_loss: 8017.2100\n",
            "Epoch [1200], val_loss: 8001.9033\n",
            "Epoch [1220], val_loss: 8006.2622\n",
            "Epoch [1240], val_loss: 8003.8540\n",
            "Epoch [1260], val_loss: 8013.6387\n",
            "Epoch [1280], val_loss: 8000.5967\n",
            "Epoch [1300], val_loss: 8007.0742\n",
            "Epoch [1320], val_loss: 8005.4673\n",
            "Epoch [1340], val_loss: 8006.6992\n",
            "Epoch [1360], val_loss: 7998.1475\n",
            "Epoch [1380], val_loss: 8004.6880\n",
            "Epoch [1400], val_loss: 8006.0630\n",
            "Epoch [1420], val_loss: 8007.8037\n",
            "Epoch [1440], val_loss: 8000.3350\n",
            "Epoch [1460], val_loss: 7999.5942\n",
            "Epoch [1480], val_loss: 8005.1079\n",
            "Epoch [1500], val_loss: 8007.6963\n",
            "Epoch [1520], val_loss: 8000.6489\n",
            "Epoch [1540], val_loss: 7997.9028\n",
            "Epoch [1560], val_loss: 7998.0815\n",
            "Epoch [1580], val_loss: 7996.4893\n",
            "Epoch [1600], val_loss: 7998.3555\n",
            "Epoch [1620], val_loss: 7998.8071\n",
            "Epoch [1640], val_loss: 7998.7158\n",
            "Epoch [1660], val_loss: 7997.7134\n",
            "Epoch [1680], val_loss: 7997.0718\n",
            "Epoch [1700], val_loss: 8001.9048\n",
            "Epoch [1720], val_loss: 7991.7036\n",
            "Epoch [1740], val_loss: 7996.2622\n",
            "Epoch [1760], val_loss: 8003.3486\n",
            "Epoch [1780], val_loss: 7990.2725\n",
            "Epoch [1800], val_loss: 7997.3926\n",
            "Epoch [1820], val_loss: 8001.4189\n",
            "Epoch [1840], val_loss: 7987.2998\n",
            "Epoch [1860], val_loss: 7990.9883\n",
            "Epoch [1880], val_loss: 7990.8813\n",
            "Epoch [1900], val_loss: 7993.9307\n",
            "Epoch [1920], val_loss: 7993.1099\n",
            "Epoch [1940], val_loss: 7987.2900\n",
            "Epoch [1960], val_loss: 7990.2568\n",
            "Epoch [1980], val_loss: 8006.0933\n",
            "Epoch [2000], val_loss: 7989.7817\n",
            "Epoch [2020], val_loss: 8003.9668\n",
            "Epoch [2040], val_loss: 7990.4512\n",
            "Epoch [2060], val_loss: 7989.8423\n",
            "Epoch [2080], val_loss: 7979.5571\n",
            "Epoch [2100], val_loss: 7982.3335\n",
            "Epoch [2120], val_loss: 7983.1909\n",
            "Epoch [2140], val_loss: 7986.4380\n",
            "Epoch [2160], val_loss: 7985.8696\n",
            "Epoch [2180], val_loss: 7986.6768\n",
            "Epoch [2200], val_loss: 7984.3301\n",
            "Epoch [2220], val_loss: 7977.0054\n",
            "Epoch [2240], val_loss: 7978.4150\n",
            "Epoch [2260], val_loss: 7981.7217\n",
            "Epoch [2280], val_loss: 7991.4458\n",
            "Epoch [2300], val_loss: 7991.2847\n",
            "Epoch [2320], val_loss: 7981.1221\n",
            "Epoch [2340], val_loss: 7983.5605\n",
            "Epoch [2360], val_loss: 7983.4751\n",
            "Epoch [2380], val_loss: 7977.6021\n",
            "Epoch [2400], val_loss: 7983.6943\n",
            "Epoch [2420], val_loss: 7985.1045\n",
            "Epoch [2440], val_loss: 7985.0674\n",
            "Epoch [2460], val_loss: 7980.6157\n",
            "Epoch [2480], val_loss: 7977.3267\n",
            "Epoch [2500], val_loss: 7986.1333\n",
            "Epoch [2520], val_loss: 7976.8804\n",
            "Epoch [2540], val_loss: 7970.2017\n",
            "Epoch [2560], val_loss: 7970.1836\n",
            "Epoch [2580], val_loss: 7978.9810\n",
            "Epoch [2600], val_loss: 7978.0688\n",
            "Epoch [2620], val_loss: 7973.8296\n",
            "Epoch [2640], val_loss: 7981.8789\n",
            "Epoch [2660], val_loss: 7971.8989\n",
            "Epoch [2680], val_loss: 7976.3560\n",
            "Epoch [2700], val_loss: 7976.4048\n",
            "Epoch [2720], val_loss: 7973.0264\n",
            "Epoch [2740], val_loss: 7969.7588\n",
            "Epoch [2760], val_loss: 7963.1646\n",
            "Epoch [2780], val_loss: 7972.1011\n",
            "Epoch [2800], val_loss: 7968.5869\n",
            "Epoch [2820], val_loss: 7969.5435\n",
            "Epoch [2840], val_loss: 7969.2656\n",
            "Epoch [2860], val_loss: 7974.9985\n",
            "Epoch [2880], val_loss: 7980.3442\n",
            "Epoch [2900], val_loss: 7973.3018\n",
            "Epoch [2920], val_loss: 7970.2207\n",
            "Epoch [2940], val_loss: 7972.5054\n",
            "Epoch [2960], val_loss: 7973.6997\n",
            "Epoch [2980], val_loss: 7967.0083\n",
            "Epoch [3000], val_loss: 7968.4673\n"
          ]
        }
      ],
      "source": [
        "epochs = 3000\n",
        "lr = 1e-1\n",
        "history3 = fit(epochs, lr, model, train_loader, val_loader)"
      ]
    },
    {
      "cell_type": "code",
      "execution_count": null,
      "metadata": {
        "colab": {
          "base_uri": "https://localhost:8080/"
        },
        "id": "6iEJ5k4oC42v",
        "outputId": "7bf290c2-2def-4e42-ad87-25b77cbe244b"
      },
      "outputs": [
        {
          "name": "stdout",
          "output_type": "stream",
          "text": [
            "Epoch [20], val_loss: 7975.3438\n",
            "Epoch [40], val_loss: 7973.9551\n",
            "Epoch [60], val_loss: 7961.3022\n",
            "Epoch [80], val_loss: 7958.1724\n",
            "Epoch [100], val_loss: 7956.1914\n",
            "Epoch [120], val_loss: 7961.0708\n",
            "Epoch [140], val_loss: 7967.0332\n",
            "Epoch [160], val_loss: 7964.5767\n",
            "Epoch [180], val_loss: 7975.5698\n",
            "Epoch [200], val_loss: 7959.6562\n",
            "Epoch [220], val_loss: 7958.9126\n",
            "Epoch [240], val_loss: 7966.8179\n",
            "Epoch [260], val_loss: 7962.3018\n",
            "Epoch [280], val_loss: 7962.9062\n",
            "Epoch [300], val_loss: 7956.5508\n",
            "Epoch [320], val_loss: 7959.4702\n",
            "Epoch [340], val_loss: 7958.0107\n",
            "Epoch [360], val_loss: 7953.5342\n",
            "Epoch [380], val_loss: 7962.0742\n",
            "Epoch [400], val_loss: 7956.8838\n",
            "Epoch [420], val_loss: 7956.1040\n",
            "Epoch [440], val_loss: 7955.9790\n",
            "Epoch [460], val_loss: 7961.8613\n",
            "Epoch [480], val_loss: 7959.5747\n",
            "Epoch [500], val_loss: 7958.7324\n"
          ]
        }
      ],
      "source": [
        "epochs = 500\n",
        "lr = 1e-1\n",
        "history4 = fit(epochs, lr, model, train_loader, val_loader)"
      ]
    },
    {
      "cell_type": "code",
      "execution_count": null,
      "metadata": {
        "colab": {
          "base_uri": "https://localhost:8080/"
        },
        "id": "zvTtd231C42v",
        "outputId": "423a2e89-bf65-440f-a975-9a6d4fc70cc0"
      },
      "outputs": [
        {
          "name": "stdout",
          "output_type": "stream",
          "text": [
            "Epoch [20], val_loss: 7962.1343\n",
            "Epoch [40], val_loss: 7957.8730\n",
            "Epoch [60], val_loss: 7959.5220\n",
            "Epoch [80], val_loss: 7951.8804\n",
            "Epoch [100], val_loss: 7951.4775\n",
            "Epoch [120], val_loss: 7949.1509\n",
            "Epoch [140], val_loss: 7963.3589\n",
            "Epoch [160], val_loss: 7948.2017\n",
            "Epoch [180], val_loss: 7952.0239\n",
            "Epoch [200], val_loss: 7955.6196\n",
            "Epoch [220], val_loss: 7951.4360\n",
            "Epoch [240], val_loss: 7948.7969\n",
            "Epoch [260], val_loss: 7964.2773\n",
            "Epoch [280], val_loss: 7956.7148\n",
            "Epoch [300], val_loss: 7951.3296\n",
            "Epoch [320], val_loss: 7946.8843\n",
            "Epoch [340], val_loss: 7949.5571\n",
            "Epoch [360], val_loss: 7957.8501\n",
            "Epoch [380], val_loss: 7942.9429\n",
            "Epoch [400], val_loss: 7941.9502\n",
            "Epoch [420], val_loss: 7945.6089\n",
            "Epoch [440], val_loss: 7946.7427\n",
            "Epoch [460], val_loss: 7947.0659\n",
            "Epoch [480], val_loss: 7949.5645\n",
            "Epoch [500], val_loss: 7938.4985\n",
            "Epoch [520], val_loss: 7949.5000\n",
            "Epoch [540], val_loss: 7942.0454\n",
            "Epoch [560], val_loss: 7940.3096\n",
            "Epoch [580], val_loss: 7951.4482\n",
            "Epoch [600], val_loss: 7943.3345\n",
            "Epoch [620], val_loss: 7942.9951\n",
            "Epoch [640], val_loss: 7948.2461\n",
            "Epoch [660], val_loss: 7941.4619\n",
            "Epoch [680], val_loss: 7949.7344\n",
            "Epoch [700], val_loss: 7945.1401\n",
            "Epoch [720], val_loss: 7943.1733\n",
            "Epoch [740], val_loss: 7942.7363\n",
            "Epoch [760], val_loss: 7945.4688\n",
            "Epoch [780], val_loss: 7942.6997\n",
            "Epoch [800], val_loss: 7941.1494\n",
            "Epoch [820], val_loss: 7944.4961\n",
            "Epoch [840], val_loss: 7936.2168\n",
            "Epoch [860], val_loss: 7937.1924\n",
            "Epoch [880], val_loss: 7933.4580\n",
            "Epoch [900], val_loss: 7933.9258\n",
            "Epoch [920], val_loss: 7938.1685\n",
            "Epoch [940], val_loss: 7943.5698\n",
            "Epoch [960], val_loss: 7932.3018\n",
            "Epoch [980], val_loss: 7938.3228\n",
            "Epoch [1000], val_loss: 7945.5151\n",
            "Epoch [1020], val_loss: 7934.2271\n",
            "Epoch [1040], val_loss: 7929.9580\n",
            "Epoch [1060], val_loss: 7935.1401\n",
            "Epoch [1080], val_loss: 7935.6909\n",
            "Epoch [1100], val_loss: 7930.7393\n",
            "Epoch [1120], val_loss: 7948.5308\n",
            "Epoch [1140], val_loss: 7940.5298\n",
            "Epoch [1160], val_loss: 7943.3511\n",
            "Epoch [1180], val_loss: 7929.9624\n",
            "Epoch [1200], val_loss: 7935.8511\n",
            "Epoch [1220], val_loss: 7931.1411\n",
            "Epoch [1240], val_loss: 7928.0049\n",
            "Epoch [1260], val_loss: 7925.6860\n",
            "Epoch [1280], val_loss: 7936.9346\n",
            "Epoch [1300], val_loss: 7929.2271\n",
            "Epoch [1320], val_loss: 7924.7173\n",
            "Epoch [1340], val_loss: 7937.0264\n",
            "Epoch [1360], val_loss: 7943.6021\n",
            "Epoch [1380], val_loss: 7932.3628\n",
            "Epoch [1400], val_loss: 7930.4058\n",
            "Epoch [1420], val_loss: 7925.1895\n",
            "Epoch [1440], val_loss: 7924.5508\n",
            "Epoch [1460], val_loss: 7917.0229\n",
            "Epoch [1480], val_loss: 7921.7778\n",
            "Epoch [1500], val_loss: 7931.8525\n",
            "Epoch [1520], val_loss: 7920.7471\n",
            "Epoch [1540], val_loss: 7923.6157\n",
            "Epoch [1560], val_loss: 7938.2705\n",
            "Epoch [1580], val_loss: 7925.0571\n",
            "Epoch [1600], val_loss: 7920.8296\n",
            "Epoch [1620], val_loss: 7923.5151\n",
            "Epoch [1640], val_loss: 7926.5171\n",
            "Epoch [1660], val_loss: 7924.2949\n",
            "Epoch [1680], val_loss: 7927.6807\n",
            "Epoch [1700], val_loss: 7926.3711\n",
            "Epoch [1720], val_loss: 7928.3818\n",
            "Epoch [1740], val_loss: 7922.2729\n",
            "Epoch [1760], val_loss: 7927.8120\n",
            "Epoch [1780], val_loss: 7920.5762\n",
            "Epoch [1800], val_loss: 7917.0381\n",
            "Epoch [1820], val_loss: 7929.6372\n",
            "Epoch [1840], val_loss: 7915.1030\n",
            "Epoch [1860], val_loss: 7923.7026\n",
            "Epoch [1880], val_loss: 7917.3467\n",
            "Epoch [1900], val_loss: 7914.5083\n",
            "Epoch [1920], val_loss: 7923.7153\n",
            "Epoch [1940], val_loss: 7922.3491\n",
            "Epoch [1960], val_loss: 7923.2310\n",
            "Epoch [1980], val_loss: 7914.4126\n",
            "Epoch [2000], val_loss: 7919.7217\n",
            "Epoch [2020], val_loss: 7922.1313\n",
            "Epoch [2040], val_loss: 7920.6753\n",
            "Epoch [2060], val_loss: 7920.4893\n",
            "Epoch [2080], val_loss: 7915.4683\n",
            "Epoch [2100], val_loss: 7917.6353\n",
            "Epoch [2120], val_loss: 7911.9917\n",
            "Epoch [2140], val_loss: 7917.7173\n",
            "Epoch [2160], val_loss: 7913.2241\n",
            "Epoch [2180], val_loss: 7921.5293\n",
            "Epoch [2200], val_loss: 7912.8911\n",
            "Epoch [2220], val_loss: 7918.6470\n",
            "Epoch [2240], val_loss: 7917.0405\n",
            "Epoch [2260], val_loss: 7914.7920\n",
            "Epoch [2280], val_loss: 7913.1099\n",
            "Epoch [2300], val_loss: 7910.8833\n",
            "Epoch [2320], val_loss: 7912.7095\n",
            "Epoch [2340], val_loss: 7917.6616\n",
            "Epoch [2360], val_loss: 7908.1807\n",
            "Epoch [2380], val_loss: 7912.7168\n",
            "Epoch [2400], val_loss: 7913.5103\n",
            "Epoch [2420], val_loss: 7916.4966\n",
            "Epoch [2440], val_loss: 7907.2627\n",
            "Epoch [2460], val_loss: 7912.6782\n",
            "Epoch [2480], val_loss: 7907.4165\n",
            "Epoch [2500], val_loss: 7906.3813\n",
            "Epoch [2520], val_loss: 7903.0713\n",
            "Epoch [2540], val_loss: 7904.5571\n",
            "Epoch [2560], val_loss: 7909.6411\n",
            "Epoch [2580], val_loss: 7902.4971\n",
            "Epoch [2600], val_loss: 7898.6631\n",
            "Epoch [2620], val_loss: 7907.1143\n",
            "Epoch [2640], val_loss: 7902.0991\n",
            "Epoch [2660], val_loss: 7902.4692\n",
            "Epoch [2680], val_loss: 7915.5220\n",
            "Epoch [2700], val_loss: 7901.2207\n",
            "Epoch [2720], val_loss: 7906.1187\n",
            "Epoch [2740], val_loss: 7904.1318\n",
            "Epoch [2760], val_loss: 7901.2275\n",
            "Epoch [2780], val_loss: 7898.7695\n",
            "Epoch [2800], val_loss: 7905.6562\n",
            "Epoch [2820], val_loss: 7901.7256\n",
            "Epoch [2840], val_loss: 7897.4404\n",
            "Epoch [2860], val_loss: 7900.6650\n",
            "Epoch [2880], val_loss: 7910.6353\n",
            "Epoch [2900], val_loss: 7909.0386\n",
            "Epoch [2920], val_loss: 7894.6895\n",
            "Epoch [2940], val_loss: 7895.6157\n",
            "Epoch [2960], val_loss: 7904.8345\n",
            "Epoch [2980], val_loss: 7902.1562\n",
            "Epoch [3000], val_loss: 7892.2812\n",
            "Epoch [3020], val_loss: 7903.5708\n",
            "Epoch [3040], val_loss: 7908.3521\n",
            "Epoch [3060], val_loss: 7893.4146\n",
            "Epoch [3080], val_loss: 7903.6196\n",
            "Epoch [3100], val_loss: 7899.6021\n",
            "Epoch [3120], val_loss: 7898.6411\n",
            "Epoch [3140], val_loss: 7895.8521\n",
            "Epoch [3160], val_loss: 7889.3071\n",
            "Epoch [3180], val_loss: 7892.4761\n",
            "Epoch [3200], val_loss: 7905.0762\n",
            "Epoch [3220], val_loss: 7906.3506\n",
            "Epoch [3240], val_loss: 7898.9546\n",
            "Epoch [3260], val_loss: 7905.9565\n",
            "Epoch [3280], val_loss: 7901.0435\n",
            "Epoch [3300], val_loss: 7890.5698\n",
            "Epoch [3320], val_loss: 7900.7534\n",
            "Epoch [3340], val_loss: 7889.9253\n",
            "Epoch [3360], val_loss: 7897.6377\n",
            "Epoch [3380], val_loss: 7886.9639\n",
            "Epoch [3400], val_loss: 7904.8872\n",
            "Epoch [3420], val_loss: 7882.9155\n",
            "Epoch [3440], val_loss: 7900.0781\n",
            "Epoch [3460], val_loss: 7894.0586\n",
            "Epoch [3480], val_loss: 7892.7329\n",
            "Epoch [3500], val_loss: 7890.9570\n",
            "Epoch [3520], val_loss: 7895.2593\n",
            "Epoch [3540], val_loss: 7898.7153\n",
            "Epoch [3560], val_loss: 7885.6567\n",
            "Epoch [3580], val_loss: 7886.4268\n",
            "Epoch [3600], val_loss: 7882.4966\n",
            "Epoch [3620], val_loss: 7890.6631\n",
            "Epoch [3640], val_loss: 7888.2485\n",
            "Epoch [3660], val_loss: 7883.9492\n",
            "Epoch [3680], val_loss: 7891.6250\n",
            "Epoch [3700], val_loss: 7884.2378\n",
            "Epoch [3720], val_loss: 7885.3350\n",
            "Epoch [3740], val_loss: 7889.6470\n",
            "Epoch [3760], val_loss: 7885.3911\n",
            "Epoch [3780], val_loss: 7886.1235\n",
            "Epoch [3800], val_loss: 7883.8872\n",
            "Epoch [3820], val_loss: 7890.6631\n",
            "Epoch [3840], val_loss: 7880.1025\n",
            "Epoch [3860], val_loss: 7877.9971\n",
            "Epoch [3880], val_loss: 7884.8555\n",
            "Epoch [3900], val_loss: 7895.6162\n",
            "Epoch [3920], val_loss: 7884.0210\n",
            "Epoch [3940], val_loss: 7878.1157\n",
            "Epoch [3960], val_loss: 7880.3247\n",
            "Epoch [3980], val_loss: 7875.6133\n",
            "Epoch [4000], val_loss: 7879.8364\n",
            "Epoch [4020], val_loss: 7884.9062\n",
            "Epoch [4040], val_loss: 7875.5718\n",
            "Epoch [4060], val_loss: 7876.4946\n",
            "Epoch [4080], val_loss: 7880.1289\n",
            "Epoch [4100], val_loss: 7872.4844\n",
            "Epoch [4120], val_loss: 7879.4248\n",
            "Epoch [4140], val_loss: 7878.4814\n",
            "Epoch [4160], val_loss: 7872.4238\n",
            "Epoch [4180], val_loss: 7878.7607\n",
            "Epoch [4200], val_loss: 7881.9185\n",
            "Epoch [4220], val_loss: 7876.3247\n",
            "Epoch [4240], val_loss: 7877.0137\n",
            "Epoch [4260], val_loss: 7881.9985\n",
            "Epoch [4280], val_loss: 7875.3501\n",
            "Epoch [4300], val_loss: 7878.9023\n",
            "Epoch [4320], val_loss: 7869.1318\n",
            "Epoch [4340], val_loss: 7882.6646\n",
            "Epoch [4360], val_loss: 7869.9883\n",
            "Epoch [4380], val_loss: 7868.6597\n",
            "Epoch [4400], val_loss: 7879.7778\n",
            "Epoch [4420], val_loss: 7874.3179\n",
            "Epoch [4440], val_loss: 7870.9375\n",
            "Epoch [4460], val_loss: 7865.8818\n",
            "Epoch [4480], val_loss: 7876.5000\n",
            "Epoch [4500], val_loss: 7864.3218\n",
            "Epoch [4520], val_loss: 7874.7393\n",
            "Epoch [4540], val_loss: 7874.1167\n",
            "Epoch [4560], val_loss: 7873.4673\n",
            "Epoch [4580], val_loss: 7866.4165\n",
            "Epoch [4600], val_loss: 7868.6421\n",
            "Epoch [4620], val_loss: 7868.3643\n",
            "Epoch [4640], val_loss: 7865.0640\n",
            "Epoch [4660], val_loss: 7871.3335\n",
            "Epoch [4680], val_loss: 7864.9985\n",
            "Epoch [4700], val_loss: 7866.2827\n",
            "Epoch [4720], val_loss: 7873.3599\n",
            "Epoch [4740], val_loss: 7864.7881\n",
            "Epoch [4760], val_loss: 7871.8892\n",
            "Epoch [4780], val_loss: 7870.3091\n",
            "Epoch [4800], val_loss: 7868.6875\n",
            "Epoch [4820], val_loss: 7869.6523\n",
            "Epoch [4840], val_loss: 7871.8755\n",
            "Epoch [4860], val_loss: 7869.3926\n",
            "Epoch [4880], val_loss: 7866.6440\n",
            "Epoch [4900], val_loss: 7873.8252\n",
            "Epoch [4920], val_loss: 7869.8364\n",
            "Epoch [4940], val_loss: 7865.4321\n",
            "Epoch [4960], val_loss: 7873.3242\n",
            "Epoch [4980], val_loss: 7863.9585\n",
            "Epoch [5000], val_loss: 7864.1978\n",
            "Epoch [5020], val_loss: 7859.2271\n",
            "Epoch [5040], val_loss: 7861.6548\n",
            "Epoch [5060], val_loss: 7862.9375\n",
            "Epoch [5080], val_loss: 7869.4414\n",
            "Epoch [5100], val_loss: 7865.4526\n",
            "Epoch [5120], val_loss: 7865.5786\n",
            "Epoch [5140], val_loss: 7865.7217\n",
            "Epoch [5160], val_loss: 7865.1001\n",
            "Epoch [5180], val_loss: 7866.6455\n",
            "Epoch [5200], val_loss: 7860.2998\n",
            "Epoch [5220], val_loss: 7866.9937\n",
            "Epoch [5240], val_loss: 7860.9312\n",
            "Epoch [5260], val_loss: 7863.9287\n",
            "Epoch [5280], val_loss: 7862.0176\n",
            "Epoch [5300], val_loss: 7853.0767\n",
            "Epoch [5320], val_loss: 7850.2896\n",
            "Epoch [5340], val_loss: 7855.4570\n",
            "Epoch [5360], val_loss: 7861.4932\n",
            "Epoch [5380], val_loss: 7856.7661\n",
            "Epoch [5400], val_loss: 7853.4321\n",
            "Epoch [5420], val_loss: 7861.6343\n",
            "Epoch [5440], val_loss: 7852.9688\n",
            "Epoch [5460], val_loss: 7859.6909\n",
            "Epoch [5480], val_loss: 7855.1802\n",
            "Epoch [5500], val_loss: 7853.1460\n",
            "Epoch [5520], val_loss: 7850.2881\n",
            "Epoch [5540], val_loss: 7856.9028\n",
            "Epoch [5560], val_loss: 7851.7305\n",
            "Epoch [5580], val_loss: 7857.5596\n",
            "Epoch [5600], val_loss: 7849.8833\n",
            "Epoch [5620], val_loss: 7860.8872\n",
            "Epoch [5640], val_loss: 7849.6826\n",
            "Epoch [5660], val_loss: 7852.8076\n",
            "Epoch [5680], val_loss: 7859.8784\n",
            "Epoch [5700], val_loss: 7853.6113\n",
            "Epoch [5720], val_loss: 7859.3130\n",
            "Epoch [5740], val_loss: 7846.3105\n",
            "Epoch [5760], val_loss: 7851.7070\n",
            "Epoch [5780], val_loss: 7846.4580\n",
            "Epoch [5800], val_loss: 7848.3193\n",
            "Epoch [5820], val_loss: 7856.3945\n",
            "Epoch [5840], val_loss: 7854.1099\n",
            "Epoch [5860], val_loss: 7851.9863\n",
            "Epoch [5880], val_loss: 7844.0679\n",
            "Epoch [5900], val_loss: 7845.1626\n",
            "Epoch [5920], val_loss: 7844.4595\n",
            "Epoch [5940], val_loss: 7845.8892\n",
            "Epoch [5960], val_loss: 7852.8062\n",
            "Epoch [5980], val_loss: 7843.3408\n",
            "Epoch [6000], val_loss: 7842.5752\n",
            "Epoch [6020], val_loss: 7846.3354\n",
            "Epoch [6040], val_loss: 7845.4219\n",
            "Epoch [6060], val_loss: 7844.7148\n",
            "Epoch [6080], val_loss: 7848.0898\n",
            "Epoch [6100], val_loss: 7849.1255\n",
            "Epoch [6120], val_loss: 7843.3525\n",
            "Epoch [6140], val_loss: 7841.1055\n",
            "Epoch [6160], val_loss: 7844.5107\n",
            "Epoch [6180], val_loss: 7837.7651\n",
            "Epoch [6200], val_loss: 7851.8940\n",
            "Epoch [6220], val_loss: 7839.4424\n",
            "Epoch [6240], val_loss: 7838.7812\n",
            "Epoch [6260], val_loss: 7831.2085\n",
            "Epoch [6280], val_loss: 7839.2310\n",
            "Epoch [6300], val_loss: 7845.2935\n",
            "Epoch [6320], val_loss: 7846.2983\n",
            "Epoch [6340], val_loss: 7839.6006\n",
            "Epoch [6360], val_loss: 7838.9790\n",
            "Epoch [6380], val_loss: 7843.3188\n",
            "Epoch [6400], val_loss: 7839.1909\n",
            "Epoch [6420], val_loss: 7833.4268\n",
            "Epoch [6440], val_loss: 7841.2236\n",
            "Epoch [6460], val_loss: 7839.7905\n",
            "Epoch [6480], val_loss: 7837.1997\n",
            "Epoch [6500], val_loss: 7843.2710\n",
            "Epoch [6520], val_loss: 7844.4146\n",
            "Epoch [6540], val_loss: 7840.3940\n",
            "Epoch [6560], val_loss: 7836.5845\n",
            "Epoch [6580], val_loss: 7835.3789\n",
            "Epoch [6600], val_loss: 7840.3506\n",
            "Epoch [6620], val_loss: 7831.5869\n",
            "Epoch [6640], val_loss: 7839.1670\n",
            "Epoch [6660], val_loss: 7839.3857\n",
            "Epoch [6680], val_loss: 7838.1558\n",
            "Epoch [6700], val_loss: 7828.5107\n",
            "Epoch [6720], val_loss: 7836.2251\n",
            "Epoch [6740], val_loss: 7834.5659\n",
            "Epoch [6760], val_loss: 7838.4429\n",
            "Epoch [6780], val_loss: 7833.6704\n",
            "Epoch [6800], val_loss: 7843.0249\n",
            "Epoch [6820], val_loss: 7841.2241\n",
            "Epoch [6840], val_loss: 7835.9502\n",
            "Epoch [6860], val_loss: 7826.3105\n",
            "Epoch [6880], val_loss: 7832.8906\n",
            "Epoch [6900], val_loss: 7836.0396\n",
            "Epoch [6920], val_loss: 7833.1943\n",
            "Epoch [6940], val_loss: 7840.1157\n",
            "Epoch [6960], val_loss: 7832.0640\n",
            "Epoch [6980], val_loss: 7829.3599\n",
            "Epoch [7000], val_loss: 7830.9688\n",
            "Epoch [7020], val_loss: 7834.2432\n",
            "Epoch [7040], val_loss: 7832.8057\n",
            "Epoch [7060], val_loss: 7831.6357\n",
            "Epoch [7080], val_loss: 7830.1680\n",
            "Epoch [7100], val_loss: 7828.0938\n",
            "Epoch [7120], val_loss: 7830.6680\n",
            "Epoch [7140], val_loss: 7825.8315\n",
            "Epoch [7160], val_loss: 7827.4937\n",
            "Epoch [7180], val_loss: 7832.8833\n",
            "Epoch [7200], val_loss: 7831.0190\n",
            "Epoch [7220], val_loss: 7828.9497\n",
            "Epoch [7240], val_loss: 7820.7969\n",
            "Epoch [7260], val_loss: 7829.6699\n",
            "Epoch [7280], val_loss: 7817.2495\n",
            "Epoch [7300], val_loss: 7826.3823\n",
            "Epoch [7320], val_loss: 7829.2886\n",
            "Epoch [7340], val_loss: 7825.6875\n",
            "Epoch [7360], val_loss: 7821.9946\n",
            "Epoch [7380], val_loss: 7824.7495\n",
            "Epoch [7400], val_loss: 7822.9116\n",
            "Epoch [7420], val_loss: 7820.6406\n",
            "Epoch [7440], val_loss: 7826.9395\n",
            "Epoch [7460], val_loss: 7829.1494\n",
            "Epoch [7480], val_loss: 7825.1108\n",
            "Epoch [7500], val_loss: 7831.5713\n",
            "Epoch [7520], val_loss: 7824.5942\n",
            "Epoch [7540], val_loss: 7827.0317\n",
            "Epoch [7560], val_loss: 7822.9380\n",
            "Epoch [7580], val_loss: 7822.3750\n",
            "Epoch [7600], val_loss: 7825.7471\n",
            "Epoch [7620], val_loss: 7821.9482\n",
            "Epoch [7640], val_loss: 7828.5688\n",
            "Epoch [7660], val_loss: 7827.8867\n",
            "Epoch [7680], val_loss: 7822.1753\n",
            "Epoch [7700], val_loss: 7816.4829\n",
            "Epoch [7720], val_loss: 7823.7104\n",
            "Epoch [7740], val_loss: 7815.4292\n",
            "Epoch [7760], val_loss: 7818.3330\n",
            "Epoch [7780], val_loss: 7813.6631\n",
            "Epoch [7800], val_loss: 7815.9653\n",
            "Epoch [7820], val_loss: 7818.7515\n",
            "Epoch [7840], val_loss: 7817.2222\n",
            "Epoch [7860], val_loss: 7817.4780\n",
            "Epoch [7880], val_loss: 7814.6665\n",
            "Epoch [7900], val_loss: 7815.9058\n",
            "Epoch [7920], val_loss: 7816.6265\n",
            "Epoch [7940], val_loss: 7820.5693\n",
            "Epoch [7960], val_loss: 7816.5801\n",
            "Epoch [7980], val_loss: 7810.9497\n",
            "Epoch [8000], val_loss: 7817.9893\n",
            "Epoch [8020], val_loss: 7821.4546\n",
            "Epoch [8040], val_loss: 7823.7583\n",
            "Epoch [8060], val_loss: 7817.2954\n",
            "Epoch [8080], val_loss: 7817.1006\n",
            "Epoch [8100], val_loss: 7815.6064\n",
            "Epoch [8120], val_loss: 7812.7026\n",
            "Epoch [8140], val_loss: 7821.5029\n",
            "Epoch [8160], val_loss: 7816.0161\n",
            "Epoch [8180], val_loss: 7808.9463\n",
            "Epoch [8200], val_loss: 7811.3281\n",
            "Epoch [8220], val_loss: 7807.1758\n",
            "Epoch [8240], val_loss: 7818.6143\n",
            "Epoch [8260], val_loss: 7813.3833\n",
            "Epoch [8280], val_loss: 7810.3765\n",
            "Epoch [8300], val_loss: 7808.4961\n",
            "Epoch [8320], val_loss: 7817.2974\n",
            "Epoch [8340], val_loss: 7807.9844\n",
            "Epoch [8360], val_loss: 7811.1499\n",
            "Epoch [8380], val_loss: 7810.9146\n",
            "Epoch [8400], val_loss: 7803.8765\n",
            "Epoch [8420], val_loss: 7812.2241\n",
            "Epoch [8440], val_loss: 7800.9717\n",
            "Epoch [8460], val_loss: 7806.7065\n",
            "Epoch [8480], val_loss: 7803.5869\n",
            "Epoch [8500], val_loss: 7805.7046\n",
            "Epoch [8520], val_loss: 7802.0449\n",
            "Epoch [8540], val_loss: 7806.6870\n",
            "Epoch [8560], val_loss: 7809.7798\n",
            "Epoch [8580], val_loss: 7801.8838\n",
            "Epoch [8600], val_loss: 7801.3193\n",
            "Epoch [8620], val_loss: 7799.4146\n",
            "Epoch [8640], val_loss: 7809.2773\n",
            "Epoch [8660], val_loss: 7804.2119\n",
            "Epoch [8680], val_loss: 7799.8364\n",
            "Epoch [8700], val_loss: 7799.9897\n",
            "Epoch [8720], val_loss: 7810.7065\n",
            "Epoch [8740], val_loss: 7807.7773\n",
            "Epoch [8760], val_loss: 7806.0811\n",
            "Epoch [8780], val_loss: 7804.1025\n",
            "Epoch [8800], val_loss: 7806.1479\n",
            "Epoch [8820], val_loss: 7809.6211\n",
            "Epoch [8840], val_loss: 7802.0103\n",
            "Epoch [8860], val_loss: 7800.7344\n",
            "Epoch [8880], val_loss: 7796.8086\n",
            "Epoch [8900], val_loss: 7797.3970\n",
            "Epoch [8920], val_loss: 7801.6436\n",
            "Epoch [8940], val_loss: 7803.7446\n",
            "Epoch [8960], val_loss: 7801.6880\n",
            "Epoch [8980], val_loss: 7807.6343\n",
            "Epoch [9000], val_loss: 7798.6426\n",
            "Epoch [9020], val_loss: 7802.2832\n",
            "Epoch [9040], val_loss: 7796.4204\n",
            "Epoch [9060], val_loss: 7803.8477\n",
            "Epoch [9080], val_loss: 7799.8057\n",
            "Epoch [9100], val_loss: 7793.7222\n",
            "Epoch [9120], val_loss: 7811.3037\n",
            "Epoch [9140], val_loss: 7796.6143\n",
            "Epoch [9160], val_loss: 7800.1909\n",
            "Epoch [9180], val_loss: 7801.4170\n",
            "Epoch [9200], val_loss: 7800.4248\n",
            "Epoch [9220], val_loss: 7795.5317\n",
            "Epoch [9240], val_loss: 7795.0229\n",
            "Epoch [9260], val_loss: 7794.3989\n",
            "Epoch [9280], val_loss: 7799.7046\n",
            "Epoch [9300], val_loss: 7795.4780\n",
            "Epoch [9320], val_loss: 7795.0366\n",
            "Epoch [9340], val_loss: 7793.6113\n",
            "Epoch [9360], val_loss: 7796.9619\n",
            "Epoch [9380], val_loss: 7787.4814\n",
            "Epoch [9400], val_loss: 7790.7817\n",
            "Epoch [9420], val_loss: 7792.3164\n",
            "Epoch [9440], val_loss: 7806.1377\n",
            "Epoch [9460], val_loss: 7798.7344\n",
            "Epoch [9480], val_loss: 7787.8345\n",
            "Epoch [9500], val_loss: 7796.8677\n",
            "Epoch [9520], val_loss: 7792.9624\n",
            "Epoch [9540], val_loss: 7788.9980\n",
            "Epoch [9560], val_loss: 7791.1978\n",
            "Epoch [9580], val_loss: 7796.3164\n",
            "Epoch [9600], val_loss: 7797.0967\n",
            "Epoch [9620], val_loss: 7791.0820\n",
            "Epoch [9640], val_loss: 7791.5698\n",
            "Epoch [9660], val_loss: 7790.3140\n",
            "Epoch [9680], val_loss: 7787.2051\n",
            "Epoch [9700], val_loss: 7794.4048\n",
            "Epoch [9720], val_loss: 7791.4414\n",
            "Epoch [9740], val_loss: 7785.0752\n",
            "Epoch [9760], val_loss: 7790.9360\n",
            "Epoch [9780], val_loss: 7791.0439\n",
            "Epoch [9800], val_loss: 7799.0562\n",
            "Epoch [9820], val_loss: 7788.6182\n",
            "Epoch [9840], val_loss: 7786.1475\n",
            "Epoch [9860], val_loss: 7798.5952\n",
            "Epoch [9880], val_loss: 7784.7842\n",
            "Epoch [9900], val_loss: 7792.4512\n",
            "Epoch [9920], val_loss: 7791.5469\n",
            "Epoch [9940], val_loss: 7793.1929\n",
            "Epoch [9960], val_loss: 7796.5366\n",
            "Epoch [9980], val_loss: 7790.5073\n",
            "Epoch [10000], val_loss: 7789.0630\n"
          ]
        }
      ],
      "source": [
        "epochs = 10000\n",
        "lr = 1e-1\n",
        "history5 = fit(epochs, lr, model, train_loader, val_loader)"
      ]
    },
    {
      "cell_type": "markdown",
      "metadata": {
        "id": "a_9S72ioC42v"
      },
      "source": [
        "**Q12: What is the final validation loss of your model?**"
      ]
    },
    {
      "cell_type": "code",
      "execution_count": null,
      "metadata": {
        "id": "XvyMZA0DC42v"
      },
      "outputs": [],
      "source": [
        "val_loss = 7789.0630"
      ]
    },
    {
      "cell_type": "markdown",
      "metadata": {
        "id": "PEzRtuX3C42v"
      },
      "source": [
        "Let's log the final validation loss to Jovian and commit the notebook"
      ]
    },
    {
      "cell_type": "code",
      "execution_count": null,
      "metadata": {
        "colab": {
          "base_uri": "https://localhost:8080/"
        },
        "id": "tpfKJtreC42w",
        "outputId": "009da607-ddb0-4bfc-eae4-84ca1382f374"
      },
      "outputs": [
        {
          "name": "stdout",
          "output_type": "stream",
          "text": [
            "[jovian] Please enter your API key ( from https://jovian.com/ ):\u001b[0m\n",
            "API KEY: ··········\n",
            "[jovian] Metrics logged.\u001b[0m\n"
          ]
        }
      ],
      "source": [
        "jovian.log_metrics(val_loss=val_loss)"
      ]
    },
    {
      "cell_type": "code",
      "execution_count": null,
      "metadata": {
        "colab": {
          "base_uri": "https://localhost:8080/"
        },
        "id": "CM5nU88fC42w",
        "outputId": "f331be5f-0e3f-4e58-fe71-c117330b10df"
      },
      "outputs": [
        {
          "name": "stdout",
          "output_type": "stream",
          "text": [
            "[jovian] Detected Colab notebook...\u001b[0m\n",
            "[jovian] jovian.commit() is no longer required on Google Colab. If you ran this notebook from Jovian, \n",
            "then just save this file in Colab using Ctrl+S/Cmd+S and it will be updated on Jovian. \n",
            "Also, you can also delete this cell, it's no longer necessary.\u001b[0m\n"
          ]
        }
      ],
      "source": [
        "jovian.commit(project=project_name, environment=None)"
      ]
    },
    {
      "cell_type": "markdown",
      "metadata": {
        "id": "XY0AT4VFC42w"
      },
      "source": [
        "Now scroll back up, re-initialize the model, and try different set of values for batch size, number of epochs, learning rate etc. Commit each experiment and use the \"Compare\" and \"View Diff\" options on Jovian to compare the different results."
      ]
    },
    {
      "cell_type": "markdown",
      "metadata": {
        "id": "f69x_pi7C42w"
      },
      "source": [
        "## Step 5: Make predictions using the trained model\n",
        "\n",
        "**Q13: Complete the following function definition to make predictions on a single input**"
      ]
    },
    {
      "cell_type": "code",
      "execution_count": null,
      "metadata": {
        "id": "J7Qyj5uoC42w"
      },
      "outputs": [],
      "source": [
        "def predict_single(input, target, model):\n",
        "    inputs = input.unsqueeze(0)\n",
        "    predictions = model(input)                # fill this\n",
        "    prediction = predictions[0].detach()\n",
        "    print(\"Input:\", input)\n",
        "    print(\"Target:\", target)\n",
        "    print(\"Prediction:\", prediction)"
      ]
    },
    {
      "cell_type": "code",
      "execution_count": null,
      "metadata": {
        "colab": {
          "base_uri": "https://localhost:8080/"
        },
        "id": "oTVtMUZhC42w",
        "outputId": "3d82a2c1-f621-4ff1-e525-c2861b94471b"
      },
      "outputs": [
        {
          "name": "stdout",
          "output_type": "stream",
          "text": [
            "Input: tensor([19.0000,  1.0000, 26.1820,  0.0000,  0.0000,  1.0000])\n",
            "Target: tensor([1909.4824])\n",
            "Prediction: tensor(2777.6504)\n"
          ]
        }
      ],
      "source": [
        "input, target = val_ds[0]\n",
        "predict_single(input, target, model)"
      ]
    },
    {
      "cell_type": "code",
      "execution_count": null,
      "metadata": {
        "colab": {
          "base_uri": "https://localhost:8080/"
        },
        "id": "3YB1QwjhC42w",
        "outputId": "eac08fe2-b661-4b21-f832-875bd9bef648"
      },
      "outputs": [
        {
          "name": "stdout",
          "output_type": "stream",
          "text": [
            "Input: tensor([41.0000,  0.0000, 32.8640,  0.0000,  0.0000,  3.0000])\n",
            "Target: tensor([7237.7686])\n",
            "Prediction: tensor(8144.0010)\n"
          ]
        }
      ],
      "source": [
        "input, target = val_ds[10]\n",
        "predict_single(input, target, model)"
      ]
    },
    {
      "cell_type": "code",
      "execution_count": null,
      "metadata": {
        "colab": {
          "base_uri": "https://localhost:8080/"
        },
        "id": "lMkC_hLUC42x",
        "outputId": "7c3a3a3e-5945-4a26-c386-034d2ca5a401"
      },
      "outputs": [
        {
          "name": "stdout",
          "output_type": "stream",
          "text": [
            "Input: tensor([53.0000,  1.0000, 30.6592,  0.0000,  0.0000,  2.0000])\n",
            "Target: tensor([11100.5439])\n",
            "Prediction: tensor(11964.8955)\n"
          ]
        }
      ],
      "source": [
        "input, target = val_ds[23]\n",
        "predict_single(input, target, model)"
      ]
    },
    {
      "cell_type": "markdown",
      "metadata": {
        "id": "GTwMLPaHC42x"
      },
      "source": [
        "Are you happy with your model's predictions? Try to improve them further."
      ]
    },
    {
      "cell_type": "markdown",
      "metadata": {
        "id": "mMtMxoKyC42x"
      },
      "source": [
        "## (Optional) Step 6: Try another dataset & blog about it\n",
        "\n",
        "While this last step is optional for the submission of your assignment, we highly recommend that you do it. Try to replicate this notebook for a different linear regression or logistic regression problem. This will help solidify your understanding, and give you a chance to differentiate the generic patterns in machine learning from problem-specific details.You can use one of these starer notebooks (just change the dataset):\n",
        "\n",
        "- Linear regression (minimal): https://jovian.ai/aakashns/housing-linear-minimal\n",
        "- Logistic regression (minimal): https://jovian.ai/aakashns/mnist-logistic-minimal\n",
        "\n",
        "Here are some sources to find good datasets:\n",
        "\n",
        "- https://lionbridge.ai/datasets/10-open-datasets-for-linear-regression/\n",
        "- https://www.kaggle.com/rtatman/datasets-for-regression-analysis\n",
        "- https://archive.ics.uci.edu/ml/datasets.php?format=&task=reg&att=&area=&numAtt=&numIns=&type=&sort=nameUp&view=table\n",
        "- https://people.sc.fsu.edu/~jburkardt/datasets/regression/regression.html\n",
        "- https://archive.ics.uci.edu/ml/datasets/wine+quality\n",
        "- https://pytorch.org/docs/stable/torchvision/datasets.html\n",
        "\n",
        "We also recommend that you write a blog about your approach to the problem. Here is a suggested structure for your post (feel free to experiment with it):\n",
        "\n",
        "- Interesting title & subtitle\n",
        "- Overview of what the blog covers (which dataset, linear regression or logistic regression, intro to PyTorch)\n",
        "- Downloading & exploring the data\n",
        "- Preparing the data for training\n",
        "- Creating a model using PyTorch\n",
        "- Training the model to fit the data\n",
        "- Your thoughts on how to experiment with different hyperparmeters to reduce loss\n",
        "- Making predictions using the model\n",
        "\n",
        "As with the previous assignment, you can [embed Juptyer notebook cells & outputs from Jovian](https://medium.com/jovianml/share-and-embed-jupyter-notebooks-online-with-jovian-ml-df709a03064e) into your blog.\n",
        "\n",
        "Don't forget to share your work on the forum: https://jovian.ai/forum/t/linear-regression-and-logistic-regression-notebooks-and-blog-posts/14039"
      ]
    },
    {
      "cell_type": "code",
      "execution_count": null,
      "metadata": {
        "colab": {
          "base_uri": "https://localhost:8080/"
        },
        "id": "CwgeDP2eC42x",
        "outputId": "3775d7bd-5c23-4270-eabf-35b62d422b82"
      },
      "outputs": [
        {
          "name": "stdout",
          "output_type": "stream",
          "text": [
            "[jovian] Detected Colab notebook...\u001b[0m\n",
            "[jovian] jovian.commit() is no longer required on Google Colab. If you ran this notebook from Jovian, \n",
            "then just save this file in Colab using Ctrl+S/Cmd+S and it will be updated on Jovian. \n",
            "Also, you can also delete this cell, it's no longer necessary.\u001b[0m\n",
            "[jovian] Detected Colab notebook...\u001b[0m\n",
            "[jovian] jovian.commit() is no longer required on Google Colab. If you ran this notebook from Jovian, \n",
            "then just save this file in Colab using Ctrl+S/Cmd+S and it will be updated on Jovian. \n",
            "Also, you can also delete this cell, it's no longer necessary.\u001b[0m\n"
          ]
        }
      ],
      "source": [
        "jovian.commit(project=project_name, environment=None)\n",
        "jovian.commit(project=project_name, environment=None) # try again, kaggle fails sometimes"
      ]
    },
    {
      "cell_type": "code",
      "execution_count": null,
      "metadata": {
        "id": "Z_WCF9prC42x"
      },
      "outputs": [],
      "source": []
    }
  ],
  "metadata": {
    "colab": {
      "provenance": [],
      "include_colab_link": true
    },
    "kernelspec": {
      "display_name": "Python 3 (ipykernel)",
      "language": "python",
      "name": "python3"
    },
    "language_info": {
      "codemirror_mode": {
        "name": "ipython",
        "version": 3
      },
      "file_extension": ".py",
      "mimetype": "text/x-python",
      "name": "python",
      "nbconvert_exporter": "python",
      "pygments_lexer": "ipython3",
      "version": "3.9.6"
    }
  },
  "nbformat": 4,
  "nbformat_minor": 0
}