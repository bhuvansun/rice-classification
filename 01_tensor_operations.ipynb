{
  "cells": [
    {
      "cell_type": "markdown",
      "metadata": {
        "id": "view-in-github",
        "colab_type": "text"
      },
      "source": [
        "<a href=\"https://colab.research.google.com/github/bhuvansun/rice-classification/blob/main/01_tensor_operations.ipynb\" target=\"_parent\"><img src=\"https://colab.research.google.com/assets/colab-badge.svg\" alt=\"Open In Colab\"/></a>"
      ]
    },
    {
      "cell_type": "markdown",
      "metadata": {
        "id": "LTs9jxODHNJW"
      },
      "source": [
        "# 5 Interesting Pytorch Tensor functions\n",
        "\n",
        "A short introduction about PyTorch and about the chosen functions.\n",
        "\n",
        "- 1. `torch.is_complex(input)`\n",
        "- 2. `torch.from_numpy(ndarray)`\n",
        "- 3. `torch.polar(abs, angle, *, out=None)`\n",
        "- 4. `torch.eye(n, m=None, *, out=None, dtype=None, layout=torch.strided, device=None, requires_grad=False)`\n",
        "- 5. `torch.adjoint(Tensor)`\n",
        "\n",
        "Before we begin, let's install and import PyTorch"
      ]
    },
    {
      "cell_type": "code",
      "execution_count": null,
      "metadata": {
        "id": "CaO3xaREHNJa"
      },
      "outputs": [],
      "source": [
        "# Import torch and other required modules\n",
        "import torch"
      ]
    },
    {
      "cell_type": "markdown",
      "metadata": {
        "id": "bwYt2j_bHNJb"
      },
      "source": [
        "## Function 1 - torch.is_complex()\n",
        "\n",
        "Returns `True` if the data type of the input is a complex data type. Else, retuns `False`"
      ]
    },
    {
      "cell_type": "code",
      "execution_count": null,
      "metadata": {
        "colab": {
          "base_uri": "https://localhost:8080/"
        },
        "id": "iBLUmUA3HNJc",
        "outputId": "40ee8cc3-002e-4750-ebba-9c2a4b1af6bf"
      },
      "outputs": [
        {
          "data": {
            "text/plain": [
              "tensor([[-0.3463-0.3036j,  1.1571-0.9975j],\n",
              "        [ 0.4877+0.0192j, -0.0470+1.4872j]])"
            ]
          },
          "execution_count": 2,
          "metadata": {},
          "output_type": "execute_result"
        }
      ],
      "source": [
        "# Example 1 - working\n",
        "x = torch.randn(2,2, dtype=torch.complex64)\n",
        "x"
      ]
    },
    {
      "cell_type": "code",
      "execution_count": null,
      "metadata": {
        "colab": {
          "base_uri": "https://localhost:8080/"
        },
        "id": "OaXOHWHoJW7I",
        "outputId": "42662c95-6c4e-42e2-b306-f9a351e3f8db"
      },
      "outputs": [
        {
          "data": {
            "text/plain": [
              "True"
            ]
          },
          "execution_count": 3,
          "metadata": {},
          "output_type": "execute_result"
        }
      ],
      "source": [
        "torch.is_complex(x)"
      ]
    },
    {
      "cell_type": "markdown",
      "metadata": {
        "id": "1kJqK6_4HNJe"
      },
      "source": [
        "Explanation about example: \\\n",
        "\n",
        "'x' is a tensor array of size 2*2 that contains normally distributed values. Since the datatype is given as a complex datatype of 64 bits, we have complex values in the array. \\\n",
        "\n",
        "Hence, our function `torch.is_complex()` returns `True` when the tensor array 'x' is passed as the input, indicating that the tensor is of a complex datatype.\n"
      ]
    },
    {
      "cell_type": "code",
      "execution_count": null,
      "metadata": {
        "colab": {
          "base_uri": "https://localhost:8080/"
        },
        "id": "b-c7yO1tHNJf",
        "outputId": "0a1f4f49-9d9a-41b5-d8a5-ecfad88a87bd"
      },
      "outputs": [
        {
          "data": {
            "text/plain": [
              "tensor([[ 0.8318, -0.6804],\n",
              "        [-0.7488, -0.0688]])"
            ]
          },
          "execution_count": 4,
          "metadata": {},
          "output_type": "execute_result"
        }
      ],
      "source": [
        "# Example 2 - working\n",
        "x = torch.randn(2,2, dtype=torch.float)\n",
        "x"
      ]
    },
    {
      "cell_type": "code",
      "execution_count": null,
      "metadata": {
        "colab": {
          "base_uri": "https://localhost:8080/"
        },
        "id": "JCWZ5Il1Jf_3",
        "outputId": "a161058e-4caa-4efb-b2e1-dd4fe8cceb4f"
      },
      "outputs": [
        {
          "data": {
            "text/plain": [
              "False"
            ]
          },
          "execution_count": 5,
          "metadata": {},
          "output_type": "execute_result"
        }
      ],
      "source": [
        "torch.is_complex(x)"
      ]
    },
    {
      "cell_type": "markdown",
      "metadata": {
        "id": "BW4gw8qsHNJg"
      },
      "source": [
        "Explanation about example: \\\n",
        "\n",
        "'x' is a tensor array of size 2*2 that contains normally distributed values. Since the datatype is given as a float datatype of 64 bits, we have decimal values in the array. \\\n",
        "\n",
        "Hence, our function `torch.is_complex()` returns `False` when the tensor array 'x' is passed as the input, indicating that the tensor is not of a complex datatype."
      ]
    },
    {
      "cell_type": "code",
      "execution_count": null,
      "metadata": {
        "colab": {
          "base_uri": "https://localhost:8080/"
        },
        "id": "swFczKJ6HNJg",
        "outputId": "14fd6173-98c8-433b-a6b1-33dd668634ff"
      },
      "outputs": [
        {
          "name": "stdout",
          "output_type": "stream",
          "text": [
            "tensor([[True, True],\n",
            "        [True, True]]) tensor([[1, 1, 1],\n",
            "        [1, 1, 1]], dtype=torch.int32)\n"
          ]
        }
      ],
      "source": [
        "# Example 3 - breaking\n",
        "x = torch.ones((2, 2), dtype = torch.bool)\n",
        "y = torch.ones((2, 3), dtype = torch.int)\n",
        "print(x, y)"
      ]
    },
    {
      "cell_type": "code",
      "execution_count": null,
      "metadata": {
        "colab": {
          "base_uri": "https://localhost:8080/",
          "height": 165
        },
        "id": "kfipzoGsLsQF",
        "outputId": "bf7faa37-429f-4d6f-e7d7-aab90d22eaaa"
      },
      "outputs": [
        {
          "ename": "TypeError",
          "evalue": "ignored",
          "output_type": "error",
          "traceback": [
            "\u001b[0;31m---------------------------------------------------------------------------\u001b[0m",
            "\u001b[0;31mTypeError\u001b[0m                                 Traceback (most recent call last)",
            "\u001b[0;32m<ipython-input-7-f7960695401b>\u001b[0m in \u001b[0;36m<cell line: 1>\u001b[0;34m()\u001b[0m\n\u001b[0;32m----> 1\u001b[0;31m \u001b[0mtorch\u001b[0m\u001b[0;34m.\u001b[0m\u001b[0mis_complex\u001b[0m\u001b[0;34m(\u001b[0m\u001b[0mx\u001b[0m\u001b[0;34m,\u001b[0m \u001b[0my\u001b[0m\u001b[0;34m)\u001b[0m\u001b[0;34m\u001b[0m\u001b[0;34m\u001b[0m\u001b[0m\n\u001b[0m",
            "\u001b[0;31mTypeError\u001b[0m: is_complex() takes 1 positional argument but 2 were given"
          ]
        }
      ],
      "source": [
        "torch.is_complex(x, y)"
      ]
    },
    {
      "cell_type": "markdown",
      "metadata": {
        "id": "Wakl6QIHHNJh"
      },
      "source": [
        "Explanation about example: \\\n",
        "\n",
        "We can only pass one parameter as input. Normally, we would expect that if multiple inputs were given, the function would return boolean values for each of the inputs respectively. But that is not the case."
      ]
    },
    {
      "cell_type": "markdown",
      "metadata": {
        "id": "d7CXax46HNJh"
      },
      "source": [
        "Closing comments about when to use this function: \\\n",
        "\n",
        "Quickly finding out whether a given variable contains complex values or not."
      ]
    },
    {
      "cell_type": "markdown",
      "metadata": {
        "id": "qZzSwlmtHNJh"
      },
      "source": [
        "Let's save our work using Jovian before continuing."
      ]
    },
    {
      "cell_type": "code",
      "execution_count": null,
      "metadata": {
        "colab": {
          "base_uri": "https://localhost:8080/"
        },
        "id": "ptgI1uq2HNJi",
        "outputId": "85672f66-a2a5-4ceb-c3b5-a8d344147939"
      },
      "outputs": [
        {
          "name": "stdout",
          "output_type": "stream",
          "text": [
            "\u001b[?25l     \u001b[90m━━━━━━━━━━━━━━━━━━━━━━━━━━━━━━━━━━━━━━━━\u001b[0m \u001b[32m0.0/68.6 kB\u001b[0m \u001b[31m?\u001b[0m eta \u001b[36m-:--:--\u001b[0m\r",
            "\u001b[2K     \u001b[90m━━━━━━━━━━━━━━━━━━━━━━━━━━━━━━━━━━━━━━━━\u001b[0m \u001b[32m68.6/68.6 kB\u001b[0m \u001b[31m2.5 MB/s\u001b[0m eta \u001b[36m0:00:00\u001b[0m\n",
            "\u001b[?25h  Preparing metadata (setup.py) ... \u001b[?25l\u001b[?25hdone\n",
            "  Building wheel for uuid (setup.py) ... \u001b[?25l\u001b[?25hdone\n"
          ]
        }
      ],
      "source": [
        "!pip install jovian --upgrade --quiet"
      ]
    },
    {
      "cell_type": "code",
      "execution_count": null,
      "metadata": {
        "id": "bPaWUSTIHNJi"
      },
      "outputs": [],
      "source": [
        "import jovian"
      ]
    },
    {
      "cell_type": "code",
      "execution_count": null,
      "metadata": {
        "colab": {
          "base_uri": "https://localhost:8080/"
        },
        "id": "qBf0ohEkHNJi",
        "outputId": "579def09-6ec6-42d1-ab67-280a94bc9f89"
      },
      "outputs": [
        {
          "name": "stdout",
          "output_type": "stream",
          "text": [
            "[jovian] Detected Colab notebook...\u001b[0m\n",
            "[jovian] jovian.commit() is no longer required on Google Colab. If you ran this notebook from Jovian, \n",
            "then just save this file in Colab using Ctrl+S/Cmd+S and it will be updated on Jovian. \n",
            "Also, you can also delete this cell, it's no longer necessary.\u001b[0m\n"
          ]
        }
      ],
      "source": [
        "jovian.commit(project='01-tensor-operations')"
      ]
    },
    {
      "cell_type": "markdown",
      "metadata": {
        "id": "QJO8eczsHNJi"
      },
      "source": [
        "## Function 2 - `torch.from_numpy()`\n",
        "\n",
        "Creates a Tensor from a numpy.ndarray."
      ]
    },
    {
      "cell_type": "code",
      "execution_count": null,
      "metadata": {
        "id": "PqKu2Sx2PIbA"
      },
      "outputs": [],
      "source": [
        "import numpy as np"
      ]
    },
    {
      "cell_type": "code",
      "execution_count": null,
      "metadata": {
        "colab": {
          "base_uri": "https://localhost:8080/"
        },
        "id": "MyWD7eC9HNJi",
        "outputId": "bed98687-3b39-407e-e03d-c2489c320ce1"
      },
      "outputs": [
        {
          "data": {
            "text/plain": [
              "tensor([1, 2, 3])"
            ]
          },
          "execution_count": 12,
          "metadata": {},
          "output_type": "execute_result"
        }
      ],
      "source": [
        "# Example 1 - working\n",
        "a = np.array([1, 2, 3])\n",
        "t = torch.from_numpy(a)\n",
        "t"
      ]
    },
    {
      "cell_type": "markdown",
      "metadata": {
        "id": "by6bHOsAHNJj"
      },
      "source": [
        "Explanation about example: \\\n",
        "\n",
        "'a' is a 1-dimensional numpy array containing 3 elements. \\\n",
        "When 'a' is passed as a parameter into the function `torch.from_numpy()`, we get the same array, but with the datatype changed to a tensor datatype."
      ]
    },
    {
      "cell_type": "code",
      "execution_count": null,
      "metadata": {
        "colab": {
          "base_uri": "https://localhost:8080/"
        },
        "id": "Q_uVmtzXHNJj",
        "outputId": "27268b6b-ad8d-4c3e-e697-a7582290ffa5"
      },
      "outputs": [
        {
          "data": {
            "text/plain": [
              "tensor([[ 1, -1,  3],\n",
              "        [ 4,  5,  6]])"
            ]
          },
          "execution_count": 13,
          "metadata": {},
          "output_type": "execute_result"
        }
      ],
      "source": [
        "# Example 2 - working\n",
        "a = np.array([[1, 2, 3], [4, 5, 6]])\n",
        "t = torch.from_numpy(a)\n",
        "t[0][1] = -1\n",
        "t\n"
      ]
    },
    {
      "cell_type": "markdown",
      "metadata": {
        "id": "nD5s4j_xHNJj"
      },
      "source": [
        "Explanation about example: \\\n",
        "\n",
        "'a' is a 2-dimensional numpy array containing 2 1-dimensional arrays of 2 elements each. \\\n",
        "\n",
        "When 'a' is passed as a parameter into the function `torch.from_numpy()`, we get the same array, but with the datatype changed to a tensor datatype. \\\n",
        "\n",
        "The values can be modified in the newly created tensor array, meaning this function produces a writable tensor from a numpy array."
      ]
    },
    {
      "cell_type": "code",
      "execution_count": null,
      "metadata": {
        "colab": {
          "base_uri": "https://localhost:8080/",
          "height": 217
        },
        "id": "ZqJiFs3-HNJj",
        "outputId": "36801734-f443-473b-e288-ef540e3b93f2"
      },
      "outputs": [
        {
          "ename": "TypeError",
          "evalue": "ignored",
          "output_type": "error",
          "traceback": [
            "\u001b[0;31m---------------------------------------------------------------------------\u001b[0m",
            "\u001b[0;31mTypeError\u001b[0m                                 Traceback (most recent call last)",
            "\u001b[0;32m<ipython-input-14-3de834173530>\u001b[0m in \u001b[0;36m<cell line: 3>\u001b[0;34m()\u001b[0m\n\u001b[1;32m      1\u001b[0m \u001b[0;31m# Example 3 - breaking\u001b[0m\u001b[0;34m\u001b[0m\u001b[0;34m\u001b[0m\u001b[0m\n\u001b[1;32m      2\u001b[0m \u001b[0ma\u001b[0m \u001b[0;34m=\u001b[0m \u001b[0mnp\u001b[0m\u001b[0;34m.\u001b[0m\u001b[0marray\u001b[0m\u001b[0;34m(\u001b[0m\u001b[0;34m[\u001b[0m\u001b[0;36m1\u001b[0m\u001b[0;34m,\u001b[0m \u001b[0;36m2\u001b[0m\u001b[0;34m,\u001b[0m \u001b[0;36m3\u001b[0m\u001b[0;34m]\u001b[0m\u001b[0;34m)\u001b[0m\u001b[0;34m.\u001b[0m\u001b[0msetflags\u001b[0m\u001b[0;34m(\u001b[0m\u001b[0mwrite\u001b[0m \u001b[0;34m=\u001b[0m \u001b[0;32mFalse\u001b[0m\u001b[0;34m)\u001b[0m\u001b[0;34m\u001b[0m\u001b[0;34m\u001b[0m\u001b[0m\n\u001b[0;32m----> 3\u001b[0;31m \u001b[0mt\u001b[0m \u001b[0;34m=\u001b[0m \u001b[0mtorch\u001b[0m\u001b[0;34m.\u001b[0m\u001b[0mfrom_numpy\u001b[0m\u001b[0;34m(\u001b[0m\u001b[0ma\u001b[0m\u001b[0;34m)\u001b[0m\u001b[0;34m\u001b[0m\u001b[0;34m\u001b[0m\u001b[0m\n\u001b[0m\u001b[1;32m      4\u001b[0m \u001b[0mt\u001b[0m\u001b[0;34m\u001b[0m\u001b[0;34m\u001b[0m\u001b[0m\n",
            "\u001b[0;31mTypeError\u001b[0m: expected np.ndarray (got NoneType)"
          ]
        }
      ],
      "source": [
        "# Example 3 - breaking\n",
        "a = np.array([1, 2, 3]).setflags(write = False)\n",
        "t = torch.from_numpy(a)\n",
        "t"
      ]
    },
    {
      "cell_type": "markdown",
      "metadata": {
        "id": "Tp7uLUNfHNJj"
      },
      "source": [
        "Explanation about example: \\\n",
        "\n",
        "'a' is a 1-dimensional numpy array consisting of 3 elements. However, this time, we set the 'write' flag to `False`, meaning that we cannot modify 'a'. Hence, when we pass this as an input parameter to the function `torch.from_numpy()`, we get an error, since for the conversion to happen, we require a writable nump array."
      ]
    },
    {
      "cell_type": "markdown",
      "metadata": {
        "id": "YYWijl5wHNJj"
      },
      "source": [
        "Closing comments about when to use this function: \\\n",
        "\n",
        "Since tensor operations work only on data of tensor datatype, we can use this function to convert a numpy array to a tensor array. Incase if a datatype is not a numpy to begin with, we can convert it into a panda Dataframe using `pd.DataFrame()`, and convert it to numpy with `a.numpy()` and use the above function to get a tensor datatype."
      ]
    },
    {
      "cell_type": "code",
      "execution_count": null,
      "metadata": {
        "colab": {
          "base_uri": "https://localhost:8080/"
        },
        "id": "CkTXpavtHNJj",
        "outputId": "fe7b813a-92ed-445c-a8c9-6c7f41a35267"
      },
      "outputs": [
        {
          "name": "stdout",
          "output_type": "stream",
          "text": [
            "[jovian] Detected Colab notebook...\u001b[0m\n",
            "[jovian] jovian.commit() is no longer required on Google Colab. If you ran this notebook from Jovian, \n",
            "then just save this file in Colab using Ctrl+S/Cmd+S and it will be updated on Jovian. \n",
            "Also, you can also delete this cell, it's no longer necessary.\u001b[0m\n"
          ]
        }
      ],
      "source": [
        "jovian.commit(project='01-tensor-operations')"
      ]
    },
    {
      "cell_type": "markdown",
      "metadata": {
        "id": "IpOZTCr8HNJl"
      },
      "source": [
        "## Function 3 - torch.polar()\n",
        "\n",
        "Constructs a complex tensor whose elements are Cartesian coordinates corresponding to the polar coordinates with absolute value `abs` and angle `angle`. \\\n",
        "\n",
        "out=abs⋅cos(angle)+abs⋅sin(angle)⋅j"
      ]
    },
    {
      "cell_type": "code",
      "execution_count": null,
      "metadata": {
        "colab": {
          "base_uri": "https://localhost:8080/"
        },
        "id": "eRi6dUdQHNJm",
        "outputId": "e404067e-87e8-4c45-b07f-8de16c7d0c3e"
      },
      "outputs": [
        {
          "data": {
            "text/plain": [
              "tensor([ 6.1232e-17+1.0000j, -1.4142e+00-1.4142j], dtype=torch.complex128)"
            ]
          },
          "execution_count": 16,
          "metadata": {},
          "output_type": "execute_result"
        }
      ],
      "source": [
        "# Example 1 - working\n",
        "abs = torch.tensor([1, 2], dtype=torch.float64)\n",
        "angle = torch.tensor([np.pi / 2, 5 * np.pi / 4], dtype=torch.float64)\n",
        "z = torch.polar(abs, angle)\n",
        "z"
      ]
    },
    {
      "cell_type": "markdown",
      "metadata": {
        "id": "X0noNcycHNJm"
      },
      "source": [
        "Explanation about example: \\\n",
        "\n",
        "The Cartesian coordinates (1, 2) are converted to polar coordinates in a given angle interval of π/2 to 5π/4. \\\n",
        "\n",
        "The result is a polar coordinate of absolute value and angle 6.1232e-17+1.0000j and -1.4142e+00-1.4142j, respectively."
      ]
    },
    {
      "cell_type": "code",
      "execution_count": null,
      "metadata": {
        "colab": {
          "base_uri": "https://localhost:8080/"
        },
        "id": "12V9g0HHHNJm",
        "outputId": "e4a33f76-7fc0-47ee-8159-0733ceac3f51"
      },
      "outputs": [
        {
          "data": {
            "text/plain": [
              "tensor([ 1.0000+1.7321j, -4.0451-2.9389j], dtype=torch.complex128)"
            ]
          },
          "execution_count": 17,
          "metadata": {},
          "output_type": "execute_result"
        }
      ],
      "source": [
        "# Example 2 - working\n",
        "abs = torch.tensor([2, 5], dtype=torch.float64)\n",
        "angle = torch.tensor([np.pi / 3, 6 * np.pi / 5], dtype=torch.float64)\n",
        "z = torch.polar(abs, angle)\n",
        "z"
      ]
    },
    {
      "cell_type": "markdown",
      "metadata": {
        "id": "KUBMro4THNJm"
      },
      "source": [
        "Explanation about example: \\\n",
        "\n",
        "The Cartesian coordinates (2, 5) are converted to polar coordinates in a given angle interval of π/3 to 6π/5."
      ]
    },
    {
      "cell_type": "code",
      "execution_count": null,
      "metadata": {
        "colab": {
          "base_uri": "https://localhost:8080/",
          "height": 217
        },
        "id": "sRPm5ejUHNJm",
        "outputId": "1c169347-2d63-4519-c286-3efac8712655"
      },
      "outputs": [
        {
          "ename": "RuntimeError",
          "evalue": "ignored",
          "output_type": "error",
          "traceback": [
            "\u001b[0;31m---------------------------------------------------------------------------\u001b[0m",
            "\u001b[0;31mRuntimeError\u001b[0m                              Traceback (most recent call last)",
            "\u001b[0;32m<ipython-input-23-05089af0fc25>\u001b[0m in \u001b[0;36m<cell line: 4>\u001b[0;34m()\u001b[0m\n\u001b[1;32m      2\u001b[0m \u001b[0mabs\u001b[0m \u001b[0;34m=\u001b[0m \u001b[0mtorch\u001b[0m\u001b[0;34m.\u001b[0m\u001b[0mtensor\u001b[0m\u001b[0;34m(\u001b[0m\u001b[0;34m[\u001b[0m\u001b[0;36m2j\u001b[0m\u001b[0;34m,\u001b[0m \u001b[0;36m5\u001b[0m\u001b[0;34m]\u001b[0m\u001b[0;34m,\u001b[0m \u001b[0mdtype\u001b[0m\u001b[0;34m=\u001b[0m\u001b[0mtorch\u001b[0m\u001b[0;34m.\u001b[0m\u001b[0mcomplex64\u001b[0m\u001b[0;34m)\u001b[0m\u001b[0;34m\u001b[0m\u001b[0;34m\u001b[0m\u001b[0m\n\u001b[1;32m      3\u001b[0m \u001b[0mangle\u001b[0m \u001b[0;34m=\u001b[0m \u001b[0mtorch\u001b[0m\u001b[0;34m.\u001b[0m\u001b[0mtensor\u001b[0m\u001b[0;34m(\u001b[0m\u001b[0;34m[\u001b[0m\u001b[0mnp\u001b[0m\u001b[0;34m.\u001b[0m\u001b[0mpi\u001b[0m \u001b[0;34m/\u001b[0m \u001b[0;36m4\u001b[0m\u001b[0;34m,\u001b[0m \u001b[0;36m7\u001b[0m \u001b[0;34m*\u001b[0m \u001b[0mnp\u001b[0m\u001b[0;34m.\u001b[0m\u001b[0mpi\u001b[0m \u001b[0;34m/\u001b[0m \u001b[0;36m2\u001b[0m\u001b[0;34m]\u001b[0m\u001b[0;34m,\u001b[0m \u001b[0mdtype\u001b[0m\u001b[0;34m=\u001b[0m\u001b[0mtorch\u001b[0m\u001b[0;34m.\u001b[0m\u001b[0mfloat64\u001b[0m\u001b[0;34m)\u001b[0m\u001b[0;34m\u001b[0m\u001b[0;34m\u001b[0m\u001b[0m\n\u001b[0;32m----> 4\u001b[0;31m \u001b[0mz\u001b[0m \u001b[0;34m=\u001b[0m \u001b[0mtorch\u001b[0m\u001b[0;34m.\u001b[0m\u001b[0mpolar\u001b[0m\u001b[0;34m(\u001b[0m\u001b[0mabs\u001b[0m\u001b[0;34m,\u001b[0m \u001b[0mangle\u001b[0m\u001b[0;34m)\u001b[0m\u001b[0;34m\u001b[0m\u001b[0;34m\u001b[0m\u001b[0m\n\u001b[0m\u001b[1;32m      5\u001b[0m \u001b[0mz\u001b[0m\u001b[0;34m\u001b[0m\u001b[0;34m\u001b[0m\u001b[0m\n",
            "\u001b[0;31mRuntimeError\u001b[0m: Expected both inputs to be Half, Float or Double tensors but got ComplexFloat and Double"
          ]
        }
      ],
      "source": [
        "# Example 3 - breaking (to illustrate when it breaks)\n",
        "abs = torch.tensor([2j, 5], dtype=torch.complex64)\n",
        "angle = torch.tensor([np.pi / 4, 7 * np.pi / 2], dtype=torch.float64)\n",
        "z = torch.polar(abs, angle)\n",
        "z"
      ]
    },
    {
      "cell_type": "markdown",
      "metadata": {
        "id": "nrdNPexRHNJm"
      },
      "source": [
        "Explanation about example: \\\n",
        "\n",
        "We can only enter real values in the parameter of absolute values. Complex values are not permitted."
      ]
    },
    {
      "cell_type": "markdown",
      "metadata": {
        "id": "ASO3OEsXHNJm"
      },
      "source": [
        "Closing comments about when to use this function: \\\n",
        "\n",
        "Fast conversion of Cartesian coordinates into Polar coordinates."
      ]
    },
    {
      "cell_type": "code",
      "execution_count": null,
      "metadata": {
        "colab": {
          "base_uri": "https://localhost:8080/"
        },
        "id": "CNq2pU5XHNJm",
        "outputId": "ee77df6c-8b92-4776-d651-a2f607854581"
      },
      "outputs": [
        {
          "name": "stdout",
          "output_type": "stream",
          "text": [
            "[jovian] Detected Colab notebook...\u001b[0m\n",
            "[jovian] jovian.commit() is no longer required on Google Colab. If you ran this notebook from Jovian, \n",
            "then just save this file in Colab using Ctrl+S/Cmd+S and it will be updated on Jovian. \n",
            "Also, you can also delete this cell, it's no longer necessary.\u001b[0m\n"
          ]
        }
      ],
      "source": [
        "jovian.commit(project='01-tensor-operations')"
      ]
    },
    {
      "cell_type": "markdown",
      "metadata": {
        "id": "F6RYh4laHNJm"
      },
      "source": [
        "## Function 4 - torch.eye()\n",
        "\n",
        "Returns a 2-D tensor with ones on the diagonal and zeros elsewhere."
      ]
    },
    {
      "cell_type": "code",
      "execution_count": null,
      "metadata": {
        "colab": {
          "base_uri": "https://localhost:8080/"
        },
        "id": "nuLH8SARHNJn",
        "outputId": "b737f395-a7bb-4dc2-9cb7-0e5c745b4b2c"
      },
      "outputs": [
        {
          "data": {
            "text/plain": [
              "tensor([[1., 0., 0.],\n",
              "        [0., 1., 0.],\n",
              "        [0., 0., 1.]])"
            ]
          },
          "execution_count": 34,
          "metadata": {},
          "output_type": "execute_result"
        }
      ],
      "source": [
        "# Example 1 - working\n",
        "torch.eye(3)"
      ]
    },
    {
      "cell_type": "markdown",
      "metadata": {
        "id": "V8PfsHSUHNJn"
      },
      "source": [
        "Explanation about example: \\\n",
        "\n",
        "For an input of 3, we get three 1D arrays, with ones aligned to form a diagonal array."
      ]
    },
    {
      "cell_type": "code",
      "execution_count": null,
      "metadata": {
        "colab": {
          "base_uri": "https://localhost:8080/"
        },
        "id": "vBqzEqaCHNJn",
        "outputId": "db7973c5-80b0-4165-d583-d3e5ec22c93a"
      },
      "outputs": [
        {
          "data": {
            "text/plain": [
              "tensor([[1., 0., 0., 0.],\n",
              "        [0., 1., 0., 0.],\n",
              "        [0., 0., 1., 0.]])"
            ]
          },
          "execution_count": 36,
          "metadata": {},
          "output_type": "execute_result"
        }
      ],
      "source": [
        "# Example 2 - working\n",
        "torch.eye(3, 4)"
      ]
    },
    {
      "cell_type": "markdown",
      "metadata": {
        "id": "0veNpMfMHNJn"
      },
      "source": [
        "Explanation about example: \\\n",
        "\n",
        "Three 1D arrays with 4 elments in each, with diagonal elements having a value of one."
      ]
    },
    {
      "cell_type": "code",
      "execution_count": null,
      "metadata": {
        "colab": {
          "base_uri": "https://localhost:8080/",
          "height": 217
        },
        "id": "EIJl7GTQHNJr",
        "outputId": "6c1118be-4e53-4c24-824a-3856aa94888b"
      },
      "outputs": [
        {
          "ename": "TypeError",
          "evalue": "ignored",
          "output_type": "error",
          "traceback": [
            "\u001b[0;31m---------------------------------------------------------------------------\u001b[0m",
            "\u001b[0;31mTypeError\u001b[0m                                 Traceback (most recent call last)",
            "\u001b[0;32m<ipython-input-37-d83db7a59346>\u001b[0m in \u001b[0;36m<cell line: 2>\u001b[0;34m()\u001b[0m\n\u001b[1;32m      1\u001b[0m \u001b[0;31m# Example 3 - breaking (to illustrate when it breaks)\u001b[0m\u001b[0;34m\u001b[0m\u001b[0;34m\u001b[0m\u001b[0m\n\u001b[0;32m----> 2\u001b[0;31m \u001b[0mtorch\u001b[0m\u001b[0;34m.\u001b[0m\u001b[0meye\u001b[0m\u001b[0;34m(\u001b[0m\u001b[0;36m3\u001b[0m\u001b[0;34m,\u001b[0m \u001b[0;36m4\u001b[0m\u001b[0;34m,\u001b[0m \u001b[0;36m5\u001b[0m\u001b[0;34m)\u001b[0m\u001b[0;34m\u001b[0m\u001b[0;34m\u001b[0m\u001b[0m\n\u001b[0m",
            "\u001b[0;31mTypeError\u001b[0m: eye() received an invalid combination of arguments - got (int, int, int), but expected one of:\n * (int n, *, Tensor out, torch.dtype dtype, torch.layout layout, torch.device device, bool pin_memory, bool requires_grad)\n * (int n, int m, *, Tensor out, torch.dtype dtype, torch.layout layout, torch.device device, bool pin_memory, bool requires_grad)\n"
          ]
        }
      ],
      "source": [
        "# Example 3 - breaking (to illustrate when it breaks)\n",
        "torch.eye(3, 4, 5)"
      ]
    },
    {
      "cell_type": "markdown",
      "metadata": {
        "id": "p2rCVS-mHNJs"
      },
      "source": [
        "Explanation about example: \\\n",
        "\n",
        "We can only pass a 2D array parameters as input, or a single value denoting the size of the square 2D array. Diagonal arrays cannot be made for higher dimensional arrays."
      ]
    },
    {
      "cell_type": "markdown",
      "metadata": {
        "id": "0T4QzvTyHNJs"
      },
      "source": [
        "Closing comments about when to use this function: \\\n",
        "\n",
        "Initialising a diagonal array without mnually entering ones at diagonal positions in a zero array."
      ]
    },
    {
      "cell_type": "code",
      "execution_count": null,
      "metadata": {
        "colab": {
          "base_uri": "https://localhost:8080/"
        },
        "id": "VuAhSoh5HNJs",
        "outputId": "169bdc7a-cc42-4091-9881-5e5eaec5670b"
      },
      "outputs": [
        {
          "name": "stdout",
          "output_type": "stream",
          "text": [
            "[jovian] Detected Colab notebook...\u001b[0m\n",
            "[jovian] jovian.commit() is no longer required on Google Colab. If you ran this notebook from Jovian, \n",
            "then just save this file in Colab using Ctrl+S/Cmd+S and it will be updated on Jovian. \n",
            "Also, you can also delete this cell, it's no longer necessary.\u001b[0m\n"
          ]
        }
      ],
      "source": [
        "jovian.commit(project='01-tensor-operations')"
      ]
    },
    {
      "cell_type": "markdown",
      "metadata": {
        "id": "iBIKN7hUHNJs"
      },
      "source": [
        "## Function 5 - torch.adjoint()\n",
        "\n",
        "Returns a view of the tensor conjugated and with the last two dimensions transposed."
      ]
    },
    {
      "cell_type": "code",
      "execution_count": null,
      "metadata": {
        "colab": {
          "base_uri": "https://localhost:8080/"
        },
        "id": "Ca9rVVyDHNJs",
        "outputId": "dbfd4019-cded-4908-d9d6-da40483a9698"
      },
      "outputs": [
        {
          "data": {
            "text/plain": [
              "tensor([[0.+0.j, 1.+1.j],\n",
              "        [2.+2.j, 3.+3.j]])"
            ]
          },
          "execution_count": 46,
          "metadata": {},
          "output_type": "execute_result"
        }
      ],
      "source": [
        "# Example 1 - working\n",
        "x = torch.arange(4, dtype=torch.float)\n",
        "A = torch.complex(x, x).reshape(2, 2)\n",
        "A"
      ]
    },
    {
      "cell_type": "code",
      "execution_count": null,
      "metadata": {
        "colab": {
          "base_uri": "https://localhost:8080/"
        },
        "id": "zytEXz8hOGUf",
        "outputId": "5d03758d-585d-4079-c739-32d1fc5478d2"
      },
      "outputs": [
        {
          "data": {
            "text/plain": [
              "tensor([[0.-0.j, 2.-2.j],\n",
              "        [1.-1.j, 3.-3.j]])"
            ]
          },
          "execution_count": 47,
          "metadata": {},
          "output_type": "execute_result"
        }
      ],
      "source": [
        "A.adjoint()"
      ]
    },
    {
      "cell_type": "markdown",
      "metadata": {
        "id": "vhT_1OnnHNJs"
      },
      "source": [
        "Explanation about example: \\\n",
        "\n",
        "'x' is a torch array of elements 0, 1, 2, 3. \\\n",
        "'A' is a 2*2 2D array with the four integers from 0 to 3 written in complex form. \\\n",
        "`A.adjoint` gives the adjoint of array 'A'."
      ]
    },
    {
      "cell_type": "code",
      "execution_count": null,
      "metadata": {
        "colab": {
          "base_uri": "https://localhost:8080/"
        },
        "id": "8Xn4DylKHNJs",
        "outputId": "ccdf847b-9f45-41e0-a04f-ad7c97ad97c1"
      },
      "outputs": [
        {
          "data": {
            "text/plain": [
              "tensor([[[0.+0.j, 1.+1.j],\n",
              "         [2.+2.j, 3.+3.j]],\n",
              "\n",
              "        [[4.+4.j, 5.+5.j],\n",
              "         [6.+6.j, 7.+7.j]]])"
            ]
          },
          "execution_count": 51,
          "metadata": {},
          "output_type": "execute_result"
        }
      ],
      "source": [
        "# Example 2 - working\n",
        "x = torch.arange(8, dtype=torch.float)\n",
        "A = torch.complex(x, x).reshape(2, 2, 2)\n",
        "A"
      ]
    },
    {
      "cell_type": "code",
      "execution_count": null,
      "metadata": {
        "colab": {
          "base_uri": "https://localhost:8080/"
        },
        "id": "rSmeu7pMPAmD",
        "outputId": "7df39cf4-df68-4e10-836a-02952afc325e"
      },
      "outputs": [
        {
          "data": {
            "text/plain": [
              "tensor([[[0.-0.j, 2.-2.j],\n",
              "         [1.-1.j, 3.-3.j]],\n",
              "\n",
              "        [[4.-4.j, 6.-6.j],\n",
              "         [5.-5.j, 7.-7.j]]])"
            ]
          },
          "execution_count": 49,
          "metadata": {},
          "output_type": "execute_result"
        }
      ],
      "source": [
        "A.adjoint()"
      ]
    },
    {
      "cell_type": "markdown",
      "metadata": {
        "id": "uigDzaCrHNJt"
      },
      "source": [
        "Explanation about example: \\\n",
        "\n",
        "Similar to the above procedure, with the only difference being that array 'A' is now a 3D array, and the addjoint is calculated accordingly."
      ]
    },
    {
      "cell_type": "code",
      "execution_count": null,
      "metadata": {
        "colab": {
          "base_uri": "https://localhost:8080/",
          "height": 200
        },
        "id": "YA13PuUgHNJt",
        "outputId": "792c9a1f-1f76-48db-a8d3-c9935ab7db20"
      },
      "outputs": [
        {
          "ename": "RuntimeError",
          "evalue": "ignored",
          "output_type": "error",
          "traceback": [
            "\u001b[0;31m---------------------------------------------------------------------------\u001b[0m",
            "\u001b[0;31mRuntimeError\u001b[0m                              Traceback (most recent call last)",
            "\u001b[0;32m<ipython-input-52-ccb64e37f7b7>\u001b[0m in \u001b[0;36m<cell line: 3>\u001b[0;34m()\u001b[0m\n\u001b[1;32m      1\u001b[0m \u001b[0;31m# Example 3 - breaking (to illustrate when it breaks)\u001b[0m\u001b[0;34m\u001b[0m\u001b[0;34m\u001b[0m\u001b[0m\n\u001b[1;32m      2\u001b[0m \u001b[0mx\u001b[0m \u001b[0;34m=\u001b[0m \u001b[0mtorch\u001b[0m\u001b[0;34m.\u001b[0m\u001b[0marange\u001b[0m\u001b[0;34m(\u001b[0m\u001b[0;36m10\u001b[0m\u001b[0;34m,\u001b[0m \u001b[0mdtype\u001b[0m\u001b[0;34m=\u001b[0m\u001b[0mtorch\u001b[0m\u001b[0;34m.\u001b[0m\u001b[0mfloat\u001b[0m\u001b[0;34m)\u001b[0m\u001b[0;34m\u001b[0m\u001b[0;34m\u001b[0m\u001b[0m\n\u001b[0;32m----> 3\u001b[0;31m \u001b[0mx\u001b[0m\u001b[0;34m.\u001b[0m\u001b[0madjoint\u001b[0m\u001b[0;34m(\u001b[0m\u001b[0;34m)\u001b[0m\u001b[0;34m\u001b[0m\u001b[0;34m\u001b[0m\u001b[0m\n\u001b[0m",
            "\u001b[0;31mRuntimeError\u001b[0m: tensor.adjoint() is only supported on matrices or batches of matrices. Got 1-D tensor."
          ]
        }
      ],
      "source": [
        "# Example 3 - breaking (to illustrate when it breaks)\n",
        "x = torch.arange(10, dtype=torch.float)\n",
        "x.adjoint()"
      ]
    },
    {
      "cell_type": "markdown",
      "metadata": {
        "id": "peWqR8ddHNJt"
      },
      "source": [
        "Explanation about example: \\\n",
        "\n",
        "The adjoint operation works only on 2D or higher ordered arrays, but not on 1D arrays."
      ]
    },
    {
      "cell_type": "markdown",
      "metadata": {
        "id": "vgPWoGVRHNJt"
      },
      "source": [
        "Closing comments about when to use this function: \\\n",
        "\n",
        "Manually findng out the adjoint of a given matrix takes time since the formula/conversion has to be applied across all the elements. `torch.adjoint()` makes it easy to quickly find the adjoint of a matrix."
      ]
    },
    {
      "cell_type": "code",
      "execution_count": null,
      "metadata": {
        "colab": {
          "base_uri": "https://localhost:8080/"
        },
        "id": "ZsPbyrFlHNJt",
        "outputId": "39d92557-8799-4a15-9899-65588fed08e7"
      },
      "outputs": [
        {
          "name": "stdout",
          "output_type": "stream",
          "text": [
            "[jovian] Detected Colab notebook...\u001b[0m\n",
            "[jovian] jovian.commit() is no longer required on Google Colab. If you ran this notebook from Jovian, \n",
            "then just save this file in Colab using Ctrl+S/Cmd+S and it will be updated on Jovian. \n",
            "Also, you can also delete this cell, it's no longer necessary.\u001b[0m\n"
          ]
        }
      ],
      "source": [
        "jovian.commit(project='01-tensor-operations')"
      ]
    },
    {
      "cell_type": "markdown",
      "metadata": {
        "id": "waz08TpBHNJt"
      },
      "source": [
        "## Conclusion\n",
        "\n",
        "Not just the above 5 functions, there are many more useful functions available in the Pytorch tensor library. We only need the time to explore deeper into the unexplored part of this library.\n"
      ]
    },
    {
      "cell_type": "markdown",
      "metadata": {
        "id": "yI_d-ScGHNJt"
      },
      "source": [
        "## Reference Links\n",
        "Provide links to your references and other interesting articles about tensors\n",
        "* Official documentation for tensor operations: https://pytorch.org/docs/stable/torch.html\n"
      ]
    },
    {
      "cell_type": "code",
      "execution_count": null,
      "metadata": {
        "colab": {
          "base_uri": "https://localhost:8080/"
        },
        "id": "Qf45z0YkHNJu",
        "outputId": "7e51b18d-1b29-47b7-bd6e-2073f09f9b0e"
      },
      "outputs": [
        {
          "name": "stdout",
          "output_type": "stream",
          "text": [
            "[jovian] Detected Colab notebook...\u001b[0m\n",
            "[jovian] jovian.commit() is no longer required on Google Colab. If you ran this notebook from Jovian, \n",
            "then just save this file in Colab using Ctrl+S/Cmd+S and it will be updated on Jovian. \n",
            "Also, you can also delete this cell, it's no longer necessary.\u001b[0m\n"
          ]
        }
      ],
      "source": [
        "jovian.commit(project='01-tensor-operations')"
      ]
    },
    {
      "cell_type": "code",
      "execution_count": null,
      "metadata": {
        "id": "kHoGav3_HNJu"
      },
      "outputs": [],
      "source": []
    }
  ],
  "metadata": {
    "colab": {
      "provenance": [],
      "include_colab_link": true
    },
    "kernelspec": {
      "display_name": "Python 3",
      "language": "python",
      "name": "python3"
    },
    "language_info": {
      "codemirror_mode": {
        "name": "ipython",
        "version": 3
      },
      "file_extension": ".py",
      "mimetype": "text/x-python",
      "name": "python",
      "nbconvert_exporter": "python",
      "pygments_lexer": "ipython3",
      "version": "3.8.5"
    }
  },
  "nbformat": 4,
  "nbformat_minor": 0
}